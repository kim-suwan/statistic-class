{
  "nbformat": 4,
  "nbformat_minor": 0,
  "metadata": {
    "colab": {
      "name": "HW1.ipynb의 사본",
      "provenance": [],
      "toc_visible": true,
      "include_colab_link": true
    },
    "kernelspec": {
      "name": "ir",
      "display_name": "R"
    }
  },
  "cells": [
    {
      "cell_type": "markdown",
      "metadata": {
        "id": "view-in-github",
        "colab_type": "text"
      },
      "source": [
        "<a href=\"https://colab.research.google.com/github/kim-suwan/statistic-class/blob/main/HW1_ipynb.ipynb\" target=\"_parent\"><img src=\"https://colab.research.google.com/assets/colab-badge.svg\" alt=\"Open In Colab\"/></a>"
      ]
    },
    {
      "cell_type": "markdown",
      "metadata": {
        "id": "wVpB3_uNsIdv"
      },
      "source": [
        "## Homework1 \n",
        "\n",
        "by Name\n",
        "\n"
      ]
    },
    {
      "cell_type": "markdown",
      "metadata": {
        "id": "aRGFyEM_sRAG"
      },
      "source": [
        "loading tidyverse package"
      ]
    },
    {
      "cell_type": "code",
      "metadata": {
        "id": "Fd8azTo8H-qI"
      },
      "source": [
        "library(tidyverse)"
      ],
      "execution_count": null,
      "outputs": []
    },
    {
      "cell_type": "markdown",
      "metadata": {
        "id": "33yhaNVCsPxH"
      },
      "source": [
        "Install nycflights library"
      ]
    },
    {
      "cell_type": "code",
      "metadata": {
        "colab": {
          "base_uri": "https://localhost:8080/"
        },
        "id": "ow_RIRgBr4P9",
        "outputId": "07f6a630-c427-4e90-db7f-a44774abe417"
      },
      "source": [
        "install.packages(\"nycflights13\")"
      ],
      "execution_count": null,
      "outputs": [
        {
          "output_type": "stream",
          "text": [
            "Installing package into ‘/usr/local/lib/R/site-library’\n",
            "(as ‘lib’ is unspecified)\n",
            "\n"
          ],
          "name": "stderr"
        }
      ]
    },
    {
      "cell_type": "markdown",
      "metadata": {
        "id": "yOfLFTD-sYBg"
      },
      "source": [
        "loading nycflights data"
      ]
    },
    {
      "cell_type": "code",
      "metadata": {
        "id": "qhDxvxwcr73i"
      },
      "source": [
        "library(nycflights13)\n"
      ],
      "execution_count": null,
      "outputs": []
    },
    {
      "cell_type": "markdown",
      "metadata": {
        "id": "Q1URjHShsycC"
      },
      "source": [
        "## Add some coding practice using dplyr"
      ]
    },
    {
      "cell_type": "markdown",
      "metadata": {
        "id": "Awn2wTngs4Tf"
      },
      "source": [
        "## visualize using ggplot"
      ]
    },
    {
      "cell_type": "code",
      "metadata": {
        "id": "vAJe8Uz7sdFt",
        "colab": {
          "base_uri": "https://localhost:8080/",
          "height": 430
        },
        "outputId": "caf31de4-94c6-45d2-b043-81bbd3ef6fa3"
      },
      "source": [
        "flights[1:5,]"
      ],
      "execution_count": null,
      "outputs": [
        {
          "output_type": "display_data",
          "data": {
            "text/plain": [
              "  year month day dep_time sched_dep_time dep_delay arr_time sched_arr_time\n",
              "1 2013 1     1   517      515             2         830      819          \n",
              "2 2013 1     1   533      529             4         850      830          \n",
              "3 2013 1     1   542      540             2         923      850          \n",
              "4 2013 1     1   544      545            -1        1004     1022          \n",
              "5 2013 1     1   554      600            -6         812      837          \n",
              "  arr_delay carrier flight tailnum origin dest air_time distance hour minute\n",
              "1  11       UA      1545   N14228  EWR    IAH  227      1400     5    15    \n",
              "2  20       UA      1714   N24211  LGA    IAH  227      1416     5    29    \n",
              "3  33       AA      1141   N619AA  JFK    MIA  160      1089     5    40    \n",
              "4 -18       B6       725   N804JB  JFK    BQN  183      1576     5    45    \n",
              "5 -25       DL       461   N668DN  LGA    ATL  116       762     6     0    \n",
              "  time_hour          \n",
              "1 2013-01-01 05:00:00\n",
              "2 2013-01-01 05:00:00\n",
              "3 2013-01-01 05:00:00\n",
              "4 2013-01-01 05:00:00\n",
              "5 2013-01-01 06:00:00"
            ],
            "text/latex": "A tibble: 5 × 19\n\\begin{tabular}{lllllllllllllllllll}\n year & month & day & dep\\_time & sched\\_dep\\_time & dep\\_delay & arr\\_time & sched\\_arr\\_time & arr\\_delay & carrier & flight & tailnum & origin & dest & air\\_time & distance & hour & minute & time\\_hour\\\\\n <int> & <int> & <int> & <int> & <int> & <dbl> & <int> & <int> & <dbl> & <chr> & <int> & <chr> & <chr> & <chr> & <dbl> & <dbl> & <dbl> & <dbl> & <dttm>\\\\\n\\hline\n\t 2013 & 1 & 1 & 517 & 515 &  2 &  830 &  819 &  11 & UA & 1545 & N14228 & EWR & IAH & 227 & 1400 & 5 & 15 & 2013-01-01 05:00:00\\\\\n\t 2013 & 1 & 1 & 533 & 529 &  4 &  850 &  830 &  20 & UA & 1714 & N24211 & LGA & IAH & 227 & 1416 & 5 & 29 & 2013-01-01 05:00:00\\\\\n\t 2013 & 1 & 1 & 542 & 540 &  2 &  923 &  850 &  33 & AA & 1141 & N619AA & JFK & MIA & 160 & 1089 & 5 & 40 & 2013-01-01 05:00:00\\\\\n\t 2013 & 1 & 1 & 544 & 545 & -1 & 1004 & 1022 & -18 & B6 &  725 & N804JB & JFK & BQN & 183 & 1576 & 5 & 45 & 2013-01-01 05:00:00\\\\\n\t 2013 & 1 & 1 & 554 & 600 & -6 &  812 &  837 & -25 & DL &  461 & N668DN & LGA & ATL & 116 &  762 & 6 &  0 & 2013-01-01 06:00:00\\\\\n\\end{tabular}\n",
            "text/markdown": "\nA tibble: 5 × 19\n\n| year &lt;int&gt; | month &lt;int&gt; | day &lt;int&gt; | dep_time &lt;int&gt; | sched_dep_time &lt;int&gt; | dep_delay &lt;dbl&gt; | arr_time &lt;int&gt; | sched_arr_time &lt;int&gt; | arr_delay &lt;dbl&gt; | carrier &lt;chr&gt; | flight &lt;int&gt; | tailnum &lt;chr&gt; | origin &lt;chr&gt; | dest &lt;chr&gt; | air_time &lt;dbl&gt; | distance &lt;dbl&gt; | hour &lt;dbl&gt; | minute &lt;dbl&gt; | time_hour &lt;dttm&gt; |\n|---|---|---|---|---|---|---|---|---|---|---|---|---|---|---|---|---|---|---|\n| 2013 | 1 | 1 | 517 | 515 |  2 |  830 |  819 |  11 | UA | 1545 | N14228 | EWR | IAH | 227 | 1400 | 5 | 15 | 2013-01-01 05:00:00 |\n| 2013 | 1 | 1 | 533 | 529 |  4 |  850 |  830 |  20 | UA | 1714 | N24211 | LGA | IAH | 227 | 1416 | 5 | 29 | 2013-01-01 05:00:00 |\n| 2013 | 1 | 1 | 542 | 540 |  2 |  923 |  850 |  33 | AA | 1141 | N619AA | JFK | MIA | 160 | 1089 | 5 | 40 | 2013-01-01 05:00:00 |\n| 2013 | 1 | 1 | 544 | 545 | -1 | 1004 | 1022 | -18 | B6 |  725 | N804JB | JFK | BQN | 183 | 1576 | 5 | 45 | 2013-01-01 05:00:00 |\n| 2013 | 1 | 1 | 554 | 600 | -6 |  812 |  837 | -25 | DL |  461 | N668DN | LGA | ATL | 116 |  762 | 6 |  0 | 2013-01-01 06:00:00 |\n\n",
            "text/html": [
              "<table class=\"dataframe\">\n",
              "<caption>A tibble: 5 × 19</caption>\n",
              "<thead>\n",
              "\t<tr><th scope=col>year</th><th scope=col>month</th><th scope=col>day</th><th scope=col>dep_time</th><th scope=col>sched_dep_time</th><th scope=col>dep_delay</th><th scope=col>arr_time</th><th scope=col>sched_arr_time</th><th scope=col>arr_delay</th><th scope=col>carrier</th><th scope=col>flight</th><th scope=col>tailnum</th><th scope=col>origin</th><th scope=col>dest</th><th scope=col>air_time</th><th scope=col>distance</th><th scope=col>hour</th><th scope=col>minute</th><th scope=col>time_hour</th></tr>\n",
              "\t<tr><th scope=col>&lt;int&gt;</th><th scope=col>&lt;int&gt;</th><th scope=col>&lt;int&gt;</th><th scope=col>&lt;int&gt;</th><th scope=col>&lt;int&gt;</th><th scope=col>&lt;dbl&gt;</th><th scope=col>&lt;int&gt;</th><th scope=col>&lt;int&gt;</th><th scope=col>&lt;dbl&gt;</th><th scope=col>&lt;chr&gt;</th><th scope=col>&lt;int&gt;</th><th scope=col>&lt;chr&gt;</th><th scope=col>&lt;chr&gt;</th><th scope=col>&lt;chr&gt;</th><th scope=col>&lt;dbl&gt;</th><th scope=col>&lt;dbl&gt;</th><th scope=col>&lt;dbl&gt;</th><th scope=col>&lt;dbl&gt;</th><th scope=col>&lt;dttm&gt;</th></tr>\n",
              "</thead>\n",
              "<tbody>\n",
              "\t<tr><td>2013</td><td>1</td><td>1</td><td>517</td><td>515</td><td> 2</td><td> 830</td><td> 819</td><td> 11</td><td>UA</td><td>1545</td><td>N14228</td><td>EWR</td><td>IAH</td><td>227</td><td>1400</td><td>5</td><td>15</td><td>2013-01-01 05:00:00</td></tr>\n",
              "\t<tr><td>2013</td><td>1</td><td>1</td><td>533</td><td>529</td><td> 4</td><td> 850</td><td> 830</td><td> 20</td><td>UA</td><td>1714</td><td>N24211</td><td>LGA</td><td>IAH</td><td>227</td><td>1416</td><td>5</td><td>29</td><td>2013-01-01 05:00:00</td></tr>\n",
              "\t<tr><td>2013</td><td>1</td><td>1</td><td>542</td><td>540</td><td> 2</td><td> 923</td><td> 850</td><td> 33</td><td>AA</td><td>1141</td><td>N619AA</td><td>JFK</td><td>MIA</td><td>160</td><td>1089</td><td>5</td><td>40</td><td>2013-01-01 05:00:00</td></tr>\n",
              "\t<tr><td>2013</td><td>1</td><td>1</td><td>544</td><td>545</td><td>-1</td><td>1004</td><td>1022</td><td>-18</td><td>B6</td><td> 725</td><td>N804JB</td><td>JFK</td><td>BQN</td><td>183</td><td>1576</td><td>5</td><td>45</td><td>2013-01-01 05:00:00</td></tr>\n",
              "\t<tr><td>2013</td><td>1</td><td>1</td><td>554</td><td>600</td><td>-6</td><td> 812</td><td> 837</td><td>-25</td><td>DL</td><td> 461</td><td>N668DN</td><td>LGA</td><td>ATL</td><td>116</td><td> 762</td><td>6</td><td> 0</td><td>2013-01-01 06:00:00</td></tr>\n",
              "</tbody>\n",
              "</table>\n"
            ]
          },
          "metadata": {
            "tags": []
          }
        }
      ]
    },
    {
      "cell_type": "code",
      "metadata": {
        "colab": {
          "base_uri": "https://localhost:8080/",
          "height": 493
        },
        "id": "KSQnmojiwxnl",
        "outputId": "051a4894-8921-4ff1-bfa5-e2ad46d9579d"
      },
      "source": [
        "filter(flights, month==9, day==1) %>% head()"
      ],
      "execution_count": null,
      "outputs": [
        {
          "output_type": "display_data",
          "data": {
            "text/plain": [
              "  year month day dep_time sched_dep_time dep_delay arr_time sched_arr_time\n",
              "1 2013 9     1     9      2359            10       343       340          \n",
              "2 2013 9     1   117      2245           152       218      2359          \n",
              "3 2013 9     1   508       516            -8       717       800          \n",
              "4 2013 9     1   537       545            -8       849       855          \n",
              "5 2013 9     1   537       545            -8       906       921          \n",
              "6 2013 9     1   549       600           -11       815       850          \n",
              "  arr_delay carrier flight tailnum origin dest air_time distance hour minute\n",
              "1   3       B6       839   N663JB  JFK    BQN  196      1576     23   59    \n",
              "2 139       B6      1816   N216JB  JFK    SYR   44       209     22   45    \n",
              "3 -43       UA      1545   N57869  EWR    IAH  170      1400      5   16    \n",
              "4  -6       AA       701   N613AA  JFK    MIA  148      1089      5   45    \n",
              "5 -15       B6       939   N658JB  JFK    BQN  191      1576      5   45    \n",
              "6 -35       UA      1115   N27213  EWR    TPA  133       997      6    0    \n",
              "  time_hour          \n",
              "1 2013-09-01 23:00:00\n",
              "2 2013-09-01 22:00:00\n",
              "3 2013-09-01 05:00:00\n",
              "4 2013-09-01 05:00:00\n",
              "5 2013-09-01 05:00:00\n",
              "6 2013-09-01 06:00:00"
            ],
            "text/latex": "A tibble: 6 × 19\n\\begin{tabular}{lllllllllllllllllll}\n year & month & day & dep\\_time & sched\\_dep\\_time & dep\\_delay & arr\\_time & sched\\_arr\\_time & arr\\_delay & carrier & flight & tailnum & origin & dest & air\\_time & distance & hour & minute & time\\_hour\\\\\n <int> & <int> & <int> & <int> & <int> & <dbl> & <int> & <int> & <dbl> & <chr> & <int> & <chr> & <chr> & <chr> & <dbl> & <dbl> & <dbl> & <dbl> & <dttm>\\\\\n\\hline\n\t 2013 & 9 & 1 &   9 & 2359 &  10 & 343 &  340 &   3 & B6 &  839 & N663JB & JFK & BQN & 196 & 1576 & 23 & 59 & 2013-09-01 23:00:00\\\\\n\t 2013 & 9 & 1 & 117 & 2245 & 152 & 218 & 2359 & 139 & B6 & 1816 & N216JB & JFK & SYR &  44 &  209 & 22 & 45 & 2013-09-01 22:00:00\\\\\n\t 2013 & 9 & 1 & 508 &  516 &  -8 & 717 &  800 & -43 & UA & 1545 & N57869 & EWR & IAH & 170 & 1400 &  5 & 16 & 2013-09-01 05:00:00\\\\\n\t 2013 & 9 & 1 & 537 &  545 &  -8 & 849 &  855 &  -6 & AA &  701 & N613AA & JFK & MIA & 148 & 1089 &  5 & 45 & 2013-09-01 05:00:00\\\\\n\t 2013 & 9 & 1 & 537 &  545 &  -8 & 906 &  921 & -15 & B6 &  939 & N658JB & JFK & BQN & 191 & 1576 &  5 & 45 & 2013-09-01 05:00:00\\\\\n\t 2013 & 9 & 1 & 549 &  600 & -11 & 815 &  850 & -35 & UA & 1115 & N27213 & EWR & TPA & 133 &  997 &  6 &  0 & 2013-09-01 06:00:00\\\\\n\\end{tabular}\n",
            "text/markdown": "\nA tibble: 6 × 19\n\n| year &lt;int&gt; | month &lt;int&gt; | day &lt;int&gt; | dep_time &lt;int&gt; | sched_dep_time &lt;int&gt; | dep_delay &lt;dbl&gt; | arr_time &lt;int&gt; | sched_arr_time &lt;int&gt; | arr_delay &lt;dbl&gt; | carrier &lt;chr&gt; | flight &lt;int&gt; | tailnum &lt;chr&gt; | origin &lt;chr&gt; | dest &lt;chr&gt; | air_time &lt;dbl&gt; | distance &lt;dbl&gt; | hour &lt;dbl&gt; | minute &lt;dbl&gt; | time_hour &lt;dttm&gt; |\n|---|---|---|---|---|---|---|---|---|---|---|---|---|---|---|---|---|---|---|\n| 2013 | 9 | 1 |   9 | 2359 |  10 | 343 |  340 |   3 | B6 |  839 | N663JB | JFK | BQN | 196 | 1576 | 23 | 59 | 2013-09-01 23:00:00 |\n| 2013 | 9 | 1 | 117 | 2245 | 152 | 218 | 2359 | 139 | B6 | 1816 | N216JB | JFK | SYR |  44 |  209 | 22 | 45 | 2013-09-01 22:00:00 |\n| 2013 | 9 | 1 | 508 |  516 |  -8 | 717 |  800 | -43 | UA | 1545 | N57869 | EWR | IAH | 170 | 1400 |  5 | 16 | 2013-09-01 05:00:00 |\n| 2013 | 9 | 1 | 537 |  545 |  -8 | 849 |  855 |  -6 | AA |  701 | N613AA | JFK | MIA | 148 | 1089 |  5 | 45 | 2013-09-01 05:00:00 |\n| 2013 | 9 | 1 | 537 |  545 |  -8 | 906 |  921 | -15 | B6 |  939 | N658JB | JFK | BQN | 191 | 1576 |  5 | 45 | 2013-09-01 05:00:00 |\n| 2013 | 9 | 1 | 549 |  600 | -11 | 815 |  850 | -35 | UA | 1115 | N27213 | EWR | TPA | 133 |  997 |  6 |  0 | 2013-09-01 06:00:00 |\n\n",
            "text/html": [
              "<table class=\"dataframe\">\n",
              "<caption>A tibble: 6 × 19</caption>\n",
              "<thead>\n",
              "\t<tr><th scope=col>year</th><th scope=col>month</th><th scope=col>day</th><th scope=col>dep_time</th><th scope=col>sched_dep_time</th><th scope=col>dep_delay</th><th scope=col>arr_time</th><th scope=col>sched_arr_time</th><th scope=col>arr_delay</th><th scope=col>carrier</th><th scope=col>flight</th><th scope=col>tailnum</th><th scope=col>origin</th><th scope=col>dest</th><th scope=col>air_time</th><th scope=col>distance</th><th scope=col>hour</th><th scope=col>minute</th><th scope=col>time_hour</th></tr>\n",
              "\t<tr><th scope=col>&lt;int&gt;</th><th scope=col>&lt;int&gt;</th><th scope=col>&lt;int&gt;</th><th scope=col>&lt;int&gt;</th><th scope=col>&lt;int&gt;</th><th scope=col>&lt;dbl&gt;</th><th scope=col>&lt;int&gt;</th><th scope=col>&lt;int&gt;</th><th scope=col>&lt;dbl&gt;</th><th scope=col>&lt;chr&gt;</th><th scope=col>&lt;int&gt;</th><th scope=col>&lt;chr&gt;</th><th scope=col>&lt;chr&gt;</th><th scope=col>&lt;chr&gt;</th><th scope=col>&lt;dbl&gt;</th><th scope=col>&lt;dbl&gt;</th><th scope=col>&lt;dbl&gt;</th><th scope=col>&lt;dbl&gt;</th><th scope=col>&lt;dttm&gt;</th></tr>\n",
              "</thead>\n",
              "<tbody>\n",
              "\t<tr><td>2013</td><td>9</td><td>1</td><td>  9</td><td>2359</td><td> 10</td><td>343</td><td> 340</td><td>  3</td><td>B6</td><td> 839</td><td>N663JB</td><td>JFK</td><td>BQN</td><td>196</td><td>1576</td><td>23</td><td>59</td><td>2013-09-01 23:00:00</td></tr>\n",
              "\t<tr><td>2013</td><td>9</td><td>1</td><td>117</td><td>2245</td><td>152</td><td>218</td><td>2359</td><td>139</td><td>B6</td><td>1816</td><td>N216JB</td><td>JFK</td><td>SYR</td><td> 44</td><td> 209</td><td>22</td><td>45</td><td>2013-09-01 22:00:00</td></tr>\n",
              "\t<tr><td>2013</td><td>9</td><td>1</td><td>508</td><td> 516</td><td> -8</td><td>717</td><td> 800</td><td>-43</td><td>UA</td><td>1545</td><td>N57869</td><td>EWR</td><td>IAH</td><td>170</td><td>1400</td><td> 5</td><td>16</td><td>2013-09-01 05:00:00</td></tr>\n",
              "\t<tr><td>2013</td><td>9</td><td>1</td><td>537</td><td> 545</td><td> -8</td><td>849</td><td> 855</td><td> -6</td><td>AA</td><td> 701</td><td>N613AA</td><td>JFK</td><td>MIA</td><td>148</td><td>1089</td><td> 5</td><td>45</td><td>2013-09-01 05:00:00</td></tr>\n",
              "\t<tr><td>2013</td><td>9</td><td>1</td><td>537</td><td> 545</td><td> -8</td><td>906</td><td> 921</td><td>-15</td><td>B6</td><td> 939</td><td>N658JB</td><td>JFK</td><td>BQN</td><td>191</td><td>1576</td><td> 5</td><td>45</td><td>2013-09-01 05:00:00</td></tr>\n",
              "\t<tr><td>2013</td><td>9</td><td>1</td><td>549</td><td> 600</td><td>-11</td><td>815</td><td> 850</td><td>-35</td><td>UA</td><td>1115</td><td>N27213</td><td>EWR</td><td>TPA</td><td>133</td><td> 997</td><td> 6</td><td> 0</td><td>2013-09-01 06:00:00</td></tr>\n",
              "</tbody>\n",
              "</table>\n"
            ]
          },
          "metadata": {
            "tags": []
          }
        }
      ]
    },
    {
      "cell_type": "code",
      "metadata": {
        "colab": {
          "base_uri": "https://localhost:8080/",
          "height": 493
        },
        "id": "0e6uJr4IxZpG",
        "outputId": "d6998fe0-91e9-42e6-ce0f-c7aed5392841"
      },
      "source": [
        "flights %>% filter(month==9 & day==10) %>% filter(dest=='ORD')%>% head()"
      ],
      "execution_count": null,
      "outputs": [
        {
          "output_type": "display_data",
          "data": {
            "text/plain": [
              "  year month day dep_time sched_dep_time dep_delay arr_time sched_arr_time\n",
              "1 2013 9     10  555      600            -5        713      730           \n",
              "2 2013 9     10  555      600            -5        708      722           \n",
              "3 2013 9     10  559      600            -1        715      715           \n",
              "4 2013 9     10  605      605             0        719      734           \n",
              "5 2013 9     10  623      630            -7        744      753           \n",
              "6 2013 9     10  639      630             9        804      805           \n",
              "  arr_delay carrier flight tailnum origin dest air_time distance hour minute\n",
              "1 -17       AA       301   N4XTAA  LGA    ORD  107      733      6     0    \n",
              "2 -14       UA       681   N852UA  LGA    ORD  107      733      6     0    \n",
              "3   0       MQ      3267   N511MQ  EWR    ORD  108      719      6     0    \n",
              "4 -15       UA      1622   N37422  EWR    ORD  102      719      6     5    \n",
              "5  -9       B6       905   N746JB  JFK    ORD  108      740      6    30    \n",
              "6  -1       AA       303   N576AA  LGA    ORD  109      733      6    30    \n",
              "  time_hour          \n",
              "1 2013-09-10 06:00:00\n",
              "2 2013-09-10 06:00:00\n",
              "3 2013-09-10 06:00:00\n",
              "4 2013-09-10 06:00:00\n",
              "5 2013-09-10 06:00:00\n",
              "6 2013-09-10 06:00:00"
            ],
            "text/latex": "A tibble: 6 × 19\n\\begin{tabular}{lllllllllllllllllll}\n year & month & day & dep\\_time & sched\\_dep\\_time & dep\\_delay & arr\\_time & sched\\_arr\\_time & arr\\_delay & carrier & flight & tailnum & origin & dest & air\\_time & distance & hour & minute & time\\_hour\\\\\n <int> & <int> & <int> & <int> & <int> & <dbl> & <int> & <int> & <dbl> & <chr> & <int> & <chr> & <chr> & <chr> & <dbl> & <dbl> & <dbl> & <dbl> & <dttm>\\\\\n\\hline\n\t 2013 & 9 & 10 & 555 & 600 & -5 & 713 & 730 & -17 & AA &  301 & N4XTAA & LGA & ORD & 107 & 733 & 6 &  0 & 2013-09-10 06:00:00\\\\\n\t 2013 & 9 & 10 & 555 & 600 & -5 & 708 & 722 & -14 & UA &  681 & N852UA & LGA & ORD & 107 & 733 & 6 &  0 & 2013-09-10 06:00:00\\\\\n\t 2013 & 9 & 10 & 559 & 600 & -1 & 715 & 715 &   0 & MQ & 3267 & N511MQ & EWR & ORD & 108 & 719 & 6 &  0 & 2013-09-10 06:00:00\\\\\n\t 2013 & 9 & 10 & 605 & 605 &  0 & 719 & 734 & -15 & UA & 1622 & N37422 & EWR & ORD & 102 & 719 & 6 &  5 & 2013-09-10 06:00:00\\\\\n\t 2013 & 9 & 10 & 623 & 630 & -7 & 744 & 753 &  -9 & B6 &  905 & N746JB & JFK & ORD & 108 & 740 & 6 & 30 & 2013-09-10 06:00:00\\\\\n\t 2013 & 9 & 10 & 639 & 630 &  9 & 804 & 805 &  -1 & AA &  303 & N576AA & LGA & ORD & 109 & 733 & 6 & 30 & 2013-09-10 06:00:00\\\\\n\\end{tabular}\n",
            "text/markdown": "\nA tibble: 6 × 19\n\n| year &lt;int&gt; | month &lt;int&gt; | day &lt;int&gt; | dep_time &lt;int&gt; | sched_dep_time &lt;int&gt; | dep_delay &lt;dbl&gt; | arr_time &lt;int&gt; | sched_arr_time &lt;int&gt; | arr_delay &lt;dbl&gt; | carrier &lt;chr&gt; | flight &lt;int&gt; | tailnum &lt;chr&gt; | origin &lt;chr&gt; | dest &lt;chr&gt; | air_time &lt;dbl&gt; | distance &lt;dbl&gt; | hour &lt;dbl&gt; | minute &lt;dbl&gt; | time_hour &lt;dttm&gt; |\n|---|---|---|---|---|---|---|---|---|---|---|---|---|---|---|---|---|---|---|\n| 2013 | 9 | 10 | 555 | 600 | -5 | 713 | 730 | -17 | AA |  301 | N4XTAA | LGA | ORD | 107 | 733 | 6 |  0 | 2013-09-10 06:00:00 |\n| 2013 | 9 | 10 | 555 | 600 | -5 | 708 | 722 | -14 | UA |  681 | N852UA | LGA | ORD | 107 | 733 | 6 |  0 | 2013-09-10 06:00:00 |\n| 2013 | 9 | 10 | 559 | 600 | -1 | 715 | 715 |   0 | MQ | 3267 | N511MQ | EWR | ORD | 108 | 719 | 6 |  0 | 2013-09-10 06:00:00 |\n| 2013 | 9 | 10 | 605 | 605 |  0 | 719 | 734 | -15 | UA | 1622 | N37422 | EWR | ORD | 102 | 719 | 6 |  5 | 2013-09-10 06:00:00 |\n| 2013 | 9 | 10 | 623 | 630 | -7 | 744 | 753 |  -9 | B6 |  905 | N746JB | JFK | ORD | 108 | 740 | 6 | 30 | 2013-09-10 06:00:00 |\n| 2013 | 9 | 10 | 639 | 630 |  9 | 804 | 805 |  -1 | AA |  303 | N576AA | LGA | ORD | 109 | 733 | 6 | 30 | 2013-09-10 06:00:00 |\n\n",
            "text/html": [
              "<table class=\"dataframe\">\n",
              "<caption>A tibble: 6 × 19</caption>\n",
              "<thead>\n",
              "\t<tr><th scope=col>year</th><th scope=col>month</th><th scope=col>day</th><th scope=col>dep_time</th><th scope=col>sched_dep_time</th><th scope=col>dep_delay</th><th scope=col>arr_time</th><th scope=col>sched_arr_time</th><th scope=col>arr_delay</th><th scope=col>carrier</th><th scope=col>flight</th><th scope=col>tailnum</th><th scope=col>origin</th><th scope=col>dest</th><th scope=col>air_time</th><th scope=col>distance</th><th scope=col>hour</th><th scope=col>minute</th><th scope=col>time_hour</th></tr>\n",
              "\t<tr><th scope=col>&lt;int&gt;</th><th scope=col>&lt;int&gt;</th><th scope=col>&lt;int&gt;</th><th scope=col>&lt;int&gt;</th><th scope=col>&lt;int&gt;</th><th scope=col>&lt;dbl&gt;</th><th scope=col>&lt;int&gt;</th><th scope=col>&lt;int&gt;</th><th scope=col>&lt;dbl&gt;</th><th scope=col>&lt;chr&gt;</th><th scope=col>&lt;int&gt;</th><th scope=col>&lt;chr&gt;</th><th scope=col>&lt;chr&gt;</th><th scope=col>&lt;chr&gt;</th><th scope=col>&lt;dbl&gt;</th><th scope=col>&lt;dbl&gt;</th><th scope=col>&lt;dbl&gt;</th><th scope=col>&lt;dbl&gt;</th><th scope=col>&lt;dttm&gt;</th></tr>\n",
              "</thead>\n",
              "<tbody>\n",
              "\t<tr><td>2013</td><td>9</td><td>10</td><td>555</td><td>600</td><td>-5</td><td>713</td><td>730</td><td>-17</td><td>AA</td><td> 301</td><td>N4XTAA</td><td>LGA</td><td>ORD</td><td>107</td><td>733</td><td>6</td><td> 0</td><td>2013-09-10 06:00:00</td></tr>\n",
              "\t<tr><td>2013</td><td>9</td><td>10</td><td>555</td><td>600</td><td>-5</td><td>708</td><td>722</td><td>-14</td><td>UA</td><td> 681</td><td>N852UA</td><td>LGA</td><td>ORD</td><td>107</td><td>733</td><td>6</td><td> 0</td><td>2013-09-10 06:00:00</td></tr>\n",
              "\t<tr><td>2013</td><td>9</td><td>10</td><td>559</td><td>600</td><td>-1</td><td>715</td><td>715</td><td>  0</td><td>MQ</td><td>3267</td><td>N511MQ</td><td>EWR</td><td>ORD</td><td>108</td><td>719</td><td>6</td><td> 0</td><td>2013-09-10 06:00:00</td></tr>\n",
              "\t<tr><td>2013</td><td>9</td><td>10</td><td>605</td><td>605</td><td> 0</td><td>719</td><td>734</td><td>-15</td><td>UA</td><td>1622</td><td>N37422</td><td>EWR</td><td>ORD</td><td>102</td><td>719</td><td>6</td><td> 5</td><td>2013-09-10 06:00:00</td></tr>\n",
              "\t<tr><td>2013</td><td>9</td><td>10</td><td>623</td><td>630</td><td>-7</td><td>744</td><td>753</td><td> -9</td><td>B6</td><td> 905</td><td>N746JB</td><td>JFK</td><td>ORD</td><td>108</td><td>740</td><td>6</td><td>30</td><td>2013-09-10 06:00:00</td></tr>\n",
              "\t<tr><td>2013</td><td>9</td><td>10</td><td>639</td><td>630</td><td> 9</td><td>804</td><td>805</td><td> -1</td><td>AA</td><td> 303</td><td>N576AA</td><td>LGA</td><td>ORD</td><td>109</td><td>733</td><td>6</td><td>30</td><td>2013-09-10 06:00:00</td></tr>\n",
              "</tbody>\n",
              "</table>\n"
            ]
          },
          "metadata": {
            "tags": []
          }
        }
      ]
    },
    {
      "cell_type": "code",
      "metadata": {
        "colab": {
          "base_uri": "https://localhost:8080/",
          "height": 493
        },
        "id": "PwsCy-CryXcG",
        "outputId": "b3b598cc-3c99-497d-ca37-fa707b6df5f8"
      },
      "source": [
        "arrange(flights, year, month, day) %>% head()"
      ],
      "execution_count": null,
      "outputs": [
        {
          "output_type": "display_data",
          "data": {
            "text/plain": [
              "  year month day dep_time sched_dep_time dep_delay arr_time sched_arr_time\n",
              "1 2013 1     1   517      515             2         830      819          \n",
              "2 2013 1     1   533      529             4         850      830          \n",
              "3 2013 1     1   542      540             2         923      850          \n",
              "4 2013 1     1   544      545            -1        1004     1022          \n",
              "5 2013 1     1   554      600            -6         812      837          \n",
              "6 2013 1     1   554      558            -4         740      728          \n",
              "  arr_delay carrier flight tailnum origin dest air_time distance hour minute\n",
              "1  11       UA      1545   N14228  EWR    IAH  227      1400     5    15    \n",
              "2  20       UA      1714   N24211  LGA    IAH  227      1416     5    29    \n",
              "3  33       AA      1141   N619AA  JFK    MIA  160      1089     5    40    \n",
              "4 -18       B6       725   N804JB  JFK    BQN  183      1576     5    45    \n",
              "5 -25       DL       461   N668DN  LGA    ATL  116       762     6     0    \n",
              "6  12       UA      1696   N39463  EWR    ORD  150       719     5    58    \n",
              "  time_hour          \n",
              "1 2013-01-01 05:00:00\n",
              "2 2013-01-01 05:00:00\n",
              "3 2013-01-01 05:00:00\n",
              "4 2013-01-01 05:00:00\n",
              "5 2013-01-01 06:00:00\n",
              "6 2013-01-01 05:00:00"
            ],
            "text/latex": "A tibble: 6 × 19\n\\begin{tabular}{lllllllllllllllllll}\n year & month & day & dep\\_time & sched\\_dep\\_time & dep\\_delay & arr\\_time & sched\\_arr\\_time & arr\\_delay & carrier & flight & tailnum & origin & dest & air\\_time & distance & hour & minute & time\\_hour\\\\\n <int> & <int> & <int> & <int> & <int> & <dbl> & <int> & <int> & <dbl> & <chr> & <int> & <chr> & <chr> & <chr> & <dbl> & <dbl> & <dbl> & <dbl> & <dttm>\\\\\n\\hline\n\t 2013 & 1 & 1 & 517 & 515 &  2 &  830 &  819 &  11 & UA & 1545 & N14228 & EWR & IAH & 227 & 1400 & 5 & 15 & 2013-01-01 05:00:00\\\\\n\t 2013 & 1 & 1 & 533 & 529 &  4 &  850 &  830 &  20 & UA & 1714 & N24211 & LGA & IAH & 227 & 1416 & 5 & 29 & 2013-01-01 05:00:00\\\\\n\t 2013 & 1 & 1 & 542 & 540 &  2 &  923 &  850 &  33 & AA & 1141 & N619AA & JFK & MIA & 160 & 1089 & 5 & 40 & 2013-01-01 05:00:00\\\\\n\t 2013 & 1 & 1 & 544 & 545 & -1 & 1004 & 1022 & -18 & B6 &  725 & N804JB & JFK & BQN & 183 & 1576 & 5 & 45 & 2013-01-01 05:00:00\\\\\n\t 2013 & 1 & 1 & 554 & 600 & -6 &  812 &  837 & -25 & DL &  461 & N668DN & LGA & ATL & 116 &  762 & 6 &  0 & 2013-01-01 06:00:00\\\\\n\t 2013 & 1 & 1 & 554 & 558 & -4 &  740 &  728 &  12 & UA & 1696 & N39463 & EWR & ORD & 150 &  719 & 5 & 58 & 2013-01-01 05:00:00\\\\\n\\end{tabular}\n",
            "text/markdown": "\nA tibble: 6 × 19\n\n| year &lt;int&gt; | month &lt;int&gt; | day &lt;int&gt; | dep_time &lt;int&gt; | sched_dep_time &lt;int&gt; | dep_delay &lt;dbl&gt; | arr_time &lt;int&gt; | sched_arr_time &lt;int&gt; | arr_delay &lt;dbl&gt; | carrier &lt;chr&gt; | flight &lt;int&gt; | tailnum &lt;chr&gt; | origin &lt;chr&gt; | dest &lt;chr&gt; | air_time &lt;dbl&gt; | distance &lt;dbl&gt; | hour &lt;dbl&gt; | minute &lt;dbl&gt; | time_hour &lt;dttm&gt; |\n|---|---|---|---|---|---|---|---|---|---|---|---|---|---|---|---|---|---|---|\n| 2013 | 1 | 1 | 517 | 515 |  2 |  830 |  819 |  11 | UA | 1545 | N14228 | EWR | IAH | 227 | 1400 | 5 | 15 | 2013-01-01 05:00:00 |\n| 2013 | 1 | 1 | 533 | 529 |  4 |  850 |  830 |  20 | UA | 1714 | N24211 | LGA | IAH | 227 | 1416 | 5 | 29 | 2013-01-01 05:00:00 |\n| 2013 | 1 | 1 | 542 | 540 |  2 |  923 |  850 |  33 | AA | 1141 | N619AA | JFK | MIA | 160 | 1089 | 5 | 40 | 2013-01-01 05:00:00 |\n| 2013 | 1 | 1 | 544 | 545 | -1 | 1004 | 1022 | -18 | B6 |  725 | N804JB | JFK | BQN | 183 | 1576 | 5 | 45 | 2013-01-01 05:00:00 |\n| 2013 | 1 | 1 | 554 | 600 | -6 |  812 |  837 | -25 | DL |  461 | N668DN | LGA | ATL | 116 |  762 | 6 |  0 | 2013-01-01 06:00:00 |\n| 2013 | 1 | 1 | 554 | 558 | -4 |  740 |  728 |  12 | UA | 1696 | N39463 | EWR | ORD | 150 |  719 | 5 | 58 | 2013-01-01 05:00:00 |\n\n",
            "text/html": [
              "<table class=\"dataframe\">\n",
              "<caption>A tibble: 6 × 19</caption>\n",
              "<thead>\n",
              "\t<tr><th scope=col>year</th><th scope=col>month</th><th scope=col>day</th><th scope=col>dep_time</th><th scope=col>sched_dep_time</th><th scope=col>dep_delay</th><th scope=col>arr_time</th><th scope=col>sched_arr_time</th><th scope=col>arr_delay</th><th scope=col>carrier</th><th scope=col>flight</th><th scope=col>tailnum</th><th scope=col>origin</th><th scope=col>dest</th><th scope=col>air_time</th><th scope=col>distance</th><th scope=col>hour</th><th scope=col>minute</th><th scope=col>time_hour</th></tr>\n",
              "\t<tr><th scope=col>&lt;int&gt;</th><th scope=col>&lt;int&gt;</th><th scope=col>&lt;int&gt;</th><th scope=col>&lt;int&gt;</th><th scope=col>&lt;int&gt;</th><th scope=col>&lt;dbl&gt;</th><th scope=col>&lt;int&gt;</th><th scope=col>&lt;int&gt;</th><th scope=col>&lt;dbl&gt;</th><th scope=col>&lt;chr&gt;</th><th scope=col>&lt;int&gt;</th><th scope=col>&lt;chr&gt;</th><th scope=col>&lt;chr&gt;</th><th scope=col>&lt;chr&gt;</th><th scope=col>&lt;dbl&gt;</th><th scope=col>&lt;dbl&gt;</th><th scope=col>&lt;dbl&gt;</th><th scope=col>&lt;dbl&gt;</th><th scope=col>&lt;dttm&gt;</th></tr>\n",
              "</thead>\n",
              "<tbody>\n",
              "\t<tr><td>2013</td><td>1</td><td>1</td><td>517</td><td>515</td><td> 2</td><td> 830</td><td> 819</td><td> 11</td><td>UA</td><td>1545</td><td>N14228</td><td>EWR</td><td>IAH</td><td>227</td><td>1400</td><td>5</td><td>15</td><td>2013-01-01 05:00:00</td></tr>\n",
              "\t<tr><td>2013</td><td>1</td><td>1</td><td>533</td><td>529</td><td> 4</td><td> 850</td><td> 830</td><td> 20</td><td>UA</td><td>1714</td><td>N24211</td><td>LGA</td><td>IAH</td><td>227</td><td>1416</td><td>5</td><td>29</td><td>2013-01-01 05:00:00</td></tr>\n",
              "\t<tr><td>2013</td><td>1</td><td>1</td><td>542</td><td>540</td><td> 2</td><td> 923</td><td> 850</td><td> 33</td><td>AA</td><td>1141</td><td>N619AA</td><td>JFK</td><td>MIA</td><td>160</td><td>1089</td><td>5</td><td>40</td><td>2013-01-01 05:00:00</td></tr>\n",
              "\t<tr><td>2013</td><td>1</td><td>1</td><td>544</td><td>545</td><td>-1</td><td>1004</td><td>1022</td><td>-18</td><td>B6</td><td> 725</td><td>N804JB</td><td>JFK</td><td>BQN</td><td>183</td><td>1576</td><td>5</td><td>45</td><td>2013-01-01 05:00:00</td></tr>\n",
              "\t<tr><td>2013</td><td>1</td><td>1</td><td>554</td><td>600</td><td>-6</td><td> 812</td><td> 837</td><td>-25</td><td>DL</td><td> 461</td><td>N668DN</td><td>LGA</td><td>ATL</td><td>116</td><td> 762</td><td>6</td><td> 0</td><td>2013-01-01 06:00:00</td></tr>\n",
              "\t<tr><td>2013</td><td>1</td><td>1</td><td>554</td><td>558</td><td>-4</td><td> 740</td><td> 728</td><td> 12</td><td>UA</td><td>1696</td><td>N39463</td><td>EWR</td><td>ORD</td><td>150</td><td> 719</td><td>5</td><td>58</td><td>2013-01-01 05:00:00</td></tr>\n",
              "</tbody>\n",
              "</table>\n"
            ]
          },
          "metadata": {
            "tags": []
          }
        }
      ]
    },
    {
      "cell_type": "code",
      "metadata": {
        "colab": {
          "base_uri": "https://localhost:8080/",
          "height": 493
        },
        "id": "gRyJFHqXyXmy",
        "outputId": "d4236833-5ba3-490a-81f6-baf8c3d91c64"
      },
      "source": [
        "arrange(flights, desc(dep_delay)) %>% head()"
      ],
      "execution_count": null,
      "outputs": [
        {
          "output_type": "display_data",
          "data": {
            "text/plain": [
              "  year month day dep_time sched_dep_time dep_delay arr_time sched_arr_time\n",
              "1 2013 1      9   641      900           1301      1242     1530          \n",
              "2 2013 6     15  1432     1935           1137      1607     2120          \n",
              "3 2013 1     10  1121     1635           1126      1239     1810          \n",
              "4 2013 9     20  1139     1845           1014      1457     2210          \n",
              "5 2013 7     22   845     1600           1005      1044     1815          \n",
              "6 2013 4     10  1100     1900            960      1342     2211          \n",
              "  arr_delay carrier flight tailnum origin dest air_time distance hour minute\n",
              "1 1272      HA        51   N384HA  JFK    HNL  640      4983      9    0    \n",
              "2 1127      MQ      3535   N504MQ  JFK    CMH   74       483     19   35    \n",
              "3 1109      MQ      3695   N517MQ  EWR    ORD  111       719     16   35    \n",
              "4 1007      AA       177   N338AA  JFK    SFO  354      2586     18   45    \n",
              "5  989      MQ      3075   N665MQ  JFK    CVG   96       589     16    0    \n",
              "6  931      DL      2391   N959DL  JFK    TPA  139      1005     19    0    \n",
              "  time_hour          \n",
              "1 2013-01-09 09:00:00\n",
              "2 2013-06-15 19:00:00\n",
              "3 2013-01-10 16:00:00\n",
              "4 2013-09-20 18:00:00\n",
              "5 2013-07-22 16:00:00\n",
              "6 2013-04-10 19:00:00"
            ],
            "text/latex": "A tibble: 6 × 19\n\\begin{tabular}{lllllllllllllllllll}\n year & month & day & dep\\_time & sched\\_dep\\_time & dep\\_delay & arr\\_time & sched\\_arr\\_time & arr\\_delay & carrier & flight & tailnum & origin & dest & air\\_time & distance & hour & minute & time\\_hour\\\\\n <int> & <int> & <int> & <int> & <int> & <dbl> & <int> & <int> & <dbl> & <chr> & <int> & <chr> & <chr> & <chr> & <dbl> & <dbl> & <dbl> & <dbl> & <dttm>\\\\\n\\hline\n\t 2013 & 1 &  9 &  641 &  900 & 1301 & 1242 & 1530 & 1272 & HA &   51 & N384HA & JFK & HNL & 640 & 4983 &  9 &  0 & 2013-01-09 09:00:00\\\\\n\t 2013 & 6 & 15 & 1432 & 1935 & 1137 & 1607 & 2120 & 1127 & MQ & 3535 & N504MQ & JFK & CMH &  74 &  483 & 19 & 35 & 2013-06-15 19:00:00\\\\\n\t 2013 & 1 & 10 & 1121 & 1635 & 1126 & 1239 & 1810 & 1109 & MQ & 3695 & N517MQ & EWR & ORD & 111 &  719 & 16 & 35 & 2013-01-10 16:00:00\\\\\n\t 2013 & 9 & 20 & 1139 & 1845 & 1014 & 1457 & 2210 & 1007 & AA &  177 & N338AA & JFK & SFO & 354 & 2586 & 18 & 45 & 2013-09-20 18:00:00\\\\\n\t 2013 & 7 & 22 &  845 & 1600 & 1005 & 1044 & 1815 &  989 & MQ & 3075 & N665MQ & JFK & CVG &  96 &  589 & 16 &  0 & 2013-07-22 16:00:00\\\\\n\t 2013 & 4 & 10 & 1100 & 1900 &  960 & 1342 & 2211 &  931 & DL & 2391 & N959DL & JFK & TPA & 139 & 1005 & 19 &  0 & 2013-04-10 19:00:00\\\\\n\\end{tabular}\n",
            "text/markdown": "\nA tibble: 6 × 19\n\n| year &lt;int&gt; | month &lt;int&gt; | day &lt;int&gt; | dep_time &lt;int&gt; | sched_dep_time &lt;int&gt; | dep_delay &lt;dbl&gt; | arr_time &lt;int&gt; | sched_arr_time &lt;int&gt; | arr_delay &lt;dbl&gt; | carrier &lt;chr&gt; | flight &lt;int&gt; | tailnum &lt;chr&gt; | origin &lt;chr&gt; | dest &lt;chr&gt; | air_time &lt;dbl&gt; | distance &lt;dbl&gt; | hour &lt;dbl&gt; | minute &lt;dbl&gt; | time_hour &lt;dttm&gt; |\n|---|---|---|---|---|---|---|---|---|---|---|---|---|---|---|---|---|---|---|\n| 2013 | 1 |  9 |  641 |  900 | 1301 | 1242 | 1530 | 1272 | HA |   51 | N384HA | JFK | HNL | 640 | 4983 |  9 |  0 | 2013-01-09 09:00:00 |\n| 2013 | 6 | 15 | 1432 | 1935 | 1137 | 1607 | 2120 | 1127 | MQ | 3535 | N504MQ | JFK | CMH |  74 |  483 | 19 | 35 | 2013-06-15 19:00:00 |\n| 2013 | 1 | 10 | 1121 | 1635 | 1126 | 1239 | 1810 | 1109 | MQ | 3695 | N517MQ | EWR | ORD | 111 |  719 | 16 | 35 | 2013-01-10 16:00:00 |\n| 2013 | 9 | 20 | 1139 | 1845 | 1014 | 1457 | 2210 | 1007 | AA |  177 | N338AA | JFK | SFO | 354 | 2586 | 18 | 45 | 2013-09-20 18:00:00 |\n| 2013 | 7 | 22 |  845 | 1600 | 1005 | 1044 | 1815 |  989 | MQ | 3075 | N665MQ | JFK | CVG |  96 |  589 | 16 |  0 | 2013-07-22 16:00:00 |\n| 2013 | 4 | 10 | 1100 | 1900 |  960 | 1342 | 2211 |  931 | DL | 2391 | N959DL | JFK | TPA | 139 | 1005 | 19 |  0 | 2013-04-10 19:00:00 |\n\n",
            "text/html": [
              "<table class=\"dataframe\">\n",
              "<caption>A tibble: 6 × 19</caption>\n",
              "<thead>\n",
              "\t<tr><th scope=col>year</th><th scope=col>month</th><th scope=col>day</th><th scope=col>dep_time</th><th scope=col>sched_dep_time</th><th scope=col>dep_delay</th><th scope=col>arr_time</th><th scope=col>sched_arr_time</th><th scope=col>arr_delay</th><th scope=col>carrier</th><th scope=col>flight</th><th scope=col>tailnum</th><th scope=col>origin</th><th scope=col>dest</th><th scope=col>air_time</th><th scope=col>distance</th><th scope=col>hour</th><th scope=col>minute</th><th scope=col>time_hour</th></tr>\n",
              "\t<tr><th scope=col>&lt;int&gt;</th><th scope=col>&lt;int&gt;</th><th scope=col>&lt;int&gt;</th><th scope=col>&lt;int&gt;</th><th scope=col>&lt;int&gt;</th><th scope=col>&lt;dbl&gt;</th><th scope=col>&lt;int&gt;</th><th scope=col>&lt;int&gt;</th><th scope=col>&lt;dbl&gt;</th><th scope=col>&lt;chr&gt;</th><th scope=col>&lt;int&gt;</th><th scope=col>&lt;chr&gt;</th><th scope=col>&lt;chr&gt;</th><th scope=col>&lt;chr&gt;</th><th scope=col>&lt;dbl&gt;</th><th scope=col>&lt;dbl&gt;</th><th scope=col>&lt;dbl&gt;</th><th scope=col>&lt;dbl&gt;</th><th scope=col>&lt;dttm&gt;</th></tr>\n",
              "</thead>\n",
              "<tbody>\n",
              "\t<tr><td>2013</td><td>1</td><td> 9</td><td> 641</td><td> 900</td><td>1301</td><td>1242</td><td>1530</td><td>1272</td><td>HA</td><td>  51</td><td>N384HA</td><td>JFK</td><td>HNL</td><td>640</td><td>4983</td><td> 9</td><td> 0</td><td>2013-01-09 09:00:00</td></tr>\n",
              "\t<tr><td>2013</td><td>6</td><td>15</td><td>1432</td><td>1935</td><td>1137</td><td>1607</td><td>2120</td><td>1127</td><td>MQ</td><td>3535</td><td>N504MQ</td><td>JFK</td><td>CMH</td><td> 74</td><td> 483</td><td>19</td><td>35</td><td>2013-06-15 19:00:00</td></tr>\n",
              "\t<tr><td>2013</td><td>1</td><td>10</td><td>1121</td><td>1635</td><td>1126</td><td>1239</td><td>1810</td><td>1109</td><td>MQ</td><td>3695</td><td>N517MQ</td><td>EWR</td><td>ORD</td><td>111</td><td> 719</td><td>16</td><td>35</td><td>2013-01-10 16:00:00</td></tr>\n",
              "\t<tr><td>2013</td><td>9</td><td>20</td><td>1139</td><td>1845</td><td>1014</td><td>1457</td><td>2210</td><td>1007</td><td>AA</td><td> 177</td><td>N338AA</td><td>JFK</td><td>SFO</td><td>354</td><td>2586</td><td>18</td><td>45</td><td>2013-09-20 18:00:00</td></tr>\n",
              "\t<tr><td>2013</td><td>7</td><td>22</td><td> 845</td><td>1600</td><td>1005</td><td>1044</td><td>1815</td><td> 989</td><td>MQ</td><td>3075</td><td>N665MQ</td><td>JFK</td><td>CVG</td><td> 96</td><td> 589</td><td>16</td><td> 0</td><td>2013-07-22 16:00:00</td></tr>\n",
              "\t<tr><td>2013</td><td>4</td><td>10</td><td>1100</td><td>1900</td><td> 960</td><td>1342</td><td>2211</td><td> 931</td><td>DL</td><td>2391</td><td>N959DL</td><td>JFK</td><td>TPA</td><td>139</td><td>1005</td><td>19</td><td> 0</td><td>2013-04-10 19:00:00</td></tr>\n",
              "</tbody>\n",
              "</table>\n"
            ]
          },
          "metadata": {
            "tags": []
          }
        }
      ]
    },
    {
      "cell_type": "code",
      "metadata": {
        "colab": {
          "base_uri": "https://localhost:8080/",
          "height": 1000
        },
        "id": "iDXmMAnNyXps",
        "outputId": "8595655c-0dbb-4b5c-b23d-b958909c8eaa"
      },
      "source": [
        "select(flights, -(year:month))"
      ],
      "execution_count": null,
      "outputs": [
        {
          "output_type": "display_data",
          "data": {
            "text/plain": [
              "       day dep_time sched_dep_time dep_delay arr_time sched_arr_time arr_delay\n",
              "1      1   517      515             2         830      819            11      \n",
              "2      1   533      529             4         850      830            20      \n",
              "3      1   542      540             2         923      850            33      \n",
              "4      1   544      545            -1        1004     1022           -18      \n",
              "5      1   554      600            -6         812      837           -25      \n",
              "6      1   554      558            -4         740      728            12      \n",
              "7      1   555      600            -5         913      854            19      \n",
              "8      1   557      600            -3         709      723           -14      \n",
              "9      1   557      600            -3         838      846            -8      \n",
              "10     1   558      600            -2         753      745             8      \n",
              "11     1   558      600            -2         849      851            -2      \n",
              "12     1   558      600            -2         853      856            -3      \n",
              "13     1   558      600            -2         924      917             7      \n",
              "14     1   558      600            -2         923      937           -14      \n",
              "15     1   559      600            -1         941      910            31      \n",
              "16     1   559      559             0         702      706            -4      \n",
              "17     1   559      600            -1         854      902            -8      \n",
              "18     1   600      600             0         851      858            -7      \n",
              "19     1   600      600             0         837      825            12      \n",
              "20     1   601      600             1         844      850            -6      \n",
              "21     1   602      610            -8         812      820            -8      \n",
              "22     1   602      605            -3         821      805            16      \n",
              "23     1   606      610            -4         858      910           -12      \n",
              "24     1   606      610            -4         837      845            -8      \n",
              "25     1   607      607             0         858      915           -17      \n",
              "26     1   608      600             8         807      735            32      \n",
              "27     1   611      600            11         945      931            14      \n",
              "28     1   613      610             3         925      921             4      \n",
              "29     1   615      615             0        1039     1100           -21      \n",
              "30     1   615      615             0         833      842            -9      \n",
              "⋮      ⋮   ⋮        ⋮              ⋮         ⋮        ⋮              ⋮        \n",
              "336747 30  2123     2125            -2       2223     2247           -24      \n",
              "336748 30  2127     2129            -2       2314     2323            -9      \n",
              "336749 30  2128     2130            -2       2328     2359           -31      \n",
              "336750 30  2129     2059            30       2230     2232            -2      \n",
              "336751 30  2131     2140            -9       2225     2255           -30      \n",
              "336752 30  2140     2140             0         10       40           -30      \n",
              "336753 30  2142     2129            13       2250     2239            11      \n",
              "336754 30  2145     2145             0        115      140           -25      \n",
              "336755 30  2147     2137            10         30       27             3      \n",
              "336756 30  2149     2156            -7       2245     2308           -23      \n",
              "336757 30  2150     2159            -9       2250     2306           -16      \n",
              "336758 30  2159     1845           194       2344     2030           194      \n",
              "336759 30  2203     2205            -2       2339     2331             8      \n",
              "336760 30  2207     2140            27       2257     2250             7      \n",
              "336761 30  2211     2059            72       2339     2242            57      \n",
              "336762 30  2231     2245           -14       2335     2356           -21      \n",
              "336763 30  2233     2113            80        112       30            42      \n",
              "336764 30  2235     2001           154         59     2249           130      \n",
              "336765 30  2237     2245            -8       2345     2353            -8      \n",
              "336766 30  2240     2245            -5       2334     2351           -17      \n",
              "336767 30  2240     2250           -10       2347        7           -20      \n",
              "336768 30  2241     2246            -5       2345        1           -16      \n",
              "336769 30  2307     2255            12       2359     2358             1      \n",
              "336770 30  2349     2359           -10        325      350           -25      \n",
              "336771 30    NA     1842            NA         NA     2019            NA      \n",
              "336772 30    NA     1455            NA         NA     1634            NA      \n",
              "336773 30    NA     2200            NA         NA     2312            NA      \n",
              "336774 30    NA     1210            NA         NA     1330            NA      \n",
              "336775 30    NA     1159            NA         NA     1344            NA      \n",
              "336776 30    NA      840            NA         NA     1020            NA      \n",
              "       carrier flight tailnum origin dest air_time distance hour minute\n",
              "1      UA      1545   N14228  EWR    IAH  227      1400     5    15    \n",
              "2      UA      1714   N24211  LGA    IAH  227      1416     5    29    \n",
              "3      AA      1141   N619AA  JFK    MIA  160      1089     5    40    \n",
              "4      B6       725   N804JB  JFK    BQN  183      1576     5    45    \n",
              "5      DL       461   N668DN  LGA    ATL  116       762     6     0    \n",
              "6      UA      1696   N39463  EWR    ORD  150       719     5    58    \n",
              "7      B6       507   N516JB  EWR    FLL  158      1065     6     0    \n",
              "8      EV      5708   N829AS  LGA    IAD   53       229     6     0    \n",
              "9      B6        79   N593JB  JFK    MCO  140       944     6     0    \n",
              "10     AA       301   N3ALAA  LGA    ORD  138       733     6     0    \n",
              "11     B6        49   N793JB  JFK    PBI  149      1028     6     0    \n",
              "12     B6        71   N657JB  JFK    TPA  158      1005     6     0    \n",
              "13     UA       194   N29129  JFK    LAX  345      2475     6     0    \n",
              "14     UA      1124   N53441  EWR    SFO  361      2565     6     0    \n",
              "15     AA       707   N3DUAA  LGA    DFW  257      1389     6     0    \n",
              "16     B6      1806   N708JB  JFK    BOS   44       187     5    59    \n",
              "17     UA      1187   N76515  EWR    LAS  337      2227     6     0    \n",
              "18     B6       371   N595JB  LGA    FLL  152      1076     6     0    \n",
              "19     MQ      4650   N542MQ  LGA    ATL  134       762     6     0    \n",
              "20     B6       343   N644JB  EWR    PBI  147      1023     6     0    \n",
              "21     DL      1919   N971DL  LGA    MSP  170      1020     6    10    \n",
              "22     MQ      4401   N730MQ  LGA    DTW  105       502     6     5    \n",
              "23     AA      1895   N633AA  EWR    MIA  152      1085     6    10    \n",
              "24     DL      1743   N3739P  JFK    ATL  128       760     6    10    \n",
              "25     UA      1077   N53442  EWR    MIA  157      1085     6     7    \n",
              "26     MQ      3768   N9EAMQ  EWR    ORD  139       719     6     0    \n",
              "27     UA       303   N532UA  JFK    SFO  366      2586     6     0    \n",
              "28     B6       135   N635JB  JFK    RSW  175      1074     6    10    \n",
              "29     B6       709   N794JB  JFK    SJU  182      1598     6    15    \n",
              "30     DL       575   N326NB  EWR    ATL  120       746     6    15    \n",
              "⋮      ⋮       ⋮      ⋮       ⋮      ⋮    ⋮        ⋮        ⋮    ⋮     \n",
              "336747 EV      5489   N712EV  LGA    CHO   45       305     21   25    \n",
              "336748 EV      3833   N16546  EWR    CLT   72       529     21   29    \n",
              "336749 B6        97   N807JB  JFK    DEN  213      1626     21   30    \n",
              "336750 EV      5048   N751EV  LGA    RIC   45       292     20   59    \n",
              "336751 MQ      3621   N807MQ  JFK    DCA   36       213     21   40    \n",
              "336752 AA       185   N335AA  JFK    LAX  298      2475     21   40    \n",
              "336753 EV      4509   N12957  EWR    PWM   47       284     21   29    \n",
              "336754 B6      1103   N633JB  JFK    SJU  192      1598     21   45    \n",
              "336755 B6      1371   N627JB  LGA    FLL  139      1076     21   37    \n",
              "336756 UA       523   N813UA  EWR    BOS   37       200     21   56    \n",
              "336757 EV      3842   N10575  EWR    MHT   39       209     21   59    \n",
              "336758 9E      3320   N906XJ  JFK    BUF   50       301     18   45    \n",
              "336759 EV      5311   N722EV  LGA    BGR   61       378     22    5    \n",
              "336760 MQ      3660   N532MQ  LGA    BNA   97       764     21   40    \n",
              "336761 EV      4672   N12145  EWR    STL  120       872     20   59    \n",
              "336762 B6       108   N193JB  JFK    PWM   48       273     22   45    \n",
              "336763 UA       471   N578UA  EWR    SFO  318      2565     21   13    \n",
              "336764 B6      1083   N804JB  JFK    MCO  123       944     20    1    \n",
              "336765 B6       234   N318JB  JFK    BTV   43       266     22   45    \n",
              "336766 B6      1816   N354JB  JFK    SYR   41       209     22   45    \n",
              "336767 B6      2002   N281JB  JFK    BUF   52       301     22   50    \n",
              "336768 B6       486   N346JB  JFK    ROC   47       264     22   46    \n",
              "336769 B6       718   N565JB  JFK    BOS   33       187     22   55    \n",
              "336770 B6       745   N516JB  JFK    PSE  196      1617     23   59    \n",
              "336771 EV      5274   N740EV  LGA    BNA   NA       764     18   42    \n",
              "336772 9E      3393   NA      JFK    DCA   NA       213     14   55    \n",
              "336773 9E      3525   NA      LGA    SYR   NA       198     22    0    \n",
              "336774 MQ      3461   N535MQ  LGA    BNA   NA       764     12   10    \n",
              "336775 MQ      3572   N511MQ  LGA    CLE   NA       419     11   59    \n",
              "336776 MQ      3531   N839MQ  LGA    RDU   NA       431      8   40    \n",
              "       time_hour          \n",
              "1      2013-01-01 05:00:00\n",
              "2      2013-01-01 05:00:00\n",
              "3      2013-01-01 05:00:00\n",
              "4      2013-01-01 05:00:00\n",
              "5      2013-01-01 06:00:00\n",
              "6      2013-01-01 05:00:00\n",
              "7      2013-01-01 06:00:00\n",
              "8      2013-01-01 06:00:00\n",
              "9      2013-01-01 06:00:00\n",
              "10     2013-01-01 06:00:00\n",
              "11     2013-01-01 06:00:00\n",
              "12     2013-01-01 06:00:00\n",
              "13     2013-01-01 06:00:00\n",
              "14     2013-01-01 06:00:00\n",
              "15     2013-01-01 06:00:00\n",
              "16     2013-01-01 05:00:00\n",
              "17     2013-01-01 06:00:00\n",
              "18     2013-01-01 06:00:00\n",
              "19     2013-01-01 06:00:00\n",
              "20     2013-01-01 06:00:00\n",
              "21     2013-01-01 06:00:00\n",
              "22     2013-01-01 06:00:00\n",
              "23     2013-01-01 06:00:00\n",
              "24     2013-01-01 06:00:00\n",
              "25     2013-01-01 06:00:00\n",
              "26     2013-01-01 06:00:00\n",
              "27     2013-01-01 06:00:00\n",
              "28     2013-01-01 06:00:00\n",
              "29     2013-01-01 06:00:00\n",
              "30     2013-01-01 06:00:00\n",
              "⋮      ⋮                  \n",
              "336747 2013-09-30 21:00:00\n",
              "336748 2013-09-30 21:00:00\n",
              "336749 2013-09-30 21:00:00\n",
              "336750 2013-09-30 20:00:00\n",
              "336751 2013-09-30 21:00:00\n",
              "336752 2013-09-30 21:00:00\n",
              "336753 2013-09-30 21:00:00\n",
              "336754 2013-09-30 21:00:00\n",
              "336755 2013-09-30 21:00:00\n",
              "336756 2013-09-30 21:00:00\n",
              "336757 2013-09-30 21:00:00\n",
              "336758 2013-09-30 18:00:00\n",
              "336759 2013-09-30 22:00:00\n",
              "336760 2013-09-30 21:00:00\n",
              "336761 2013-09-30 20:00:00\n",
              "336762 2013-09-30 22:00:00\n",
              "336763 2013-09-30 21:00:00\n",
              "336764 2013-09-30 20:00:00\n",
              "336765 2013-09-30 22:00:00\n",
              "336766 2013-09-30 22:00:00\n",
              "336767 2013-09-30 22:00:00\n",
              "336768 2013-09-30 22:00:00\n",
              "336769 2013-09-30 22:00:00\n",
              "336770 2013-09-30 23:00:00\n",
              "336771 2013-09-30 18:00:00\n",
              "336772 2013-09-30 14:00:00\n",
              "336773 2013-09-30 22:00:00\n",
              "336774 2013-09-30 12:00:00\n",
              "336775 2013-09-30 11:00:00\n",
              "336776 2013-09-30 08:00:00"
            ],
            "text/latex": "A tibble: 336776 × 17\n\\begin{tabular}{lllllllllllllllll}\n day & dep\\_time & sched\\_dep\\_time & dep\\_delay & arr\\_time & sched\\_arr\\_time & arr\\_delay & carrier & flight & tailnum & origin & dest & air\\_time & distance & hour & minute & time\\_hour\\\\\n <int> & <int> & <int> & <dbl> & <int> & <int> & <dbl> & <chr> & <int> & <chr> & <chr> & <chr> & <dbl> & <dbl> & <dbl> & <dbl> & <dttm>\\\\\n\\hline\n\t 1 & 517 & 515 &  2 &  830 &  819 &  11 & UA & 1545 & N14228 & EWR & IAH & 227 & 1400 & 5 & 15 & 2013-01-01 05:00:00\\\\\n\t 1 & 533 & 529 &  4 &  850 &  830 &  20 & UA & 1714 & N24211 & LGA & IAH & 227 & 1416 & 5 & 29 & 2013-01-01 05:00:00\\\\\n\t 1 & 542 & 540 &  2 &  923 &  850 &  33 & AA & 1141 & N619AA & JFK & MIA & 160 & 1089 & 5 & 40 & 2013-01-01 05:00:00\\\\\n\t 1 & 544 & 545 & -1 & 1004 & 1022 & -18 & B6 &  725 & N804JB & JFK & BQN & 183 & 1576 & 5 & 45 & 2013-01-01 05:00:00\\\\\n\t 1 & 554 & 600 & -6 &  812 &  837 & -25 & DL &  461 & N668DN & LGA & ATL & 116 &  762 & 6 &  0 & 2013-01-01 06:00:00\\\\\n\t 1 & 554 & 558 & -4 &  740 &  728 &  12 & UA & 1696 & N39463 & EWR & ORD & 150 &  719 & 5 & 58 & 2013-01-01 05:00:00\\\\\n\t 1 & 555 & 600 & -5 &  913 &  854 &  19 & B6 &  507 & N516JB & EWR & FLL & 158 & 1065 & 6 &  0 & 2013-01-01 06:00:00\\\\\n\t 1 & 557 & 600 & -3 &  709 &  723 & -14 & EV & 5708 & N829AS & LGA & IAD &  53 &  229 & 6 &  0 & 2013-01-01 06:00:00\\\\\n\t 1 & 557 & 600 & -3 &  838 &  846 &  -8 & B6 &   79 & N593JB & JFK & MCO & 140 &  944 & 6 &  0 & 2013-01-01 06:00:00\\\\\n\t 1 & 558 & 600 & -2 &  753 &  745 &   8 & AA &  301 & N3ALAA & LGA & ORD & 138 &  733 & 6 &  0 & 2013-01-01 06:00:00\\\\\n\t 1 & 558 & 600 & -2 &  849 &  851 &  -2 & B6 &   49 & N793JB & JFK & PBI & 149 & 1028 & 6 &  0 & 2013-01-01 06:00:00\\\\\n\t 1 & 558 & 600 & -2 &  853 &  856 &  -3 & B6 &   71 & N657JB & JFK & TPA & 158 & 1005 & 6 &  0 & 2013-01-01 06:00:00\\\\\n\t 1 & 558 & 600 & -2 &  924 &  917 &   7 & UA &  194 & N29129 & JFK & LAX & 345 & 2475 & 6 &  0 & 2013-01-01 06:00:00\\\\\n\t 1 & 558 & 600 & -2 &  923 &  937 & -14 & UA & 1124 & N53441 & EWR & SFO & 361 & 2565 & 6 &  0 & 2013-01-01 06:00:00\\\\\n\t 1 & 559 & 600 & -1 &  941 &  910 &  31 & AA &  707 & N3DUAA & LGA & DFW & 257 & 1389 & 6 &  0 & 2013-01-01 06:00:00\\\\\n\t 1 & 559 & 559 &  0 &  702 &  706 &  -4 & B6 & 1806 & N708JB & JFK & BOS &  44 &  187 & 5 & 59 & 2013-01-01 05:00:00\\\\\n\t 1 & 559 & 600 & -1 &  854 &  902 &  -8 & UA & 1187 & N76515 & EWR & LAS & 337 & 2227 & 6 &  0 & 2013-01-01 06:00:00\\\\\n\t 1 & 600 & 600 &  0 &  851 &  858 &  -7 & B6 &  371 & N595JB & LGA & FLL & 152 & 1076 & 6 &  0 & 2013-01-01 06:00:00\\\\\n\t 1 & 600 & 600 &  0 &  837 &  825 &  12 & MQ & 4650 & N542MQ & LGA & ATL & 134 &  762 & 6 &  0 & 2013-01-01 06:00:00\\\\\n\t 1 & 601 & 600 &  1 &  844 &  850 &  -6 & B6 &  343 & N644JB & EWR & PBI & 147 & 1023 & 6 &  0 & 2013-01-01 06:00:00\\\\\n\t 1 & 602 & 610 & -8 &  812 &  820 &  -8 & DL & 1919 & N971DL & LGA & MSP & 170 & 1020 & 6 & 10 & 2013-01-01 06:00:00\\\\\n\t 1 & 602 & 605 & -3 &  821 &  805 &  16 & MQ & 4401 & N730MQ & LGA & DTW & 105 &  502 & 6 &  5 & 2013-01-01 06:00:00\\\\\n\t 1 & 606 & 610 & -4 &  858 &  910 & -12 & AA & 1895 & N633AA & EWR & MIA & 152 & 1085 & 6 & 10 & 2013-01-01 06:00:00\\\\\n\t 1 & 606 & 610 & -4 &  837 &  845 &  -8 & DL & 1743 & N3739P & JFK & ATL & 128 &  760 & 6 & 10 & 2013-01-01 06:00:00\\\\\n\t 1 & 607 & 607 &  0 &  858 &  915 & -17 & UA & 1077 & N53442 & EWR & MIA & 157 & 1085 & 6 &  7 & 2013-01-01 06:00:00\\\\\n\t 1 & 608 & 600 &  8 &  807 &  735 &  32 & MQ & 3768 & N9EAMQ & EWR & ORD & 139 &  719 & 6 &  0 & 2013-01-01 06:00:00\\\\\n\t 1 & 611 & 600 & 11 &  945 &  931 &  14 & UA &  303 & N532UA & JFK & SFO & 366 & 2586 & 6 &  0 & 2013-01-01 06:00:00\\\\\n\t 1 & 613 & 610 &  3 &  925 &  921 &   4 & B6 &  135 & N635JB & JFK & RSW & 175 & 1074 & 6 & 10 & 2013-01-01 06:00:00\\\\\n\t 1 & 615 & 615 &  0 & 1039 & 1100 & -21 & B6 &  709 & N794JB & JFK & SJU & 182 & 1598 & 6 & 15 & 2013-01-01 06:00:00\\\\\n\t 1 & 615 & 615 &  0 &  833 &  842 &  -9 & DL &  575 & N326NB & EWR & ATL & 120 &  746 & 6 & 15 & 2013-01-01 06:00:00\\\\\n\t ⋮ & ⋮ & ⋮ & ⋮ & ⋮ & ⋮ & ⋮ & ⋮ & ⋮ & ⋮ & ⋮ & ⋮ & ⋮ & ⋮ & ⋮ & ⋮ & ⋮\\\\\n\t 30 & 2123 & 2125 &  -2 & 2223 & 2247 & -24 & EV & 5489 & N712EV & LGA & CHO &  45 &  305 & 21 & 25 & 2013-09-30 21:00:00\\\\\n\t 30 & 2127 & 2129 &  -2 & 2314 & 2323 &  -9 & EV & 3833 & N16546 & EWR & CLT &  72 &  529 & 21 & 29 & 2013-09-30 21:00:00\\\\\n\t 30 & 2128 & 2130 &  -2 & 2328 & 2359 & -31 & B6 &   97 & N807JB & JFK & DEN & 213 & 1626 & 21 & 30 & 2013-09-30 21:00:00\\\\\n\t 30 & 2129 & 2059 &  30 & 2230 & 2232 &  -2 & EV & 5048 & N751EV & LGA & RIC &  45 &  292 & 20 & 59 & 2013-09-30 20:00:00\\\\\n\t 30 & 2131 & 2140 &  -9 & 2225 & 2255 & -30 & MQ & 3621 & N807MQ & JFK & DCA &  36 &  213 & 21 & 40 & 2013-09-30 21:00:00\\\\\n\t 30 & 2140 & 2140 &   0 &   10 &   40 & -30 & AA &  185 & N335AA & JFK & LAX & 298 & 2475 & 21 & 40 & 2013-09-30 21:00:00\\\\\n\t 30 & 2142 & 2129 &  13 & 2250 & 2239 &  11 & EV & 4509 & N12957 & EWR & PWM &  47 &  284 & 21 & 29 & 2013-09-30 21:00:00\\\\\n\t 30 & 2145 & 2145 &   0 &  115 &  140 & -25 & B6 & 1103 & N633JB & JFK & SJU & 192 & 1598 & 21 & 45 & 2013-09-30 21:00:00\\\\\n\t 30 & 2147 & 2137 &  10 &   30 &   27 &   3 & B6 & 1371 & N627JB & LGA & FLL & 139 & 1076 & 21 & 37 & 2013-09-30 21:00:00\\\\\n\t 30 & 2149 & 2156 &  -7 & 2245 & 2308 & -23 & UA &  523 & N813UA & EWR & BOS &  37 &  200 & 21 & 56 & 2013-09-30 21:00:00\\\\\n\t 30 & 2150 & 2159 &  -9 & 2250 & 2306 & -16 & EV & 3842 & N10575 & EWR & MHT &  39 &  209 & 21 & 59 & 2013-09-30 21:00:00\\\\\n\t 30 & 2159 & 1845 & 194 & 2344 & 2030 & 194 & 9E & 3320 & N906XJ & JFK & BUF &  50 &  301 & 18 & 45 & 2013-09-30 18:00:00\\\\\n\t 30 & 2203 & 2205 &  -2 & 2339 & 2331 &   8 & EV & 5311 & N722EV & LGA & BGR &  61 &  378 & 22 &  5 & 2013-09-30 22:00:00\\\\\n\t 30 & 2207 & 2140 &  27 & 2257 & 2250 &   7 & MQ & 3660 & N532MQ & LGA & BNA &  97 &  764 & 21 & 40 & 2013-09-30 21:00:00\\\\\n\t 30 & 2211 & 2059 &  72 & 2339 & 2242 &  57 & EV & 4672 & N12145 & EWR & STL & 120 &  872 & 20 & 59 & 2013-09-30 20:00:00\\\\\n\t 30 & 2231 & 2245 & -14 & 2335 & 2356 & -21 & B6 &  108 & N193JB & JFK & PWM &  48 &  273 & 22 & 45 & 2013-09-30 22:00:00\\\\\n\t 30 & 2233 & 2113 &  80 &  112 &   30 &  42 & UA &  471 & N578UA & EWR & SFO & 318 & 2565 & 21 & 13 & 2013-09-30 21:00:00\\\\\n\t 30 & 2235 & 2001 & 154 &   59 & 2249 & 130 & B6 & 1083 & N804JB & JFK & MCO & 123 &  944 & 20 &  1 & 2013-09-30 20:00:00\\\\\n\t 30 & 2237 & 2245 &  -8 & 2345 & 2353 &  -8 & B6 &  234 & N318JB & JFK & BTV &  43 &  266 & 22 & 45 & 2013-09-30 22:00:00\\\\\n\t 30 & 2240 & 2245 &  -5 & 2334 & 2351 & -17 & B6 & 1816 & N354JB & JFK & SYR &  41 &  209 & 22 & 45 & 2013-09-30 22:00:00\\\\\n\t 30 & 2240 & 2250 & -10 & 2347 &    7 & -20 & B6 & 2002 & N281JB & JFK & BUF &  52 &  301 & 22 & 50 & 2013-09-30 22:00:00\\\\\n\t 30 & 2241 & 2246 &  -5 & 2345 &    1 & -16 & B6 &  486 & N346JB & JFK & ROC &  47 &  264 & 22 & 46 & 2013-09-30 22:00:00\\\\\n\t 30 & 2307 & 2255 &  12 & 2359 & 2358 &   1 & B6 &  718 & N565JB & JFK & BOS &  33 &  187 & 22 & 55 & 2013-09-30 22:00:00\\\\\n\t 30 & 2349 & 2359 & -10 &  325 &  350 & -25 & B6 &  745 & N516JB & JFK & PSE & 196 & 1617 & 23 & 59 & 2013-09-30 23:00:00\\\\\n\t 30 &   NA & 1842 &  NA &   NA & 2019 &  NA & EV & 5274 & N740EV & LGA & BNA &  NA &  764 & 18 & 42 & 2013-09-30 18:00:00\\\\\n\t 30 &   NA & 1455 &  NA &   NA & 1634 &  NA & 9E & 3393 & NA     & JFK & DCA &  NA &  213 & 14 & 55 & 2013-09-30 14:00:00\\\\\n\t 30 &   NA & 2200 &  NA &   NA & 2312 &  NA & 9E & 3525 & NA     & LGA & SYR &  NA &  198 & 22 &  0 & 2013-09-30 22:00:00\\\\\n\t 30 &   NA & 1210 &  NA &   NA & 1330 &  NA & MQ & 3461 & N535MQ & LGA & BNA &  NA &  764 & 12 & 10 & 2013-09-30 12:00:00\\\\\n\t 30 &   NA & 1159 &  NA &   NA & 1344 &  NA & MQ & 3572 & N511MQ & LGA & CLE &  NA &  419 & 11 & 59 & 2013-09-30 11:00:00\\\\\n\t 30 &   NA &  840 &  NA &   NA & 1020 &  NA & MQ & 3531 & N839MQ & LGA & RDU &  NA &  431 &  8 & 40 & 2013-09-30 08:00:00\\\\\n\\end{tabular}\n",
            "text/markdown": "\nA tibble: 336776 × 17\n\n| day &lt;int&gt; | dep_time &lt;int&gt; | sched_dep_time &lt;int&gt; | dep_delay &lt;dbl&gt; | arr_time &lt;int&gt; | sched_arr_time &lt;int&gt; | arr_delay &lt;dbl&gt; | carrier &lt;chr&gt; | flight &lt;int&gt; | tailnum &lt;chr&gt; | origin &lt;chr&gt; | dest &lt;chr&gt; | air_time &lt;dbl&gt; | distance &lt;dbl&gt; | hour &lt;dbl&gt; | minute &lt;dbl&gt; | time_hour &lt;dttm&gt; |\n|---|---|---|---|---|---|---|---|---|---|---|---|---|---|---|---|---|\n| 1 | 517 | 515 |  2 |  830 |  819 |  11 | UA | 1545 | N14228 | EWR | IAH | 227 | 1400 | 5 | 15 | 2013-01-01 05:00:00 |\n| 1 | 533 | 529 |  4 |  850 |  830 |  20 | UA | 1714 | N24211 | LGA | IAH | 227 | 1416 | 5 | 29 | 2013-01-01 05:00:00 |\n| 1 | 542 | 540 |  2 |  923 |  850 |  33 | AA | 1141 | N619AA | JFK | MIA | 160 | 1089 | 5 | 40 | 2013-01-01 05:00:00 |\n| 1 | 544 | 545 | -1 | 1004 | 1022 | -18 | B6 |  725 | N804JB | JFK | BQN | 183 | 1576 | 5 | 45 | 2013-01-01 05:00:00 |\n| 1 | 554 | 600 | -6 |  812 |  837 | -25 | DL |  461 | N668DN | LGA | ATL | 116 |  762 | 6 |  0 | 2013-01-01 06:00:00 |\n| 1 | 554 | 558 | -4 |  740 |  728 |  12 | UA | 1696 | N39463 | EWR | ORD | 150 |  719 | 5 | 58 | 2013-01-01 05:00:00 |\n| 1 | 555 | 600 | -5 |  913 |  854 |  19 | B6 |  507 | N516JB | EWR | FLL | 158 | 1065 | 6 |  0 | 2013-01-01 06:00:00 |\n| 1 | 557 | 600 | -3 |  709 |  723 | -14 | EV | 5708 | N829AS | LGA | IAD |  53 |  229 | 6 |  0 | 2013-01-01 06:00:00 |\n| 1 | 557 | 600 | -3 |  838 |  846 |  -8 | B6 |   79 | N593JB | JFK | MCO | 140 |  944 | 6 |  0 | 2013-01-01 06:00:00 |\n| 1 | 558 | 600 | -2 |  753 |  745 |   8 | AA |  301 | N3ALAA | LGA | ORD | 138 |  733 | 6 |  0 | 2013-01-01 06:00:00 |\n| 1 | 558 | 600 | -2 |  849 |  851 |  -2 | B6 |   49 | N793JB | JFK | PBI | 149 | 1028 | 6 |  0 | 2013-01-01 06:00:00 |\n| 1 | 558 | 600 | -2 |  853 |  856 |  -3 | B6 |   71 | N657JB | JFK | TPA | 158 | 1005 | 6 |  0 | 2013-01-01 06:00:00 |\n| 1 | 558 | 600 | -2 |  924 |  917 |   7 | UA |  194 | N29129 | JFK | LAX | 345 | 2475 | 6 |  0 | 2013-01-01 06:00:00 |\n| 1 | 558 | 600 | -2 |  923 |  937 | -14 | UA | 1124 | N53441 | EWR | SFO | 361 | 2565 | 6 |  0 | 2013-01-01 06:00:00 |\n| 1 | 559 | 600 | -1 |  941 |  910 |  31 | AA |  707 | N3DUAA | LGA | DFW | 257 | 1389 | 6 |  0 | 2013-01-01 06:00:00 |\n| 1 | 559 | 559 |  0 |  702 |  706 |  -4 | B6 | 1806 | N708JB | JFK | BOS |  44 |  187 | 5 | 59 | 2013-01-01 05:00:00 |\n| 1 | 559 | 600 | -1 |  854 |  902 |  -8 | UA | 1187 | N76515 | EWR | LAS | 337 | 2227 | 6 |  0 | 2013-01-01 06:00:00 |\n| 1 | 600 | 600 |  0 |  851 |  858 |  -7 | B6 |  371 | N595JB | LGA | FLL | 152 | 1076 | 6 |  0 | 2013-01-01 06:00:00 |\n| 1 | 600 | 600 |  0 |  837 |  825 |  12 | MQ | 4650 | N542MQ | LGA | ATL | 134 |  762 | 6 |  0 | 2013-01-01 06:00:00 |\n| 1 | 601 | 600 |  1 |  844 |  850 |  -6 | B6 |  343 | N644JB | EWR | PBI | 147 | 1023 | 6 |  0 | 2013-01-01 06:00:00 |\n| 1 | 602 | 610 | -8 |  812 |  820 |  -8 | DL | 1919 | N971DL | LGA | MSP | 170 | 1020 | 6 | 10 | 2013-01-01 06:00:00 |\n| 1 | 602 | 605 | -3 |  821 |  805 |  16 | MQ | 4401 | N730MQ | LGA | DTW | 105 |  502 | 6 |  5 | 2013-01-01 06:00:00 |\n| 1 | 606 | 610 | -4 |  858 |  910 | -12 | AA | 1895 | N633AA | EWR | MIA | 152 | 1085 | 6 | 10 | 2013-01-01 06:00:00 |\n| 1 | 606 | 610 | -4 |  837 |  845 |  -8 | DL | 1743 | N3739P | JFK | ATL | 128 |  760 | 6 | 10 | 2013-01-01 06:00:00 |\n| 1 | 607 | 607 |  0 |  858 |  915 | -17 | UA | 1077 | N53442 | EWR | MIA | 157 | 1085 | 6 |  7 | 2013-01-01 06:00:00 |\n| 1 | 608 | 600 |  8 |  807 |  735 |  32 | MQ | 3768 | N9EAMQ | EWR | ORD | 139 |  719 | 6 |  0 | 2013-01-01 06:00:00 |\n| 1 | 611 | 600 | 11 |  945 |  931 |  14 | UA |  303 | N532UA | JFK | SFO | 366 | 2586 | 6 |  0 | 2013-01-01 06:00:00 |\n| 1 | 613 | 610 |  3 |  925 |  921 |   4 | B6 |  135 | N635JB | JFK | RSW | 175 | 1074 | 6 | 10 | 2013-01-01 06:00:00 |\n| 1 | 615 | 615 |  0 | 1039 | 1100 | -21 | B6 |  709 | N794JB | JFK | SJU | 182 | 1598 | 6 | 15 | 2013-01-01 06:00:00 |\n| 1 | 615 | 615 |  0 |  833 |  842 |  -9 | DL |  575 | N326NB | EWR | ATL | 120 |  746 | 6 | 15 | 2013-01-01 06:00:00 |\n| ⋮ | ⋮ | ⋮ | ⋮ | ⋮ | ⋮ | ⋮ | ⋮ | ⋮ | ⋮ | ⋮ | ⋮ | ⋮ | ⋮ | ⋮ | ⋮ | ⋮ |\n| 30 | 2123 | 2125 |  -2 | 2223 | 2247 | -24 | EV | 5489 | N712EV | LGA | CHO |  45 |  305 | 21 | 25 | 2013-09-30 21:00:00 |\n| 30 | 2127 | 2129 |  -2 | 2314 | 2323 |  -9 | EV | 3833 | N16546 | EWR | CLT |  72 |  529 | 21 | 29 | 2013-09-30 21:00:00 |\n| 30 | 2128 | 2130 |  -2 | 2328 | 2359 | -31 | B6 |   97 | N807JB | JFK | DEN | 213 | 1626 | 21 | 30 | 2013-09-30 21:00:00 |\n| 30 | 2129 | 2059 |  30 | 2230 | 2232 |  -2 | EV | 5048 | N751EV | LGA | RIC |  45 |  292 | 20 | 59 | 2013-09-30 20:00:00 |\n| 30 | 2131 | 2140 |  -9 | 2225 | 2255 | -30 | MQ | 3621 | N807MQ | JFK | DCA |  36 |  213 | 21 | 40 | 2013-09-30 21:00:00 |\n| 30 | 2140 | 2140 |   0 |   10 |   40 | -30 | AA |  185 | N335AA | JFK | LAX | 298 | 2475 | 21 | 40 | 2013-09-30 21:00:00 |\n| 30 | 2142 | 2129 |  13 | 2250 | 2239 |  11 | EV | 4509 | N12957 | EWR | PWM |  47 |  284 | 21 | 29 | 2013-09-30 21:00:00 |\n| 30 | 2145 | 2145 |   0 |  115 |  140 | -25 | B6 | 1103 | N633JB | JFK | SJU | 192 | 1598 | 21 | 45 | 2013-09-30 21:00:00 |\n| 30 | 2147 | 2137 |  10 |   30 |   27 |   3 | B6 | 1371 | N627JB | LGA | FLL | 139 | 1076 | 21 | 37 | 2013-09-30 21:00:00 |\n| 30 | 2149 | 2156 |  -7 | 2245 | 2308 | -23 | UA |  523 | N813UA | EWR | BOS |  37 |  200 | 21 | 56 | 2013-09-30 21:00:00 |\n| 30 | 2150 | 2159 |  -9 | 2250 | 2306 | -16 | EV | 3842 | N10575 | EWR | MHT |  39 |  209 | 21 | 59 | 2013-09-30 21:00:00 |\n| 30 | 2159 | 1845 | 194 | 2344 | 2030 | 194 | 9E | 3320 | N906XJ | JFK | BUF |  50 |  301 | 18 | 45 | 2013-09-30 18:00:00 |\n| 30 | 2203 | 2205 |  -2 | 2339 | 2331 |   8 | EV | 5311 | N722EV | LGA | BGR |  61 |  378 | 22 |  5 | 2013-09-30 22:00:00 |\n| 30 | 2207 | 2140 |  27 | 2257 | 2250 |   7 | MQ | 3660 | N532MQ | LGA | BNA |  97 |  764 | 21 | 40 | 2013-09-30 21:00:00 |\n| 30 | 2211 | 2059 |  72 | 2339 | 2242 |  57 | EV | 4672 | N12145 | EWR | STL | 120 |  872 | 20 | 59 | 2013-09-30 20:00:00 |\n| 30 | 2231 | 2245 | -14 | 2335 | 2356 | -21 | B6 |  108 | N193JB | JFK | PWM |  48 |  273 | 22 | 45 | 2013-09-30 22:00:00 |\n| 30 | 2233 | 2113 |  80 |  112 |   30 |  42 | UA |  471 | N578UA | EWR | SFO | 318 | 2565 | 21 | 13 | 2013-09-30 21:00:00 |\n| 30 | 2235 | 2001 | 154 |   59 | 2249 | 130 | B6 | 1083 | N804JB | JFK | MCO | 123 |  944 | 20 |  1 | 2013-09-30 20:00:00 |\n| 30 | 2237 | 2245 |  -8 | 2345 | 2353 |  -8 | B6 |  234 | N318JB | JFK | BTV |  43 |  266 | 22 | 45 | 2013-09-30 22:00:00 |\n| 30 | 2240 | 2245 |  -5 | 2334 | 2351 | -17 | B6 | 1816 | N354JB | JFK | SYR |  41 |  209 | 22 | 45 | 2013-09-30 22:00:00 |\n| 30 | 2240 | 2250 | -10 | 2347 |    7 | -20 | B6 | 2002 | N281JB | JFK | BUF |  52 |  301 | 22 | 50 | 2013-09-30 22:00:00 |\n| 30 | 2241 | 2246 |  -5 | 2345 |    1 | -16 | B6 |  486 | N346JB | JFK | ROC |  47 |  264 | 22 | 46 | 2013-09-30 22:00:00 |\n| 30 | 2307 | 2255 |  12 | 2359 | 2358 |   1 | B6 |  718 | N565JB | JFK | BOS |  33 |  187 | 22 | 55 | 2013-09-30 22:00:00 |\n| 30 | 2349 | 2359 | -10 |  325 |  350 | -25 | B6 |  745 | N516JB | JFK | PSE | 196 | 1617 | 23 | 59 | 2013-09-30 23:00:00 |\n| 30 |   NA | 1842 |  NA |   NA | 2019 |  NA | EV | 5274 | N740EV | LGA | BNA |  NA |  764 | 18 | 42 | 2013-09-30 18:00:00 |\n| 30 |   NA | 1455 |  NA |   NA | 1634 |  NA | 9E | 3393 | NA     | JFK | DCA |  NA |  213 | 14 | 55 | 2013-09-30 14:00:00 |\n| 30 |   NA | 2200 |  NA |   NA | 2312 |  NA | 9E | 3525 | NA     | LGA | SYR |  NA |  198 | 22 |  0 | 2013-09-30 22:00:00 |\n| 30 |   NA | 1210 |  NA |   NA | 1330 |  NA | MQ | 3461 | N535MQ | LGA | BNA |  NA |  764 | 12 | 10 | 2013-09-30 12:00:00 |\n| 30 |   NA | 1159 |  NA |   NA | 1344 |  NA | MQ | 3572 | N511MQ | LGA | CLE |  NA |  419 | 11 | 59 | 2013-09-30 11:00:00 |\n| 30 |   NA |  840 |  NA |   NA | 1020 |  NA | MQ | 3531 | N839MQ | LGA | RDU |  NA |  431 |  8 | 40 | 2013-09-30 08:00:00 |\n\n",
            "text/html": [
              "<table class=\"dataframe\">\n",
              "<caption>A tibble: 336776 × 17</caption>\n",
              "<thead>\n",
              "\t<tr><th scope=col>day</th><th scope=col>dep_time</th><th scope=col>sched_dep_time</th><th scope=col>dep_delay</th><th scope=col>arr_time</th><th scope=col>sched_arr_time</th><th scope=col>arr_delay</th><th scope=col>carrier</th><th scope=col>flight</th><th scope=col>tailnum</th><th scope=col>origin</th><th scope=col>dest</th><th scope=col>air_time</th><th scope=col>distance</th><th scope=col>hour</th><th scope=col>minute</th><th scope=col>time_hour</th></tr>\n",
              "\t<tr><th scope=col>&lt;int&gt;</th><th scope=col>&lt;int&gt;</th><th scope=col>&lt;int&gt;</th><th scope=col>&lt;dbl&gt;</th><th scope=col>&lt;int&gt;</th><th scope=col>&lt;int&gt;</th><th scope=col>&lt;dbl&gt;</th><th scope=col>&lt;chr&gt;</th><th scope=col>&lt;int&gt;</th><th scope=col>&lt;chr&gt;</th><th scope=col>&lt;chr&gt;</th><th scope=col>&lt;chr&gt;</th><th scope=col>&lt;dbl&gt;</th><th scope=col>&lt;dbl&gt;</th><th scope=col>&lt;dbl&gt;</th><th scope=col>&lt;dbl&gt;</th><th scope=col>&lt;dttm&gt;</th></tr>\n",
              "</thead>\n",
              "<tbody>\n",
              "\t<tr><td>1</td><td>517</td><td>515</td><td> 2</td><td> 830</td><td> 819</td><td> 11</td><td>UA</td><td>1545</td><td>N14228</td><td>EWR</td><td>IAH</td><td>227</td><td>1400</td><td>5</td><td>15</td><td>2013-01-01 05:00:00</td></tr>\n",
              "\t<tr><td>1</td><td>533</td><td>529</td><td> 4</td><td> 850</td><td> 830</td><td> 20</td><td>UA</td><td>1714</td><td>N24211</td><td>LGA</td><td>IAH</td><td>227</td><td>1416</td><td>5</td><td>29</td><td>2013-01-01 05:00:00</td></tr>\n",
              "\t<tr><td>1</td><td>542</td><td>540</td><td> 2</td><td> 923</td><td> 850</td><td> 33</td><td>AA</td><td>1141</td><td>N619AA</td><td>JFK</td><td>MIA</td><td>160</td><td>1089</td><td>5</td><td>40</td><td>2013-01-01 05:00:00</td></tr>\n",
              "\t<tr><td>1</td><td>544</td><td>545</td><td>-1</td><td>1004</td><td>1022</td><td>-18</td><td>B6</td><td> 725</td><td>N804JB</td><td>JFK</td><td>BQN</td><td>183</td><td>1576</td><td>5</td><td>45</td><td>2013-01-01 05:00:00</td></tr>\n",
              "\t<tr><td>1</td><td>554</td><td>600</td><td>-6</td><td> 812</td><td> 837</td><td>-25</td><td>DL</td><td> 461</td><td>N668DN</td><td>LGA</td><td>ATL</td><td>116</td><td> 762</td><td>6</td><td> 0</td><td>2013-01-01 06:00:00</td></tr>\n",
              "\t<tr><td>1</td><td>554</td><td>558</td><td>-4</td><td> 740</td><td> 728</td><td> 12</td><td>UA</td><td>1696</td><td>N39463</td><td>EWR</td><td>ORD</td><td>150</td><td> 719</td><td>5</td><td>58</td><td>2013-01-01 05:00:00</td></tr>\n",
              "\t<tr><td>1</td><td>555</td><td>600</td><td>-5</td><td> 913</td><td> 854</td><td> 19</td><td>B6</td><td> 507</td><td>N516JB</td><td>EWR</td><td>FLL</td><td>158</td><td>1065</td><td>6</td><td> 0</td><td>2013-01-01 06:00:00</td></tr>\n",
              "\t<tr><td>1</td><td>557</td><td>600</td><td>-3</td><td> 709</td><td> 723</td><td>-14</td><td>EV</td><td>5708</td><td>N829AS</td><td>LGA</td><td>IAD</td><td> 53</td><td> 229</td><td>6</td><td> 0</td><td>2013-01-01 06:00:00</td></tr>\n",
              "\t<tr><td>1</td><td>557</td><td>600</td><td>-3</td><td> 838</td><td> 846</td><td> -8</td><td>B6</td><td>  79</td><td>N593JB</td><td>JFK</td><td>MCO</td><td>140</td><td> 944</td><td>6</td><td> 0</td><td>2013-01-01 06:00:00</td></tr>\n",
              "\t<tr><td>1</td><td>558</td><td>600</td><td>-2</td><td> 753</td><td> 745</td><td>  8</td><td>AA</td><td> 301</td><td>N3ALAA</td><td>LGA</td><td>ORD</td><td>138</td><td> 733</td><td>6</td><td> 0</td><td>2013-01-01 06:00:00</td></tr>\n",
              "\t<tr><td>1</td><td>558</td><td>600</td><td>-2</td><td> 849</td><td> 851</td><td> -2</td><td>B6</td><td>  49</td><td>N793JB</td><td>JFK</td><td>PBI</td><td>149</td><td>1028</td><td>6</td><td> 0</td><td>2013-01-01 06:00:00</td></tr>\n",
              "\t<tr><td>1</td><td>558</td><td>600</td><td>-2</td><td> 853</td><td> 856</td><td> -3</td><td>B6</td><td>  71</td><td>N657JB</td><td>JFK</td><td>TPA</td><td>158</td><td>1005</td><td>6</td><td> 0</td><td>2013-01-01 06:00:00</td></tr>\n",
              "\t<tr><td>1</td><td>558</td><td>600</td><td>-2</td><td> 924</td><td> 917</td><td>  7</td><td>UA</td><td> 194</td><td>N29129</td><td>JFK</td><td>LAX</td><td>345</td><td>2475</td><td>6</td><td> 0</td><td>2013-01-01 06:00:00</td></tr>\n",
              "\t<tr><td>1</td><td>558</td><td>600</td><td>-2</td><td> 923</td><td> 937</td><td>-14</td><td>UA</td><td>1124</td><td>N53441</td><td>EWR</td><td>SFO</td><td>361</td><td>2565</td><td>6</td><td> 0</td><td>2013-01-01 06:00:00</td></tr>\n",
              "\t<tr><td>1</td><td>559</td><td>600</td><td>-1</td><td> 941</td><td> 910</td><td> 31</td><td>AA</td><td> 707</td><td>N3DUAA</td><td>LGA</td><td>DFW</td><td>257</td><td>1389</td><td>6</td><td> 0</td><td>2013-01-01 06:00:00</td></tr>\n",
              "\t<tr><td>1</td><td>559</td><td>559</td><td> 0</td><td> 702</td><td> 706</td><td> -4</td><td>B6</td><td>1806</td><td>N708JB</td><td>JFK</td><td>BOS</td><td> 44</td><td> 187</td><td>5</td><td>59</td><td>2013-01-01 05:00:00</td></tr>\n",
              "\t<tr><td>1</td><td>559</td><td>600</td><td>-1</td><td> 854</td><td> 902</td><td> -8</td><td>UA</td><td>1187</td><td>N76515</td><td>EWR</td><td>LAS</td><td>337</td><td>2227</td><td>6</td><td> 0</td><td>2013-01-01 06:00:00</td></tr>\n",
              "\t<tr><td>1</td><td>600</td><td>600</td><td> 0</td><td> 851</td><td> 858</td><td> -7</td><td>B6</td><td> 371</td><td>N595JB</td><td>LGA</td><td>FLL</td><td>152</td><td>1076</td><td>6</td><td> 0</td><td>2013-01-01 06:00:00</td></tr>\n",
              "\t<tr><td>1</td><td>600</td><td>600</td><td> 0</td><td> 837</td><td> 825</td><td> 12</td><td>MQ</td><td>4650</td><td>N542MQ</td><td>LGA</td><td>ATL</td><td>134</td><td> 762</td><td>6</td><td> 0</td><td>2013-01-01 06:00:00</td></tr>\n",
              "\t<tr><td>1</td><td>601</td><td>600</td><td> 1</td><td> 844</td><td> 850</td><td> -6</td><td>B6</td><td> 343</td><td>N644JB</td><td>EWR</td><td>PBI</td><td>147</td><td>1023</td><td>6</td><td> 0</td><td>2013-01-01 06:00:00</td></tr>\n",
              "\t<tr><td>1</td><td>602</td><td>610</td><td>-8</td><td> 812</td><td> 820</td><td> -8</td><td>DL</td><td>1919</td><td>N971DL</td><td>LGA</td><td>MSP</td><td>170</td><td>1020</td><td>6</td><td>10</td><td>2013-01-01 06:00:00</td></tr>\n",
              "\t<tr><td>1</td><td>602</td><td>605</td><td>-3</td><td> 821</td><td> 805</td><td> 16</td><td>MQ</td><td>4401</td><td>N730MQ</td><td>LGA</td><td>DTW</td><td>105</td><td> 502</td><td>6</td><td> 5</td><td>2013-01-01 06:00:00</td></tr>\n",
              "\t<tr><td>1</td><td>606</td><td>610</td><td>-4</td><td> 858</td><td> 910</td><td>-12</td><td>AA</td><td>1895</td><td>N633AA</td><td>EWR</td><td>MIA</td><td>152</td><td>1085</td><td>6</td><td>10</td><td>2013-01-01 06:00:00</td></tr>\n",
              "\t<tr><td>1</td><td>606</td><td>610</td><td>-4</td><td> 837</td><td> 845</td><td> -8</td><td>DL</td><td>1743</td><td>N3739P</td><td>JFK</td><td>ATL</td><td>128</td><td> 760</td><td>6</td><td>10</td><td>2013-01-01 06:00:00</td></tr>\n",
              "\t<tr><td>1</td><td>607</td><td>607</td><td> 0</td><td> 858</td><td> 915</td><td>-17</td><td>UA</td><td>1077</td><td>N53442</td><td>EWR</td><td>MIA</td><td>157</td><td>1085</td><td>6</td><td> 7</td><td>2013-01-01 06:00:00</td></tr>\n",
              "\t<tr><td>1</td><td>608</td><td>600</td><td> 8</td><td> 807</td><td> 735</td><td> 32</td><td>MQ</td><td>3768</td><td>N9EAMQ</td><td>EWR</td><td>ORD</td><td>139</td><td> 719</td><td>6</td><td> 0</td><td>2013-01-01 06:00:00</td></tr>\n",
              "\t<tr><td>1</td><td>611</td><td>600</td><td>11</td><td> 945</td><td> 931</td><td> 14</td><td>UA</td><td> 303</td><td>N532UA</td><td>JFK</td><td>SFO</td><td>366</td><td>2586</td><td>6</td><td> 0</td><td>2013-01-01 06:00:00</td></tr>\n",
              "\t<tr><td>1</td><td>613</td><td>610</td><td> 3</td><td> 925</td><td> 921</td><td>  4</td><td>B6</td><td> 135</td><td>N635JB</td><td>JFK</td><td>RSW</td><td>175</td><td>1074</td><td>6</td><td>10</td><td>2013-01-01 06:00:00</td></tr>\n",
              "\t<tr><td>1</td><td>615</td><td>615</td><td> 0</td><td>1039</td><td>1100</td><td>-21</td><td>B6</td><td> 709</td><td>N794JB</td><td>JFK</td><td>SJU</td><td>182</td><td>1598</td><td>6</td><td>15</td><td>2013-01-01 06:00:00</td></tr>\n",
              "\t<tr><td>1</td><td>615</td><td>615</td><td> 0</td><td> 833</td><td> 842</td><td> -9</td><td>DL</td><td> 575</td><td>N326NB</td><td>EWR</td><td>ATL</td><td>120</td><td> 746</td><td>6</td><td>15</td><td>2013-01-01 06:00:00</td></tr>\n",
              "\t<tr><td>⋮</td><td>⋮</td><td>⋮</td><td>⋮</td><td>⋮</td><td>⋮</td><td>⋮</td><td>⋮</td><td>⋮</td><td>⋮</td><td>⋮</td><td>⋮</td><td>⋮</td><td>⋮</td><td>⋮</td><td>⋮</td><td>⋮</td></tr>\n",
              "\t<tr><td>30</td><td>2123</td><td>2125</td><td> -2</td><td>2223</td><td>2247</td><td>-24</td><td>EV</td><td>5489</td><td>N712EV</td><td>LGA</td><td>CHO</td><td> 45</td><td> 305</td><td>21</td><td>25</td><td>2013-09-30 21:00:00</td></tr>\n",
              "\t<tr><td>30</td><td>2127</td><td>2129</td><td> -2</td><td>2314</td><td>2323</td><td> -9</td><td>EV</td><td>3833</td><td>N16546</td><td>EWR</td><td>CLT</td><td> 72</td><td> 529</td><td>21</td><td>29</td><td>2013-09-30 21:00:00</td></tr>\n",
              "\t<tr><td>30</td><td>2128</td><td>2130</td><td> -2</td><td>2328</td><td>2359</td><td>-31</td><td>B6</td><td>  97</td><td>N807JB</td><td>JFK</td><td>DEN</td><td>213</td><td>1626</td><td>21</td><td>30</td><td>2013-09-30 21:00:00</td></tr>\n",
              "\t<tr><td>30</td><td>2129</td><td>2059</td><td> 30</td><td>2230</td><td>2232</td><td> -2</td><td>EV</td><td>5048</td><td>N751EV</td><td>LGA</td><td>RIC</td><td> 45</td><td> 292</td><td>20</td><td>59</td><td>2013-09-30 20:00:00</td></tr>\n",
              "\t<tr><td>30</td><td>2131</td><td>2140</td><td> -9</td><td>2225</td><td>2255</td><td>-30</td><td>MQ</td><td>3621</td><td>N807MQ</td><td>JFK</td><td>DCA</td><td> 36</td><td> 213</td><td>21</td><td>40</td><td>2013-09-30 21:00:00</td></tr>\n",
              "\t<tr><td>30</td><td>2140</td><td>2140</td><td>  0</td><td>  10</td><td>  40</td><td>-30</td><td>AA</td><td> 185</td><td>N335AA</td><td>JFK</td><td>LAX</td><td>298</td><td>2475</td><td>21</td><td>40</td><td>2013-09-30 21:00:00</td></tr>\n",
              "\t<tr><td>30</td><td>2142</td><td>2129</td><td> 13</td><td>2250</td><td>2239</td><td> 11</td><td>EV</td><td>4509</td><td>N12957</td><td>EWR</td><td>PWM</td><td> 47</td><td> 284</td><td>21</td><td>29</td><td>2013-09-30 21:00:00</td></tr>\n",
              "\t<tr><td>30</td><td>2145</td><td>2145</td><td>  0</td><td> 115</td><td> 140</td><td>-25</td><td>B6</td><td>1103</td><td>N633JB</td><td>JFK</td><td>SJU</td><td>192</td><td>1598</td><td>21</td><td>45</td><td>2013-09-30 21:00:00</td></tr>\n",
              "\t<tr><td>30</td><td>2147</td><td>2137</td><td> 10</td><td>  30</td><td>  27</td><td>  3</td><td>B6</td><td>1371</td><td>N627JB</td><td>LGA</td><td>FLL</td><td>139</td><td>1076</td><td>21</td><td>37</td><td>2013-09-30 21:00:00</td></tr>\n",
              "\t<tr><td>30</td><td>2149</td><td>2156</td><td> -7</td><td>2245</td><td>2308</td><td>-23</td><td>UA</td><td> 523</td><td>N813UA</td><td>EWR</td><td>BOS</td><td> 37</td><td> 200</td><td>21</td><td>56</td><td>2013-09-30 21:00:00</td></tr>\n",
              "\t<tr><td>30</td><td>2150</td><td>2159</td><td> -9</td><td>2250</td><td>2306</td><td>-16</td><td>EV</td><td>3842</td><td>N10575</td><td>EWR</td><td>MHT</td><td> 39</td><td> 209</td><td>21</td><td>59</td><td>2013-09-30 21:00:00</td></tr>\n",
              "\t<tr><td>30</td><td>2159</td><td>1845</td><td>194</td><td>2344</td><td>2030</td><td>194</td><td>9E</td><td>3320</td><td>N906XJ</td><td>JFK</td><td>BUF</td><td> 50</td><td> 301</td><td>18</td><td>45</td><td>2013-09-30 18:00:00</td></tr>\n",
              "\t<tr><td>30</td><td>2203</td><td>2205</td><td> -2</td><td>2339</td><td>2331</td><td>  8</td><td>EV</td><td>5311</td><td>N722EV</td><td>LGA</td><td>BGR</td><td> 61</td><td> 378</td><td>22</td><td> 5</td><td>2013-09-30 22:00:00</td></tr>\n",
              "\t<tr><td>30</td><td>2207</td><td>2140</td><td> 27</td><td>2257</td><td>2250</td><td>  7</td><td>MQ</td><td>3660</td><td>N532MQ</td><td>LGA</td><td>BNA</td><td> 97</td><td> 764</td><td>21</td><td>40</td><td>2013-09-30 21:00:00</td></tr>\n",
              "\t<tr><td>30</td><td>2211</td><td>2059</td><td> 72</td><td>2339</td><td>2242</td><td> 57</td><td>EV</td><td>4672</td><td>N12145</td><td>EWR</td><td>STL</td><td>120</td><td> 872</td><td>20</td><td>59</td><td>2013-09-30 20:00:00</td></tr>\n",
              "\t<tr><td>30</td><td>2231</td><td>2245</td><td>-14</td><td>2335</td><td>2356</td><td>-21</td><td>B6</td><td> 108</td><td>N193JB</td><td>JFK</td><td>PWM</td><td> 48</td><td> 273</td><td>22</td><td>45</td><td>2013-09-30 22:00:00</td></tr>\n",
              "\t<tr><td>30</td><td>2233</td><td>2113</td><td> 80</td><td> 112</td><td>  30</td><td> 42</td><td>UA</td><td> 471</td><td>N578UA</td><td>EWR</td><td>SFO</td><td>318</td><td>2565</td><td>21</td><td>13</td><td>2013-09-30 21:00:00</td></tr>\n",
              "\t<tr><td>30</td><td>2235</td><td>2001</td><td>154</td><td>  59</td><td>2249</td><td>130</td><td>B6</td><td>1083</td><td>N804JB</td><td>JFK</td><td>MCO</td><td>123</td><td> 944</td><td>20</td><td> 1</td><td>2013-09-30 20:00:00</td></tr>\n",
              "\t<tr><td>30</td><td>2237</td><td>2245</td><td> -8</td><td>2345</td><td>2353</td><td> -8</td><td>B6</td><td> 234</td><td>N318JB</td><td>JFK</td><td>BTV</td><td> 43</td><td> 266</td><td>22</td><td>45</td><td>2013-09-30 22:00:00</td></tr>\n",
              "\t<tr><td>30</td><td>2240</td><td>2245</td><td> -5</td><td>2334</td><td>2351</td><td>-17</td><td>B6</td><td>1816</td><td>N354JB</td><td>JFK</td><td>SYR</td><td> 41</td><td> 209</td><td>22</td><td>45</td><td>2013-09-30 22:00:00</td></tr>\n",
              "\t<tr><td>30</td><td>2240</td><td>2250</td><td>-10</td><td>2347</td><td>   7</td><td>-20</td><td>B6</td><td>2002</td><td>N281JB</td><td>JFK</td><td>BUF</td><td> 52</td><td> 301</td><td>22</td><td>50</td><td>2013-09-30 22:00:00</td></tr>\n",
              "\t<tr><td>30</td><td>2241</td><td>2246</td><td> -5</td><td>2345</td><td>   1</td><td>-16</td><td>B6</td><td> 486</td><td>N346JB</td><td>JFK</td><td>ROC</td><td> 47</td><td> 264</td><td>22</td><td>46</td><td>2013-09-30 22:00:00</td></tr>\n",
              "\t<tr><td>30</td><td>2307</td><td>2255</td><td> 12</td><td>2359</td><td>2358</td><td>  1</td><td>B6</td><td> 718</td><td>N565JB</td><td>JFK</td><td>BOS</td><td> 33</td><td> 187</td><td>22</td><td>55</td><td>2013-09-30 22:00:00</td></tr>\n",
              "\t<tr><td>30</td><td>2349</td><td>2359</td><td>-10</td><td> 325</td><td> 350</td><td>-25</td><td>B6</td><td> 745</td><td>N516JB</td><td>JFK</td><td>PSE</td><td>196</td><td>1617</td><td>23</td><td>59</td><td>2013-09-30 23:00:00</td></tr>\n",
              "\t<tr><td>30</td><td>  NA</td><td>1842</td><td> NA</td><td>  NA</td><td>2019</td><td> NA</td><td>EV</td><td>5274</td><td>N740EV</td><td>LGA</td><td>BNA</td><td> NA</td><td> 764</td><td>18</td><td>42</td><td>2013-09-30 18:00:00</td></tr>\n",
              "\t<tr><td>30</td><td>  NA</td><td>1455</td><td> NA</td><td>  NA</td><td>1634</td><td> NA</td><td>9E</td><td>3393</td><td>NA    </td><td>JFK</td><td>DCA</td><td> NA</td><td> 213</td><td>14</td><td>55</td><td>2013-09-30 14:00:00</td></tr>\n",
              "\t<tr><td>30</td><td>  NA</td><td>2200</td><td> NA</td><td>  NA</td><td>2312</td><td> NA</td><td>9E</td><td>3525</td><td>NA    </td><td>LGA</td><td>SYR</td><td> NA</td><td> 198</td><td>22</td><td> 0</td><td>2013-09-30 22:00:00</td></tr>\n",
              "\t<tr><td>30</td><td>  NA</td><td>1210</td><td> NA</td><td>  NA</td><td>1330</td><td> NA</td><td>MQ</td><td>3461</td><td>N535MQ</td><td>LGA</td><td>BNA</td><td> NA</td><td> 764</td><td>12</td><td>10</td><td>2013-09-30 12:00:00</td></tr>\n",
              "\t<tr><td>30</td><td>  NA</td><td>1159</td><td> NA</td><td>  NA</td><td>1344</td><td> NA</td><td>MQ</td><td>3572</td><td>N511MQ</td><td>LGA</td><td>CLE</td><td> NA</td><td> 419</td><td>11</td><td>59</td><td>2013-09-30 11:00:00</td></tr>\n",
              "\t<tr><td>30</td><td>  NA</td><td> 840</td><td> NA</td><td>  NA</td><td>1020</td><td> NA</td><td>MQ</td><td>3531</td><td>N839MQ</td><td>LGA</td><td>RDU</td><td> NA</td><td> 431</td><td> 8</td><td>40</td><td>2013-09-30 08:00:00</td></tr>\n",
              "</tbody>\n",
              "</table>\n"
            ]
          },
          "metadata": {
            "tags": []
          }
        }
      ]
    },
    {
      "cell_type": "code",
      "metadata": {
        "colab": {
          "base_uri": "https://localhost:8080/",
          "height": 271
        },
        "id": "sS9lxMkuzY61",
        "outputId": "1cd1b538-a175-47d7-9f93-15a6210efb64"
      },
      "source": [
        "select(flights, starts_with('arr')) %>% head()"
      ],
      "execution_count": null,
      "outputs": [
        {
          "output_type": "display_data",
          "data": {
            "text/plain": [
              "  arr_time arr_delay\n",
              "1  830      11      \n",
              "2  850      20      \n",
              "3  923      33      \n",
              "4 1004     -18      \n",
              "5  812     -25      \n",
              "6  740      12      "
            ],
            "text/latex": "A tibble: 6 × 2\n\\begin{tabular}{ll}\n arr\\_time & arr\\_delay\\\\\n <int> & <dbl>\\\\\n\\hline\n\t  830 &  11\\\\\n\t  850 &  20\\\\\n\t  923 &  33\\\\\n\t 1004 & -18\\\\\n\t  812 & -25\\\\\n\t  740 &  12\\\\\n\\end{tabular}\n",
            "text/markdown": "\nA tibble: 6 × 2\n\n| arr_time &lt;int&gt; | arr_delay &lt;dbl&gt; |\n|---|---|\n|  830 |  11 |\n|  850 |  20 |\n|  923 |  33 |\n| 1004 | -18 |\n|  812 | -25 |\n|  740 |  12 |\n\n",
            "text/html": [
              "<table class=\"dataframe\">\n",
              "<caption>A tibble: 6 × 2</caption>\n",
              "<thead>\n",
              "\t<tr><th scope=col>arr_time</th><th scope=col>arr_delay</th></tr>\n",
              "\t<tr><th scope=col>&lt;int&gt;</th><th scope=col>&lt;dbl&gt;</th></tr>\n",
              "</thead>\n",
              "<tbody>\n",
              "\t<tr><td> 830</td><td> 11</td></tr>\n",
              "\t<tr><td> 850</td><td> 20</td></tr>\n",
              "\t<tr><td> 923</td><td> 33</td></tr>\n",
              "\t<tr><td>1004</td><td>-18</td></tr>\n",
              "\t<tr><td> 812</td><td>-25</td></tr>\n",
              "\t<tr><td> 740</td><td> 12</td></tr>\n",
              "</tbody>\n",
              "</table>\n"
            ]
          },
          "metadata": {
            "tags": []
          }
        }
      ]
    },
    {
      "cell_type": "code",
      "metadata": {
        "colab": {
          "base_uri": "https://localhost:8080/",
          "height": 271
        },
        "id": "MpYL50OPyXwK",
        "outputId": "b2afc6b5-5896-46d7-8c57-77270a7d326a"
      },
      "source": [
        "flights %>%\n",
        "select(year:day, ends_with('delay'), distance, air_time) %>%\n",
        "mutate(sky_time =dep_delay-arr_delay,\n",
        "hours = air_time/60,\n",
        "sky_time_hour = sky_time/hours) %>% head()"
      ],
      "execution_count": null,
      "outputs": [
        {
          "output_type": "display_data",
          "data": {
            "text/plain": [
              "  year month day dep_delay arr_delay distance air_time sky_time hours   \n",
              "1 2013 1     1    2         11       1400     227       -9      3.783333\n",
              "2 2013 1     1    4         20       1416     227      -16      3.783333\n",
              "3 2013 1     1    2         33       1089     160      -31      2.666667\n",
              "4 2013 1     1   -1        -18       1576     183       17      3.050000\n",
              "5 2013 1     1   -6        -25        762     116       19      1.933333\n",
              "6 2013 1     1   -4         12        719     150      -16      2.500000\n",
              "  sky_time_hour\n",
              "1  -2.378855   \n",
              "2  -4.229075   \n",
              "3 -11.625000   \n",
              "4   5.573770   \n",
              "5   9.827586   \n",
              "6  -6.400000   "
            ],
            "text/latex": "A tibble: 6 × 10\n\\begin{tabular}{llllllllll}\n year & month & day & dep\\_delay & arr\\_delay & distance & air\\_time & sky\\_time & hours & sky\\_time\\_hour\\\\\n <int> & <int> & <int> & <dbl> & <dbl> & <dbl> & <dbl> & <dbl> & <dbl> & <dbl>\\\\\n\\hline\n\t 2013 & 1 & 1 &  2 &  11 & 1400 & 227 &  -9 & 3.783333 &  -2.378855\\\\\n\t 2013 & 1 & 1 &  4 &  20 & 1416 & 227 & -16 & 3.783333 &  -4.229075\\\\\n\t 2013 & 1 & 1 &  2 &  33 & 1089 & 160 & -31 & 2.666667 & -11.625000\\\\\n\t 2013 & 1 & 1 & -1 & -18 & 1576 & 183 &  17 & 3.050000 &   5.573770\\\\\n\t 2013 & 1 & 1 & -6 & -25 &  762 & 116 &  19 & 1.933333 &   9.827586\\\\\n\t 2013 & 1 & 1 & -4 &  12 &  719 & 150 & -16 & 2.500000 &  -6.400000\\\\\n\\end{tabular}\n",
            "text/markdown": "\nA tibble: 6 × 10\n\n| year &lt;int&gt; | month &lt;int&gt; | day &lt;int&gt; | dep_delay &lt;dbl&gt; | arr_delay &lt;dbl&gt; | distance &lt;dbl&gt; | air_time &lt;dbl&gt; | sky_time &lt;dbl&gt; | hours &lt;dbl&gt; | sky_time_hour &lt;dbl&gt; |\n|---|---|---|---|---|---|---|---|---|---|\n| 2013 | 1 | 1 |  2 |  11 | 1400 | 227 |  -9 | 3.783333 |  -2.378855 |\n| 2013 | 1 | 1 |  4 |  20 | 1416 | 227 | -16 | 3.783333 |  -4.229075 |\n| 2013 | 1 | 1 |  2 |  33 | 1089 | 160 | -31 | 2.666667 | -11.625000 |\n| 2013 | 1 | 1 | -1 | -18 | 1576 | 183 |  17 | 3.050000 |   5.573770 |\n| 2013 | 1 | 1 | -6 | -25 |  762 | 116 |  19 | 1.933333 |   9.827586 |\n| 2013 | 1 | 1 | -4 |  12 |  719 | 150 | -16 | 2.500000 |  -6.400000 |\n\n",
            "text/html": [
              "<table class=\"dataframe\">\n",
              "<caption>A tibble: 6 × 10</caption>\n",
              "<thead>\n",
              "\t<tr><th scope=col>year</th><th scope=col>month</th><th scope=col>day</th><th scope=col>dep_delay</th><th scope=col>arr_delay</th><th scope=col>distance</th><th scope=col>air_time</th><th scope=col>sky_time</th><th scope=col>hours</th><th scope=col>sky_time_hour</th></tr>\n",
              "\t<tr><th scope=col>&lt;int&gt;</th><th scope=col>&lt;int&gt;</th><th scope=col>&lt;int&gt;</th><th scope=col>&lt;dbl&gt;</th><th scope=col>&lt;dbl&gt;</th><th scope=col>&lt;dbl&gt;</th><th scope=col>&lt;dbl&gt;</th><th scope=col>&lt;dbl&gt;</th><th scope=col>&lt;dbl&gt;</th><th scope=col>&lt;dbl&gt;</th></tr>\n",
              "</thead>\n",
              "<tbody>\n",
              "\t<tr><td>2013</td><td>1</td><td>1</td><td> 2</td><td> 11</td><td>1400</td><td>227</td><td> -9</td><td>3.783333</td><td> -2.378855</td></tr>\n",
              "\t<tr><td>2013</td><td>1</td><td>1</td><td> 4</td><td> 20</td><td>1416</td><td>227</td><td>-16</td><td>3.783333</td><td> -4.229075</td></tr>\n",
              "\t<tr><td>2013</td><td>1</td><td>1</td><td> 2</td><td> 33</td><td>1089</td><td>160</td><td>-31</td><td>2.666667</td><td>-11.625000</td></tr>\n",
              "\t<tr><td>2013</td><td>1</td><td>1</td><td>-1</td><td>-18</td><td>1576</td><td>183</td><td> 17</td><td>3.050000</td><td>  5.573770</td></tr>\n",
              "\t<tr><td>2013</td><td>1</td><td>1</td><td>-6</td><td>-25</td><td> 762</td><td>116</td><td> 19</td><td>1.933333</td><td>  9.827586</td></tr>\n",
              "\t<tr><td>2013</td><td>1</td><td>1</td><td>-4</td><td> 12</td><td> 719</td><td>150</td><td>-16</td><td>2.500000</td><td> -6.400000</td></tr>\n",
              "</tbody>\n",
              "</table>\n"
            ]
          },
          "metadata": {
            "tags": []
          }
        }
      ]
    },
    {
      "cell_type": "code",
      "metadata": {
        "id": "oOJn3ztn2aSY"
      },
      "source": [
        "flight_hw<- flights %>%\n",
        "             select(year:day, ends_with('delay'), distance, air_time) %>%\n",
        "             mutate(sky_time =dep_delay-arr_delay,\n",
        "             hours = air_time/60,\n",
        "             sky_time_hour = sky_time/hours)"
      ],
      "execution_count": null,
      "outputs": []
    },
    {
      "cell_type": "code",
      "metadata": {
        "colab": {
          "base_uri": "https://localhost:8080/",
          "height": 1000
        },
        "id": "LodCi2VL2aU-",
        "outputId": "ab8613f0-0c29-4865-dfad-744608712d54"
      },
      "source": [
        "flight_hw"
      ],
      "execution_count": null,
      "outputs": [
        {
          "output_type": "display_data",
          "data": {
            "text/plain": [
              "       year month day dep_delay arr_delay distance air_time sky_time hours    \n",
              "1      2013 1     1    2         11       1400     227       -9      3.7833333\n",
              "2      2013 1     1    4         20       1416     227      -16      3.7833333\n",
              "3      2013 1     1    2         33       1089     160      -31      2.6666667\n",
              "4      2013 1     1   -1        -18       1576     183       17      3.0500000\n",
              "5      2013 1     1   -6        -25        762     116       19      1.9333333\n",
              "6      2013 1     1   -4         12        719     150      -16      2.5000000\n",
              "7      2013 1     1   -5         19       1065     158      -24      2.6333333\n",
              "8      2013 1     1   -3        -14        229      53       11      0.8833333\n",
              "9      2013 1     1   -3         -8        944     140        5      2.3333333\n",
              "10     2013 1     1   -2          8        733     138      -10      2.3000000\n",
              "11     2013 1     1   -2         -2       1028     149        0      2.4833333\n",
              "12     2013 1     1   -2         -3       1005     158        1      2.6333333\n",
              "13     2013 1     1   -2          7       2475     345       -9      5.7500000\n",
              "14     2013 1     1   -2        -14       2565     361       12      6.0166667\n",
              "15     2013 1     1   -1         31       1389     257      -32      4.2833333\n",
              "16     2013 1     1    0         -4        187      44        4      0.7333333\n",
              "17     2013 1     1   -1         -8       2227     337        7      5.6166667\n",
              "18     2013 1     1    0         -7       1076     152        7      2.5333333\n",
              "19     2013 1     1    0         12        762     134      -12      2.2333333\n",
              "20     2013 1     1    1         -6       1023     147        7      2.4500000\n",
              "21     2013 1     1   -8         -8       1020     170        0      2.8333333\n",
              "22     2013 1     1   -3         16        502     105      -19      1.7500000\n",
              "23     2013 1     1   -4        -12       1085     152        8      2.5333333\n",
              "24     2013 1     1   -4         -8        760     128        4      2.1333333\n",
              "25     2013 1     1    0        -17       1085     157       17      2.6166667\n",
              "26     2013 1     1    8         32        719     139      -24      2.3166667\n",
              "27     2013 1     1   11         14       2586     366       -3      6.1000000\n",
              "28     2013 1     1    3          4       1074     175       -1      2.9166667\n",
              "29     2013 1     1    0        -21       1598     182       21      3.0333333\n",
              "30     2013 1     1    0         -9        746     120        9      2.0000000\n",
              "⋮      ⋮    ⋮     ⋮   ⋮         ⋮         ⋮        ⋮        ⋮        ⋮        \n",
              "336747 2013 9     30   -2       -24        305      45       22      0.7500000\n",
              "336748 2013 9     30   -2        -9        529      72        7      1.2000000\n",
              "336749 2013 9     30   -2       -31       1626     213       29      3.5500000\n",
              "336750 2013 9     30   30        -2        292      45       32      0.7500000\n",
              "336751 2013 9     30   -9       -30        213      36       21      0.6000000\n",
              "336752 2013 9     30    0       -30       2475     298       30      4.9666667\n",
              "336753 2013 9     30   13        11        284      47        2      0.7833333\n",
              "336754 2013 9     30    0       -25       1598     192       25      3.2000000\n",
              "336755 2013 9     30   10         3       1076     139        7      2.3166667\n",
              "336756 2013 9     30   -7       -23        200      37       16      0.6166667\n",
              "336757 2013 9     30   -9       -16        209      39        7      0.6500000\n",
              "336758 2013 9     30  194       194        301      50        0      0.8333333\n",
              "336759 2013 9     30   -2         8        378      61      -10      1.0166667\n",
              "336760 2013 9     30   27         7        764      97       20      1.6166667\n",
              "336761 2013 9     30   72        57        872     120       15      2.0000000\n",
              "336762 2013 9     30  -14       -21        273      48        7      0.8000000\n",
              "336763 2013 9     30   80        42       2565     318       38      5.3000000\n",
              "336764 2013 9     30  154       130        944     123       24      2.0500000\n",
              "336765 2013 9     30   -8        -8        266      43        0      0.7166667\n",
              "336766 2013 9     30   -5       -17        209      41       12      0.6833333\n",
              "336767 2013 9     30  -10       -20        301      52       10      0.8666667\n",
              "336768 2013 9     30   -5       -16        264      47       11      0.7833333\n",
              "336769 2013 9     30   12         1        187      33       11      0.5500000\n",
              "336770 2013 9     30  -10       -25       1617     196       15      3.2666667\n",
              "336771 2013 9     30   NA        NA        764      NA       NA             NA\n",
              "336772 2013 9     30   NA        NA        213      NA       NA             NA\n",
              "336773 2013 9     30   NA        NA        198      NA       NA             NA\n",
              "336774 2013 9     30   NA        NA        764      NA       NA             NA\n",
              "336775 2013 9     30   NA        NA        419      NA       NA             NA\n",
              "336776 2013 9     30   NA        NA        431      NA       NA             NA\n",
              "       sky_time_hour\n",
              "1       -2.3788546  \n",
              "2       -4.2290749  \n",
              "3      -11.6250000  \n",
              "4        5.5737705  \n",
              "5        9.8275862  \n",
              "6       -6.4000000  \n",
              "7       -9.1139241  \n",
              "8       12.4528302  \n",
              "9        2.1428571  \n",
              "10      -4.3478261  \n",
              "11       0.0000000  \n",
              "12       0.3797468  \n",
              "13      -1.5652174  \n",
              "14       1.9944598  \n",
              "15      -7.4708171  \n",
              "16       5.4545455  \n",
              "17       1.2462908  \n",
              "18       2.7631579  \n",
              "19      -5.3731343  \n",
              "20       2.8571429  \n",
              "21       0.0000000  \n",
              "22     -10.8571429  \n",
              "23       3.1578947  \n",
              "24       1.8750000  \n",
              "25       6.4968153  \n",
              "26     -10.3597122  \n",
              "27      -0.4918033  \n",
              "28      -0.3428571  \n",
              "29       6.9230769  \n",
              "30       4.5000000  \n",
              "⋮      ⋮            \n",
              "336747 29.333333    \n",
              "336748  5.833333    \n",
              "336749  8.169014    \n",
              "336750 42.666667    \n",
              "336751 35.000000    \n",
              "336752  6.040268    \n",
              "336753  2.553191    \n",
              "336754  7.812500    \n",
              "336755  3.021583    \n",
              "336756 25.945946    \n",
              "336757 10.769231    \n",
              "336758  0.000000    \n",
              "336759 -9.836066    \n",
              "336760 12.371134    \n",
              "336761  7.500000    \n",
              "336762  8.750000    \n",
              "336763  7.169811    \n",
              "336764 11.707317    \n",
              "336765  0.000000    \n",
              "336766 17.560976    \n",
              "336767 11.538462    \n",
              "336768 14.042553    \n",
              "336769 20.000000    \n",
              "336770  4.591837    \n",
              "336771        NA    \n",
              "336772        NA    \n",
              "336773        NA    \n",
              "336774        NA    \n",
              "336775        NA    \n",
              "336776        NA    "
            ],
            "text/latex": "A tibble: 336776 × 10\n\\begin{tabular}{llllllllll}\n year & month & day & dep\\_delay & arr\\_delay & distance & air\\_time & sky\\_time & hours & sky\\_time\\_hour\\\\\n <int> & <int> & <int> & <dbl> & <dbl> & <dbl> & <dbl> & <dbl> & <dbl> & <dbl>\\\\\n\\hline\n\t 2013 & 1 & 1 &  2 &  11 & 1400 & 227 &  -9 & 3.7833333 &  -2.3788546\\\\\n\t 2013 & 1 & 1 &  4 &  20 & 1416 & 227 & -16 & 3.7833333 &  -4.2290749\\\\\n\t 2013 & 1 & 1 &  2 &  33 & 1089 & 160 & -31 & 2.6666667 & -11.6250000\\\\\n\t 2013 & 1 & 1 & -1 & -18 & 1576 & 183 &  17 & 3.0500000 &   5.5737705\\\\\n\t 2013 & 1 & 1 & -6 & -25 &  762 & 116 &  19 & 1.9333333 &   9.8275862\\\\\n\t 2013 & 1 & 1 & -4 &  12 &  719 & 150 & -16 & 2.5000000 &  -6.4000000\\\\\n\t 2013 & 1 & 1 & -5 &  19 & 1065 & 158 & -24 & 2.6333333 &  -9.1139241\\\\\n\t 2013 & 1 & 1 & -3 & -14 &  229 &  53 &  11 & 0.8833333 &  12.4528302\\\\\n\t 2013 & 1 & 1 & -3 &  -8 &  944 & 140 &   5 & 2.3333333 &   2.1428571\\\\\n\t 2013 & 1 & 1 & -2 &   8 &  733 & 138 & -10 & 2.3000000 &  -4.3478261\\\\\n\t 2013 & 1 & 1 & -2 &  -2 & 1028 & 149 &   0 & 2.4833333 &   0.0000000\\\\\n\t 2013 & 1 & 1 & -2 &  -3 & 1005 & 158 &   1 & 2.6333333 &   0.3797468\\\\\n\t 2013 & 1 & 1 & -2 &   7 & 2475 & 345 &  -9 & 5.7500000 &  -1.5652174\\\\\n\t 2013 & 1 & 1 & -2 & -14 & 2565 & 361 &  12 & 6.0166667 &   1.9944598\\\\\n\t 2013 & 1 & 1 & -1 &  31 & 1389 & 257 & -32 & 4.2833333 &  -7.4708171\\\\\n\t 2013 & 1 & 1 &  0 &  -4 &  187 &  44 &   4 & 0.7333333 &   5.4545455\\\\\n\t 2013 & 1 & 1 & -1 &  -8 & 2227 & 337 &   7 & 5.6166667 &   1.2462908\\\\\n\t 2013 & 1 & 1 &  0 &  -7 & 1076 & 152 &   7 & 2.5333333 &   2.7631579\\\\\n\t 2013 & 1 & 1 &  0 &  12 &  762 & 134 & -12 & 2.2333333 &  -5.3731343\\\\\n\t 2013 & 1 & 1 &  1 &  -6 & 1023 & 147 &   7 & 2.4500000 &   2.8571429\\\\\n\t 2013 & 1 & 1 & -8 &  -8 & 1020 & 170 &   0 & 2.8333333 &   0.0000000\\\\\n\t 2013 & 1 & 1 & -3 &  16 &  502 & 105 & -19 & 1.7500000 & -10.8571429\\\\\n\t 2013 & 1 & 1 & -4 & -12 & 1085 & 152 &   8 & 2.5333333 &   3.1578947\\\\\n\t 2013 & 1 & 1 & -4 &  -8 &  760 & 128 &   4 & 2.1333333 &   1.8750000\\\\\n\t 2013 & 1 & 1 &  0 & -17 & 1085 & 157 &  17 & 2.6166667 &   6.4968153\\\\\n\t 2013 & 1 & 1 &  8 &  32 &  719 & 139 & -24 & 2.3166667 & -10.3597122\\\\\n\t 2013 & 1 & 1 & 11 &  14 & 2586 & 366 &  -3 & 6.1000000 &  -0.4918033\\\\\n\t 2013 & 1 & 1 &  3 &   4 & 1074 & 175 &  -1 & 2.9166667 &  -0.3428571\\\\\n\t 2013 & 1 & 1 &  0 & -21 & 1598 & 182 &  21 & 3.0333333 &   6.9230769\\\\\n\t 2013 & 1 & 1 &  0 &  -9 &  746 & 120 &   9 & 2.0000000 &   4.5000000\\\\\n\t ⋮ & ⋮ & ⋮ & ⋮ & ⋮ & ⋮ & ⋮ & ⋮ & ⋮ & ⋮\\\\\n\t 2013 & 9 & 30 &  -2 & -24 &  305 &  45 &  22 & 0.7500000 & 29.333333\\\\\n\t 2013 & 9 & 30 &  -2 &  -9 &  529 &  72 &   7 & 1.2000000 &  5.833333\\\\\n\t 2013 & 9 & 30 &  -2 & -31 & 1626 & 213 &  29 & 3.5500000 &  8.169014\\\\\n\t 2013 & 9 & 30 &  30 &  -2 &  292 &  45 &  32 & 0.7500000 & 42.666667\\\\\n\t 2013 & 9 & 30 &  -9 & -30 &  213 &  36 &  21 & 0.6000000 & 35.000000\\\\\n\t 2013 & 9 & 30 &   0 & -30 & 2475 & 298 &  30 & 4.9666667 &  6.040268\\\\\n\t 2013 & 9 & 30 &  13 &  11 &  284 &  47 &   2 & 0.7833333 &  2.553191\\\\\n\t 2013 & 9 & 30 &   0 & -25 & 1598 & 192 &  25 & 3.2000000 &  7.812500\\\\\n\t 2013 & 9 & 30 &  10 &   3 & 1076 & 139 &   7 & 2.3166667 &  3.021583\\\\\n\t 2013 & 9 & 30 &  -7 & -23 &  200 &  37 &  16 & 0.6166667 & 25.945946\\\\\n\t 2013 & 9 & 30 &  -9 & -16 &  209 &  39 &   7 & 0.6500000 & 10.769231\\\\\n\t 2013 & 9 & 30 & 194 & 194 &  301 &  50 &   0 & 0.8333333 &  0.000000\\\\\n\t 2013 & 9 & 30 &  -2 &   8 &  378 &  61 & -10 & 1.0166667 & -9.836066\\\\\n\t 2013 & 9 & 30 &  27 &   7 &  764 &  97 &  20 & 1.6166667 & 12.371134\\\\\n\t 2013 & 9 & 30 &  72 &  57 &  872 & 120 &  15 & 2.0000000 &  7.500000\\\\\n\t 2013 & 9 & 30 & -14 & -21 &  273 &  48 &   7 & 0.8000000 &  8.750000\\\\\n\t 2013 & 9 & 30 &  80 &  42 & 2565 & 318 &  38 & 5.3000000 &  7.169811\\\\\n\t 2013 & 9 & 30 & 154 & 130 &  944 & 123 &  24 & 2.0500000 & 11.707317\\\\\n\t 2013 & 9 & 30 &  -8 &  -8 &  266 &  43 &   0 & 0.7166667 &  0.000000\\\\\n\t 2013 & 9 & 30 &  -5 & -17 &  209 &  41 &  12 & 0.6833333 & 17.560976\\\\\n\t 2013 & 9 & 30 & -10 & -20 &  301 &  52 &  10 & 0.8666667 & 11.538462\\\\\n\t 2013 & 9 & 30 &  -5 & -16 &  264 &  47 &  11 & 0.7833333 & 14.042553\\\\\n\t 2013 & 9 & 30 &  12 &   1 &  187 &  33 &  11 & 0.5500000 & 20.000000\\\\\n\t 2013 & 9 & 30 & -10 & -25 & 1617 & 196 &  15 & 3.2666667 &  4.591837\\\\\n\t 2013 & 9 & 30 &  NA &  NA &  764 &  NA &  NA &        NA &        NA\\\\\n\t 2013 & 9 & 30 &  NA &  NA &  213 &  NA &  NA &        NA &        NA\\\\\n\t 2013 & 9 & 30 &  NA &  NA &  198 &  NA &  NA &        NA &        NA\\\\\n\t 2013 & 9 & 30 &  NA &  NA &  764 &  NA &  NA &        NA &        NA\\\\\n\t 2013 & 9 & 30 &  NA &  NA &  419 &  NA &  NA &        NA &        NA\\\\\n\t 2013 & 9 & 30 &  NA &  NA &  431 &  NA &  NA &        NA &        NA\\\\\n\\end{tabular}\n",
            "text/markdown": "\nA tibble: 336776 × 10\n\n| year &lt;int&gt; | month &lt;int&gt; | day &lt;int&gt; | dep_delay &lt;dbl&gt; | arr_delay &lt;dbl&gt; | distance &lt;dbl&gt; | air_time &lt;dbl&gt; | sky_time &lt;dbl&gt; | hours &lt;dbl&gt; | sky_time_hour &lt;dbl&gt; |\n|---|---|---|---|---|---|---|---|---|---|\n| 2013 | 1 | 1 |  2 |  11 | 1400 | 227 |  -9 | 3.7833333 |  -2.3788546 |\n| 2013 | 1 | 1 |  4 |  20 | 1416 | 227 | -16 | 3.7833333 |  -4.2290749 |\n| 2013 | 1 | 1 |  2 |  33 | 1089 | 160 | -31 | 2.6666667 | -11.6250000 |\n| 2013 | 1 | 1 | -1 | -18 | 1576 | 183 |  17 | 3.0500000 |   5.5737705 |\n| 2013 | 1 | 1 | -6 | -25 |  762 | 116 |  19 | 1.9333333 |   9.8275862 |\n| 2013 | 1 | 1 | -4 |  12 |  719 | 150 | -16 | 2.5000000 |  -6.4000000 |\n| 2013 | 1 | 1 | -5 |  19 | 1065 | 158 | -24 | 2.6333333 |  -9.1139241 |\n| 2013 | 1 | 1 | -3 | -14 |  229 |  53 |  11 | 0.8833333 |  12.4528302 |\n| 2013 | 1 | 1 | -3 |  -8 |  944 | 140 |   5 | 2.3333333 |   2.1428571 |\n| 2013 | 1 | 1 | -2 |   8 |  733 | 138 | -10 | 2.3000000 |  -4.3478261 |\n| 2013 | 1 | 1 | -2 |  -2 | 1028 | 149 |   0 | 2.4833333 |   0.0000000 |\n| 2013 | 1 | 1 | -2 |  -3 | 1005 | 158 |   1 | 2.6333333 |   0.3797468 |\n| 2013 | 1 | 1 | -2 |   7 | 2475 | 345 |  -9 | 5.7500000 |  -1.5652174 |\n| 2013 | 1 | 1 | -2 | -14 | 2565 | 361 |  12 | 6.0166667 |   1.9944598 |\n| 2013 | 1 | 1 | -1 |  31 | 1389 | 257 | -32 | 4.2833333 |  -7.4708171 |\n| 2013 | 1 | 1 |  0 |  -4 |  187 |  44 |   4 | 0.7333333 |   5.4545455 |\n| 2013 | 1 | 1 | -1 |  -8 | 2227 | 337 |   7 | 5.6166667 |   1.2462908 |\n| 2013 | 1 | 1 |  0 |  -7 | 1076 | 152 |   7 | 2.5333333 |   2.7631579 |\n| 2013 | 1 | 1 |  0 |  12 |  762 | 134 | -12 | 2.2333333 |  -5.3731343 |\n| 2013 | 1 | 1 |  1 |  -6 | 1023 | 147 |   7 | 2.4500000 |   2.8571429 |\n| 2013 | 1 | 1 | -8 |  -8 | 1020 | 170 |   0 | 2.8333333 |   0.0000000 |\n| 2013 | 1 | 1 | -3 |  16 |  502 | 105 | -19 | 1.7500000 | -10.8571429 |\n| 2013 | 1 | 1 | -4 | -12 | 1085 | 152 |   8 | 2.5333333 |   3.1578947 |\n| 2013 | 1 | 1 | -4 |  -8 |  760 | 128 |   4 | 2.1333333 |   1.8750000 |\n| 2013 | 1 | 1 |  0 | -17 | 1085 | 157 |  17 | 2.6166667 |   6.4968153 |\n| 2013 | 1 | 1 |  8 |  32 |  719 | 139 | -24 | 2.3166667 | -10.3597122 |\n| 2013 | 1 | 1 | 11 |  14 | 2586 | 366 |  -3 | 6.1000000 |  -0.4918033 |\n| 2013 | 1 | 1 |  3 |   4 | 1074 | 175 |  -1 | 2.9166667 |  -0.3428571 |\n| 2013 | 1 | 1 |  0 | -21 | 1598 | 182 |  21 | 3.0333333 |   6.9230769 |\n| 2013 | 1 | 1 |  0 |  -9 |  746 | 120 |   9 | 2.0000000 |   4.5000000 |\n| ⋮ | ⋮ | ⋮ | ⋮ | ⋮ | ⋮ | ⋮ | ⋮ | ⋮ | ⋮ |\n| 2013 | 9 | 30 |  -2 | -24 |  305 |  45 |  22 | 0.7500000 | 29.333333 |\n| 2013 | 9 | 30 |  -2 |  -9 |  529 |  72 |   7 | 1.2000000 |  5.833333 |\n| 2013 | 9 | 30 |  -2 | -31 | 1626 | 213 |  29 | 3.5500000 |  8.169014 |\n| 2013 | 9 | 30 |  30 |  -2 |  292 |  45 |  32 | 0.7500000 | 42.666667 |\n| 2013 | 9 | 30 |  -9 | -30 |  213 |  36 |  21 | 0.6000000 | 35.000000 |\n| 2013 | 9 | 30 |   0 | -30 | 2475 | 298 |  30 | 4.9666667 |  6.040268 |\n| 2013 | 9 | 30 |  13 |  11 |  284 |  47 |   2 | 0.7833333 |  2.553191 |\n| 2013 | 9 | 30 |   0 | -25 | 1598 | 192 |  25 | 3.2000000 |  7.812500 |\n| 2013 | 9 | 30 |  10 |   3 | 1076 | 139 |   7 | 2.3166667 |  3.021583 |\n| 2013 | 9 | 30 |  -7 | -23 |  200 |  37 |  16 | 0.6166667 | 25.945946 |\n| 2013 | 9 | 30 |  -9 | -16 |  209 |  39 |   7 | 0.6500000 | 10.769231 |\n| 2013 | 9 | 30 | 194 | 194 |  301 |  50 |   0 | 0.8333333 |  0.000000 |\n| 2013 | 9 | 30 |  -2 |   8 |  378 |  61 | -10 | 1.0166667 | -9.836066 |\n| 2013 | 9 | 30 |  27 |   7 |  764 |  97 |  20 | 1.6166667 | 12.371134 |\n| 2013 | 9 | 30 |  72 |  57 |  872 | 120 |  15 | 2.0000000 |  7.500000 |\n| 2013 | 9 | 30 | -14 | -21 |  273 |  48 |   7 | 0.8000000 |  8.750000 |\n| 2013 | 9 | 30 |  80 |  42 | 2565 | 318 |  38 | 5.3000000 |  7.169811 |\n| 2013 | 9 | 30 | 154 | 130 |  944 | 123 |  24 | 2.0500000 | 11.707317 |\n| 2013 | 9 | 30 |  -8 |  -8 |  266 |  43 |   0 | 0.7166667 |  0.000000 |\n| 2013 | 9 | 30 |  -5 | -17 |  209 |  41 |  12 | 0.6833333 | 17.560976 |\n| 2013 | 9 | 30 | -10 | -20 |  301 |  52 |  10 | 0.8666667 | 11.538462 |\n| 2013 | 9 | 30 |  -5 | -16 |  264 |  47 |  11 | 0.7833333 | 14.042553 |\n| 2013 | 9 | 30 |  12 |   1 |  187 |  33 |  11 | 0.5500000 | 20.000000 |\n| 2013 | 9 | 30 | -10 | -25 | 1617 | 196 |  15 | 3.2666667 |  4.591837 |\n| 2013 | 9 | 30 |  NA |  NA |  764 |  NA |  NA |        NA |        NA |\n| 2013 | 9 | 30 |  NA |  NA |  213 |  NA |  NA |        NA |        NA |\n| 2013 | 9 | 30 |  NA |  NA |  198 |  NA |  NA |        NA |        NA |\n| 2013 | 9 | 30 |  NA |  NA |  764 |  NA |  NA |        NA |        NA |\n| 2013 | 9 | 30 |  NA |  NA |  419 |  NA |  NA |        NA |        NA |\n| 2013 | 9 | 30 |  NA |  NA |  431 |  NA |  NA |        NA |        NA |\n\n",
            "text/html": [
              "<table class=\"dataframe\">\n",
              "<caption>A tibble: 336776 × 10</caption>\n",
              "<thead>\n",
              "\t<tr><th scope=col>year</th><th scope=col>month</th><th scope=col>day</th><th scope=col>dep_delay</th><th scope=col>arr_delay</th><th scope=col>distance</th><th scope=col>air_time</th><th scope=col>sky_time</th><th scope=col>hours</th><th scope=col>sky_time_hour</th></tr>\n",
              "\t<tr><th scope=col>&lt;int&gt;</th><th scope=col>&lt;int&gt;</th><th scope=col>&lt;int&gt;</th><th scope=col>&lt;dbl&gt;</th><th scope=col>&lt;dbl&gt;</th><th scope=col>&lt;dbl&gt;</th><th scope=col>&lt;dbl&gt;</th><th scope=col>&lt;dbl&gt;</th><th scope=col>&lt;dbl&gt;</th><th scope=col>&lt;dbl&gt;</th></tr>\n",
              "</thead>\n",
              "<tbody>\n",
              "\t<tr><td>2013</td><td>1</td><td>1</td><td> 2</td><td> 11</td><td>1400</td><td>227</td><td> -9</td><td>3.7833333</td><td> -2.3788546</td></tr>\n",
              "\t<tr><td>2013</td><td>1</td><td>1</td><td> 4</td><td> 20</td><td>1416</td><td>227</td><td>-16</td><td>3.7833333</td><td> -4.2290749</td></tr>\n",
              "\t<tr><td>2013</td><td>1</td><td>1</td><td> 2</td><td> 33</td><td>1089</td><td>160</td><td>-31</td><td>2.6666667</td><td>-11.6250000</td></tr>\n",
              "\t<tr><td>2013</td><td>1</td><td>1</td><td>-1</td><td>-18</td><td>1576</td><td>183</td><td> 17</td><td>3.0500000</td><td>  5.5737705</td></tr>\n",
              "\t<tr><td>2013</td><td>1</td><td>1</td><td>-6</td><td>-25</td><td> 762</td><td>116</td><td> 19</td><td>1.9333333</td><td>  9.8275862</td></tr>\n",
              "\t<tr><td>2013</td><td>1</td><td>1</td><td>-4</td><td> 12</td><td> 719</td><td>150</td><td>-16</td><td>2.5000000</td><td> -6.4000000</td></tr>\n",
              "\t<tr><td>2013</td><td>1</td><td>1</td><td>-5</td><td> 19</td><td>1065</td><td>158</td><td>-24</td><td>2.6333333</td><td> -9.1139241</td></tr>\n",
              "\t<tr><td>2013</td><td>1</td><td>1</td><td>-3</td><td>-14</td><td> 229</td><td> 53</td><td> 11</td><td>0.8833333</td><td> 12.4528302</td></tr>\n",
              "\t<tr><td>2013</td><td>1</td><td>1</td><td>-3</td><td> -8</td><td> 944</td><td>140</td><td>  5</td><td>2.3333333</td><td>  2.1428571</td></tr>\n",
              "\t<tr><td>2013</td><td>1</td><td>1</td><td>-2</td><td>  8</td><td> 733</td><td>138</td><td>-10</td><td>2.3000000</td><td> -4.3478261</td></tr>\n",
              "\t<tr><td>2013</td><td>1</td><td>1</td><td>-2</td><td> -2</td><td>1028</td><td>149</td><td>  0</td><td>2.4833333</td><td>  0.0000000</td></tr>\n",
              "\t<tr><td>2013</td><td>1</td><td>1</td><td>-2</td><td> -3</td><td>1005</td><td>158</td><td>  1</td><td>2.6333333</td><td>  0.3797468</td></tr>\n",
              "\t<tr><td>2013</td><td>1</td><td>1</td><td>-2</td><td>  7</td><td>2475</td><td>345</td><td> -9</td><td>5.7500000</td><td> -1.5652174</td></tr>\n",
              "\t<tr><td>2013</td><td>1</td><td>1</td><td>-2</td><td>-14</td><td>2565</td><td>361</td><td> 12</td><td>6.0166667</td><td>  1.9944598</td></tr>\n",
              "\t<tr><td>2013</td><td>1</td><td>1</td><td>-1</td><td> 31</td><td>1389</td><td>257</td><td>-32</td><td>4.2833333</td><td> -7.4708171</td></tr>\n",
              "\t<tr><td>2013</td><td>1</td><td>1</td><td> 0</td><td> -4</td><td> 187</td><td> 44</td><td>  4</td><td>0.7333333</td><td>  5.4545455</td></tr>\n",
              "\t<tr><td>2013</td><td>1</td><td>1</td><td>-1</td><td> -8</td><td>2227</td><td>337</td><td>  7</td><td>5.6166667</td><td>  1.2462908</td></tr>\n",
              "\t<tr><td>2013</td><td>1</td><td>1</td><td> 0</td><td> -7</td><td>1076</td><td>152</td><td>  7</td><td>2.5333333</td><td>  2.7631579</td></tr>\n",
              "\t<tr><td>2013</td><td>1</td><td>1</td><td> 0</td><td> 12</td><td> 762</td><td>134</td><td>-12</td><td>2.2333333</td><td> -5.3731343</td></tr>\n",
              "\t<tr><td>2013</td><td>1</td><td>1</td><td> 1</td><td> -6</td><td>1023</td><td>147</td><td>  7</td><td>2.4500000</td><td>  2.8571429</td></tr>\n",
              "\t<tr><td>2013</td><td>1</td><td>1</td><td>-8</td><td> -8</td><td>1020</td><td>170</td><td>  0</td><td>2.8333333</td><td>  0.0000000</td></tr>\n",
              "\t<tr><td>2013</td><td>1</td><td>1</td><td>-3</td><td> 16</td><td> 502</td><td>105</td><td>-19</td><td>1.7500000</td><td>-10.8571429</td></tr>\n",
              "\t<tr><td>2013</td><td>1</td><td>1</td><td>-4</td><td>-12</td><td>1085</td><td>152</td><td>  8</td><td>2.5333333</td><td>  3.1578947</td></tr>\n",
              "\t<tr><td>2013</td><td>1</td><td>1</td><td>-4</td><td> -8</td><td> 760</td><td>128</td><td>  4</td><td>2.1333333</td><td>  1.8750000</td></tr>\n",
              "\t<tr><td>2013</td><td>1</td><td>1</td><td> 0</td><td>-17</td><td>1085</td><td>157</td><td> 17</td><td>2.6166667</td><td>  6.4968153</td></tr>\n",
              "\t<tr><td>2013</td><td>1</td><td>1</td><td> 8</td><td> 32</td><td> 719</td><td>139</td><td>-24</td><td>2.3166667</td><td>-10.3597122</td></tr>\n",
              "\t<tr><td>2013</td><td>1</td><td>1</td><td>11</td><td> 14</td><td>2586</td><td>366</td><td> -3</td><td>6.1000000</td><td> -0.4918033</td></tr>\n",
              "\t<tr><td>2013</td><td>1</td><td>1</td><td> 3</td><td>  4</td><td>1074</td><td>175</td><td> -1</td><td>2.9166667</td><td> -0.3428571</td></tr>\n",
              "\t<tr><td>2013</td><td>1</td><td>1</td><td> 0</td><td>-21</td><td>1598</td><td>182</td><td> 21</td><td>3.0333333</td><td>  6.9230769</td></tr>\n",
              "\t<tr><td>2013</td><td>1</td><td>1</td><td> 0</td><td> -9</td><td> 746</td><td>120</td><td>  9</td><td>2.0000000</td><td>  4.5000000</td></tr>\n",
              "\t<tr><td>⋮</td><td>⋮</td><td>⋮</td><td>⋮</td><td>⋮</td><td>⋮</td><td>⋮</td><td>⋮</td><td>⋮</td><td>⋮</td></tr>\n",
              "\t<tr><td>2013</td><td>9</td><td>30</td><td> -2</td><td>-24</td><td> 305</td><td> 45</td><td> 22</td><td>0.7500000</td><td>29.333333</td></tr>\n",
              "\t<tr><td>2013</td><td>9</td><td>30</td><td> -2</td><td> -9</td><td> 529</td><td> 72</td><td>  7</td><td>1.2000000</td><td> 5.833333</td></tr>\n",
              "\t<tr><td>2013</td><td>9</td><td>30</td><td> -2</td><td>-31</td><td>1626</td><td>213</td><td> 29</td><td>3.5500000</td><td> 8.169014</td></tr>\n",
              "\t<tr><td>2013</td><td>9</td><td>30</td><td> 30</td><td> -2</td><td> 292</td><td> 45</td><td> 32</td><td>0.7500000</td><td>42.666667</td></tr>\n",
              "\t<tr><td>2013</td><td>9</td><td>30</td><td> -9</td><td>-30</td><td> 213</td><td> 36</td><td> 21</td><td>0.6000000</td><td>35.000000</td></tr>\n",
              "\t<tr><td>2013</td><td>9</td><td>30</td><td>  0</td><td>-30</td><td>2475</td><td>298</td><td> 30</td><td>4.9666667</td><td> 6.040268</td></tr>\n",
              "\t<tr><td>2013</td><td>9</td><td>30</td><td> 13</td><td> 11</td><td> 284</td><td> 47</td><td>  2</td><td>0.7833333</td><td> 2.553191</td></tr>\n",
              "\t<tr><td>2013</td><td>9</td><td>30</td><td>  0</td><td>-25</td><td>1598</td><td>192</td><td> 25</td><td>3.2000000</td><td> 7.812500</td></tr>\n",
              "\t<tr><td>2013</td><td>9</td><td>30</td><td> 10</td><td>  3</td><td>1076</td><td>139</td><td>  7</td><td>2.3166667</td><td> 3.021583</td></tr>\n",
              "\t<tr><td>2013</td><td>9</td><td>30</td><td> -7</td><td>-23</td><td> 200</td><td> 37</td><td> 16</td><td>0.6166667</td><td>25.945946</td></tr>\n",
              "\t<tr><td>2013</td><td>9</td><td>30</td><td> -9</td><td>-16</td><td> 209</td><td> 39</td><td>  7</td><td>0.6500000</td><td>10.769231</td></tr>\n",
              "\t<tr><td>2013</td><td>9</td><td>30</td><td>194</td><td>194</td><td> 301</td><td> 50</td><td>  0</td><td>0.8333333</td><td> 0.000000</td></tr>\n",
              "\t<tr><td>2013</td><td>9</td><td>30</td><td> -2</td><td>  8</td><td> 378</td><td> 61</td><td>-10</td><td>1.0166667</td><td>-9.836066</td></tr>\n",
              "\t<tr><td>2013</td><td>9</td><td>30</td><td> 27</td><td>  7</td><td> 764</td><td> 97</td><td> 20</td><td>1.6166667</td><td>12.371134</td></tr>\n",
              "\t<tr><td>2013</td><td>9</td><td>30</td><td> 72</td><td> 57</td><td> 872</td><td>120</td><td> 15</td><td>2.0000000</td><td> 7.500000</td></tr>\n",
              "\t<tr><td>2013</td><td>9</td><td>30</td><td>-14</td><td>-21</td><td> 273</td><td> 48</td><td>  7</td><td>0.8000000</td><td> 8.750000</td></tr>\n",
              "\t<tr><td>2013</td><td>9</td><td>30</td><td> 80</td><td> 42</td><td>2565</td><td>318</td><td> 38</td><td>5.3000000</td><td> 7.169811</td></tr>\n",
              "\t<tr><td>2013</td><td>9</td><td>30</td><td>154</td><td>130</td><td> 944</td><td>123</td><td> 24</td><td>2.0500000</td><td>11.707317</td></tr>\n",
              "\t<tr><td>2013</td><td>9</td><td>30</td><td> -8</td><td> -8</td><td> 266</td><td> 43</td><td>  0</td><td>0.7166667</td><td> 0.000000</td></tr>\n",
              "\t<tr><td>2013</td><td>9</td><td>30</td><td> -5</td><td>-17</td><td> 209</td><td> 41</td><td> 12</td><td>0.6833333</td><td>17.560976</td></tr>\n",
              "\t<tr><td>2013</td><td>9</td><td>30</td><td>-10</td><td>-20</td><td> 301</td><td> 52</td><td> 10</td><td>0.8666667</td><td>11.538462</td></tr>\n",
              "\t<tr><td>2013</td><td>9</td><td>30</td><td> -5</td><td>-16</td><td> 264</td><td> 47</td><td> 11</td><td>0.7833333</td><td>14.042553</td></tr>\n",
              "\t<tr><td>2013</td><td>9</td><td>30</td><td> 12</td><td>  1</td><td> 187</td><td> 33</td><td> 11</td><td>0.5500000</td><td>20.000000</td></tr>\n",
              "\t<tr><td>2013</td><td>9</td><td>30</td><td>-10</td><td>-25</td><td>1617</td><td>196</td><td> 15</td><td>3.2666667</td><td> 4.591837</td></tr>\n",
              "\t<tr><td>2013</td><td>9</td><td>30</td><td> NA</td><td> NA</td><td> 764</td><td> NA</td><td> NA</td><td>       NA</td><td>       NA</td></tr>\n",
              "\t<tr><td>2013</td><td>9</td><td>30</td><td> NA</td><td> NA</td><td> 213</td><td> NA</td><td> NA</td><td>       NA</td><td>       NA</td></tr>\n",
              "\t<tr><td>2013</td><td>9</td><td>30</td><td> NA</td><td> NA</td><td> 198</td><td> NA</td><td> NA</td><td>       NA</td><td>       NA</td></tr>\n",
              "\t<tr><td>2013</td><td>9</td><td>30</td><td> NA</td><td> NA</td><td> 764</td><td> NA</td><td> NA</td><td>       NA</td><td>       NA</td></tr>\n",
              "\t<tr><td>2013</td><td>9</td><td>30</td><td> NA</td><td> NA</td><td> 419</td><td> NA</td><td> NA</td><td>       NA</td><td>       NA</td></tr>\n",
              "\t<tr><td>2013</td><td>9</td><td>30</td><td> NA</td><td> NA</td><td> 431</td><td> NA</td><td> NA</td><td>       NA</td><td>       NA</td></tr>\n",
              "</tbody>\n",
              "</table>\n"
            ]
          },
          "metadata": {
            "tags": []
          }
        }
      ]
    },
    {
      "cell_type": "code",
      "metadata": {
        "colab": {
          "base_uri": "https://localhost:8080/",
          "height": 271
        },
        "id": "lBFHMhX53SH4",
        "outputId": "f837c90b-8eb6-4e76-9087-be8ba57b8713"
      },
      "source": [
        "flights %>% group_by(dest) %>%\n",
        "summarise(count = n(), dist = mean(distance, na.rm = T), delay= mean(arr_delay, na.rm=T)) %>%\n",
        "filter(count>20, dest != 'HNL') %>% head()"
      ],
      "execution_count": null,
      "outputs": [
        {
          "output_type": "display_data",
          "data": {
            "text/plain": [
              "  dest count dist      delay    \n",
              "1 ABQ    254 1826.0000  4.381890\n",
              "2 ACK    265  199.0000  4.852273\n",
              "3 ALB    439  143.0000 14.397129\n",
              "4 ATL  17215  757.1082 11.300113\n",
              "5 AUS   2439 1514.2530  6.019909\n",
              "6 AVL    275  583.5818  8.003831"
            ],
            "text/latex": "A tibble: 6 × 4\n\\begin{tabular}{llll}\n dest & count & dist & delay\\\\\n <chr> & <int> & <dbl> & <dbl>\\\\\n\\hline\n\t ABQ &   254 & 1826.0000 &  4.381890\\\\\n\t ACK &   265 &  199.0000 &  4.852273\\\\\n\t ALB &   439 &  143.0000 & 14.397129\\\\\n\t ATL & 17215 &  757.1082 & 11.300113\\\\\n\t AUS &  2439 & 1514.2530 &  6.019909\\\\\n\t AVL &   275 &  583.5818 &  8.003831\\\\\n\\end{tabular}\n",
            "text/markdown": "\nA tibble: 6 × 4\n\n| dest &lt;chr&gt; | count &lt;int&gt; | dist &lt;dbl&gt; | delay &lt;dbl&gt; |\n|---|---|---|---|\n| ABQ |   254 | 1826.0000 |  4.381890 |\n| ACK |   265 |  199.0000 |  4.852273 |\n| ALB |   439 |  143.0000 | 14.397129 |\n| ATL | 17215 |  757.1082 | 11.300113 |\n| AUS |  2439 | 1514.2530 |  6.019909 |\n| AVL |   275 |  583.5818 |  8.003831 |\n\n",
            "text/html": [
              "<table class=\"dataframe\">\n",
              "<caption>A tibble: 6 × 4</caption>\n",
              "<thead>\n",
              "\t<tr><th scope=col>dest</th><th scope=col>count</th><th scope=col>dist</th><th scope=col>delay</th></tr>\n",
              "\t<tr><th scope=col>&lt;chr&gt;</th><th scope=col>&lt;int&gt;</th><th scope=col>&lt;dbl&gt;</th><th scope=col>&lt;dbl&gt;</th></tr>\n",
              "</thead>\n",
              "<tbody>\n",
              "\t<tr><td>ABQ</td><td>  254</td><td>1826.0000</td><td> 4.381890</td></tr>\n",
              "\t<tr><td>ACK</td><td>  265</td><td> 199.0000</td><td> 4.852273</td></tr>\n",
              "\t<tr><td>ALB</td><td>  439</td><td> 143.0000</td><td>14.397129</td></tr>\n",
              "\t<tr><td>ATL</td><td>17215</td><td> 757.1082</td><td>11.300113</td></tr>\n",
              "\t<tr><td>AUS</td><td> 2439</td><td>1514.2530</td><td> 6.019909</td></tr>\n",
              "\t<tr><td>AVL</td><td>  275</td><td> 583.5818</td><td> 8.003831</td></tr>\n",
              "</tbody>\n",
              "</table>\n"
            ]
          },
          "metadata": {
            "tags": []
          }
        }
      ]
    },
    {
      "cell_type": "code",
      "metadata": {
        "id": "FBajg0O65Vcm"
      },
      "source": [
        "flights %>% group_by(dest) %>%\n",
        "summarise(count = n(), dist = mean(distance, na.rm = T), delay= mean(arr_delay, na.rm=T)) %>%\n",
        "filter(count>20, dest != 'HNL') %>% head()\n",
        "ggpplot"
      ],
      "execution_count": null,
      "outputs": []
    },
    {
      "cell_type": "code",
      "metadata": {
        "colab": {
          "base_uri": "https://localhost:8080/",
          "height": 1000
        },
        "id": "pZt2_oSo5Ve1",
        "outputId": "60ee301f-90ce-4498-aff3-5b8a2321e51f"
      },
      "source": [
        "flight_hw<- flights %>%\n",
        "             mutate(sky_time =hour*60+minute)\n",
        "flight_hw %>% group_by(dest) %>%\n",
        "summarise(count = n(), dist = mean(distance, na.rm = T), time = mean(sky_time, na.rm = T))"
      ],
      "execution_count": null,
      "outputs": [
        {
          "output_type": "display_data",
          "data": {
            "text/plain": [
              "    dest count dist      time     \n",
              "1   ABQ    254 1826.0000 1202.5433\n",
              "2   ACK    265  199.0000  626.8113\n",
              "3   ALB    439  143.0000  974.4784\n",
              "4   ANC      8 3370.0000  977.5000\n",
              "5   ATL  17215  757.1082  781.4686\n",
              "6   AUS   2439 1514.2530  915.1562\n",
              "7   AVL    275  583.5818  715.7745\n",
              "8   BDL    443  116.0000  918.1151\n",
              "9   BGR    375  378.0000 1016.9733\n",
              "10  BHM    297  865.9966 1155.4209\n",
              "11  BNA   6333  758.2135  838.3805\n",
              "12  BOS  15508  190.6370  848.3365\n",
              "13  BQN    896 1578.9833 1020.7355\n",
              "14  BTV   2589  265.0915  860.7285\n",
              "15  BUF   4681  296.8084  844.1641\n",
              "16  BUR    371 2465.0000 1053.8383\n",
              "17  BWI   1781  179.4183  951.5109\n",
              "18  BZN     36 1882.0000  501.3889\n",
              "19  CAE    116  603.5517 1092.0517\n",
              "20  CAK    864  397.0000  927.9225\n",
              "21  CHO     52  305.0000 1223.6538\n",
              "22  CHS   2884  632.9168  783.4258\n",
              "23  CLE   4573  414.1743  904.0420\n",
              "24  CLT  14064  538.0273  756.5833\n",
              "25  CMH   3524  476.5551  856.2287\n",
              "26  CRW    138  444.0000 1125.0000\n",
              "27  CVG   3941  575.1599  883.7402\n",
              "28  DAY   1525  537.1023  841.2374\n",
              "29  DCA   9705  211.0062  849.7012\n",
              "30  DEN   7266 1614.6784  797.8131\n",
              "⋮   ⋮    ⋮     ⋮         ⋮        \n",
              "76  PIT   2875  334.0612  797.4045\n",
              "77  PSE    365 1617.0000 1437.8603\n",
              "78  PSP     19 2378.0000  652.3684\n",
              "79  PVD    376  160.0000  941.4202\n",
              "80  PWM   2352  276.1284  940.6122\n",
              "81  RDU   8163  426.7577  828.4435\n",
              "82  RIC   2454  281.4046  944.3028\n",
              "83  ROC   2416  259.2508  902.2537\n",
              "84  RSW   3537 1072.8533  729.6370\n",
              "85  SAN   2737 2437.2992  857.3106\n",
              "86  SAT    686 1578.3411 1087.1706\n",
              "87  SAV    804  709.1841  787.1866\n",
              "88  SBN     10  645.4000  918.0000\n",
              "89  SDF   1157  645.9836  796.4183\n",
              "90  SEA   3923 2412.6653  859.5111\n",
              "91  SFO  13331 2577.9236  788.1365\n",
              "92  SJC    329 2569.0000 1113.4772\n",
              "93  SJU   5819 1599.8336  769.7553\n",
              "94  SLC   2467 1986.9866  879.7762\n",
              "95  SMF    284 2521.0000 1162.9472\n",
              "96  SNA    825 2434.0000  803.3188\n",
              "97  SRQ   1211 1044.6515  659.0652\n",
              "98  STL   4339  878.7232  808.8719\n",
              "99  STT    522 1626.9828  504.7490\n",
              "100 SYR   1761  205.9216  925.0307\n",
              "101 TPA   7466 1003.9356  812.9452\n",
              "102 TUL    315 1215.0000 1194.7238\n",
              "103 TVC    101  652.3861  867.3267\n",
              "104 TYS    631  638.8098 1190.8970\n",
              "105 XNA   1036 1142.5058  717.9218"
            ],
            "text/latex": "A tibble: 105 × 4\n\\begin{tabular}{llll}\n dest & count & dist & time\\\\\n <chr> & <int> & <dbl> & <dbl>\\\\\n\\hline\n\t ABQ &   254 & 1826.0000 & 1202.5433\\\\\n\t ACK &   265 &  199.0000 &  626.8113\\\\\n\t ALB &   439 &  143.0000 &  974.4784\\\\\n\t ANC &     8 & 3370.0000 &  977.5000\\\\\n\t ATL & 17215 &  757.1082 &  781.4686\\\\\n\t AUS &  2439 & 1514.2530 &  915.1562\\\\\n\t AVL &   275 &  583.5818 &  715.7745\\\\\n\t BDL &   443 &  116.0000 &  918.1151\\\\\n\t BGR &   375 &  378.0000 & 1016.9733\\\\\n\t BHM &   297 &  865.9966 & 1155.4209\\\\\n\t BNA &  6333 &  758.2135 &  838.3805\\\\\n\t BOS & 15508 &  190.6370 &  848.3365\\\\\n\t BQN &   896 & 1578.9833 & 1020.7355\\\\\n\t BTV &  2589 &  265.0915 &  860.7285\\\\\n\t BUF &  4681 &  296.8084 &  844.1641\\\\\n\t BUR &   371 & 2465.0000 & 1053.8383\\\\\n\t BWI &  1781 &  179.4183 &  951.5109\\\\\n\t BZN &    36 & 1882.0000 &  501.3889\\\\\n\t CAE &   116 &  603.5517 & 1092.0517\\\\\n\t CAK &   864 &  397.0000 &  927.9225\\\\\n\t CHO &    52 &  305.0000 & 1223.6538\\\\\n\t CHS &  2884 &  632.9168 &  783.4258\\\\\n\t CLE &  4573 &  414.1743 &  904.0420\\\\\n\t CLT & 14064 &  538.0273 &  756.5833\\\\\n\t CMH &  3524 &  476.5551 &  856.2287\\\\\n\t CRW &   138 &  444.0000 & 1125.0000\\\\\n\t CVG &  3941 &  575.1599 &  883.7402\\\\\n\t DAY &  1525 &  537.1023 &  841.2374\\\\\n\t DCA &  9705 &  211.0062 &  849.7012\\\\\n\t DEN &  7266 & 1614.6784 &  797.8131\\\\\n\t ⋮ & ⋮ & ⋮ & ⋮\\\\\n\t PIT &  2875 &  334.0612 &  797.4045\\\\\n\t PSE &   365 & 1617.0000 & 1437.8603\\\\\n\t PSP &    19 & 2378.0000 &  652.3684\\\\\n\t PVD &   376 &  160.0000 &  941.4202\\\\\n\t PWM &  2352 &  276.1284 &  940.6122\\\\\n\t RDU &  8163 &  426.7577 &  828.4435\\\\\n\t RIC &  2454 &  281.4046 &  944.3028\\\\\n\t ROC &  2416 &  259.2508 &  902.2537\\\\\n\t RSW &  3537 & 1072.8533 &  729.6370\\\\\n\t SAN &  2737 & 2437.2992 &  857.3106\\\\\n\t SAT &   686 & 1578.3411 & 1087.1706\\\\\n\t SAV &   804 &  709.1841 &  787.1866\\\\\n\t SBN &    10 &  645.4000 &  918.0000\\\\\n\t SDF &  1157 &  645.9836 &  796.4183\\\\\n\t SEA &  3923 & 2412.6653 &  859.5111\\\\\n\t SFO & 13331 & 2577.9236 &  788.1365\\\\\n\t SJC &   329 & 2569.0000 & 1113.4772\\\\\n\t SJU &  5819 & 1599.8336 &  769.7553\\\\\n\t SLC &  2467 & 1986.9866 &  879.7762\\\\\n\t SMF &   284 & 2521.0000 & 1162.9472\\\\\n\t SNA &   825 & 2434.0000 &  803.3188\\\\\n\t SRQ &  1211 & 1044.6515 &  659.0652\\\\\n\t STL &  4339 &  878.7232 &  808.8719\\\\\n\t STT &   522 & 1626.9828 &  504.7490\\\\\n\t SYR &  1761 &  205.9216 &  925.0307\\\\\n\t TPA &  7466 & 1003.9356 &  812.9452\\\\\n\t TUL &   315 & 1215.0000 & 1194.7238\\\\\n\t TVC &   101 &  652.3861 &  867.3267\\\\\n\t TYS &   631 &  638.8098 & 1190.8970\\\\\n\t XNA &  1036 & 1142.5058 &  717.9218\\\\\n\\end{tabular}\n",
            "text/markdown": "\nA tibble: 105 × 4\n\n| dest &lt;chr&gt; | count &lt;int&gt; | dist &lt;dbl&gt; | time &lt;dbl&gt; |\n|---|---|---|---|\n| ABQ |   254 | 1826.0000 | 1202.5433 |\n| ACK |   265 |  199.0000 |  626.8113 |\n| ALB |   439 |  143.0000 |  974.4784 |\n| ANC |     8 | 3370.0000 |  977.5000 |\n| ATL | 17215 |  757.1082 |  781.4686 |\n| AUS |  2439 | 1514.2530 |  915.1562 |\n| AVL |   275 |  583.5818 |  715.7745 |\n| BDL |   443 |  116.0000 |  918.1151 |\n| BGR |   375 |  378.0000 | 1016.9733 |\n| BHM |   297 |  865.9966 | 1155.4209 |\n| BNA |  6333 |  758.2135 |  838.3805 |\n| BOS | 15508 |  190.6370 |  848.3365 |\n| BQN |   896 | 1578.9833 | 1020.7355 |\n| BTV |  2589 |  265.0915 |  860.7285 |\n| BUF |  4681 |  296.8084 |  844.1641 |\n| BUR |   371 | 2465.0000 | 1053.8383 |\n| BWI |  1781 |  179.4183 |  951.5109 |\n| BZN |    36 | 1882.0000 |  501.3889 |\n| CAE |   116 |  603.5517 | 1092.0517 |\n| CAK |   864 |  397.0000 |  927.9225 |\n| CHO |    52 |  305.0000 | 1223.6538 |\n| CHS |  2884 |  632.9168 |  783.4258 |\n| CLE |  4573 |  414.1743 |  904.0420 |\n| CLT | 14064 |  538.0273 |  756.5833 |\n| CMH |  3524 |  476.5551 |  856.2287 |\n| CRW |   138 |  444.0000 | 1125.0000 |\n| CVG |  3941 |  575.1599 |  883.7402 |\n| DAY |  1525 |  537.1023 |  841.2374 |\n| DCA |  9705 |  211.0062 |  849.7012 |\n| DEN |  7266 | 1614.6784 |  797.8131 |\n| ⋮ | ⋮ | ⋮ | ⋮ |\n| PIT |  2875 |  334.0612 |  797.4045 |\n| PSE |   365 | 1617.0000 | 1437.8603 |\n| PSP |    19 | 2378.0000 |  652.3684 |\n| PVD |   376 |  160.0000 |  941.4202 |\n| PWM |  2352 |  276.1284 |  940.6122 |\n| RDU |  8163 |  426.7577 |  828.4435 |\n| RIC |  2454 |  281.4046 |  944.3028 |\n| ROC |  2416 |  259.2508 |  902.2537 |\n| RSW |  3537 | 1072.8533 |  729.6370 |\n| SAN |  2737 | 2437.2992 |  857.3106 |\n| SAT |   686 | 1578.3411 | 1087.1706 |\n| SAV |   804 |  709.1841 |  787.1866 |\n| SBN |    10 |  645.4000 |  918.0000 |\n| SDF |  1157 |  645.9836 |  796.4183 |\n| SEA |  3923 | 2412.6653 |  859.5111 |\n| SFO | 13331 | 2577.9236 |  788.1365 |\n| SJC |   329 | 2569.0000 | 1113.4772 |\n| SJU |  5819 | 1599.8336 |  769.7553 |\n| SLC |  2467 | 1986.9866 |  879.7762 |\n| SMF |   284 | 2521.0000 | 1162.9472 |\n| SNA |   825 | 2434.0000 |  803.3188 |\n| SRQ |  1211 | 1044.6515 |  659.0652 |\n| STL |  4339 |  878.7232 |  808.8719 |\n| STT |   522 | 1626.9828 |  504.7490 |\n| SYR |  1761 |  205.9216 |  925.0307 |\n| TPA |  7466 | 1003.9356 |  812.9452 |\n| TUL |   315 | 1215.0000 | 1194.7238 |\n| TVC |   101 |  652.3861 |  867.3267 |\n| TYS |   631 |  638.8098 | 1190.8970 |\n| XNA |  1036 | 1142.5058 |  717.9218 |\n\n",
            "text/html": [
              "<table class=\"dataframe\">\n",
              "<caption>A tibble: 105 × 4</caption>\n",
              "<thead>\n",
              "\t<tr><th scope=col>dest</th><th scope=col>count</th><th scope=col>dist</th><th scope=col>time</th></tr>\n",
              "\t<tr><th scope=col>&lt;chr&gt;</th><th scope=col>&lt;int&gt;</th><th scope=col>&lt;dbl&gt;</th><th scope=col>&lt;dbl&gt;</th></tr>\n",
              "</thead>\n",
              "<tbody>\n",
              "\t<tr><td>ABQ</td><td>  254</td><td>1826.0000</td><td>1202.5433</td></tr>\n",
              "\t<tr><td>ACK</td><td>  265</td><td> 199.0000</td><td> 626.8113</td></tr>\n",
              "\t<tr><td>ALB</td><td>  439</td><td> 143.0000</td><td> 974.4784</td></tr>\n",
              "\t<tr><td>ANC</td><td>    8</td><td>3370.0000</td><td> 977.5000</td></tr>\n",
              "\t<tr><td>ATL</td><td>17215</td><td> 757.1082</td><td> 781.4686</td></tr>\n",
              "\t<tr><td>AUS</td><td> 2439</td><td>1514.2530</td><td> 915.1562</td></tr>\n",
              "\t<tr><td>AVL</td><td>  275</td><td> 583.5818</td><td> 715.7745</td></tr>\n",
              "\t<tr><td>BDL</td><td>  443</td><td> 116.0000</td><td> 918.1151</td></tr>\n",
              "\t<tr><td>BGR</td><td>  375</td><td> 378.0000</td><td>1016.9733</td></tr>\n",
              "\t<tr><td>BHM</td><td>  297</td><td> 865.9966</td><td>1155.4209</td></tr>\n",
              "\t<tr><td>BNA</td><td> 6333</td><td> 758.2135</td><td> 838.3805</td></tr>\n",
              "\t<tr><td>BOS</td><td>15508</td><td> 190.6370</td><td> 848.3365</td></tr>\n",
              "\t<tr><td>BQN</td><td>  896</td><td>1578.9833</td><td>1020.7355</td></tr>\n",
              "\t<tr><td>BTV</td><td> 2589</td><td> 265.0915</td><td> 860.7285</td></tr>\n",
              "\t<tr><td>BUF</td><td> 4681</td><td> 296.8084</td><td> 844.1641</td></tr>\n",
              "\t<tr><td>BUR</td><td>  371</td><td>2465.0000</td><td>1053.8383</td></tr>\n",
              "\t<tr><td>BWI</td><td> 1781</td><td> 179.4183</td><td> 951.5109</td></tr>\n",
              "\t<tr><td>BZN</td><td>   36</td><td>1882.0000</td><td> 501.3889</td></tr>\n",
              "\t<tr><td>CAE</td><td>  116</td><td> 603.5517</td><td>1092.0517</td></tr>\n",
              "\t<tr><td>CAK</td><td>  864</td><td> 397.0000</td><td> 927.9225</td></tr>\n",
              "\t<tr><td>CHO</td><td>   52</td><td> 305.0000</td><td>1223.6538</td></tr>\n",
              "\t<tr><td>CHS</td><td> 2884</td><td> 632.9168</td><td> 783.4258</td></tr>\n",
              "\t<tr><td>CLE</td><td> 4573</td><td> 414.1743</td><td> 904.0420</td></tr>\n",
              "\t<tr><td>CLT</td><td>14064</td><td> 538.0273</td><td> 756.5833</td></tr>\n",
              "\t<tr><td>CMH</td><td> 3524</td><td> 476.5551</td><td> 856.2287</td></tr>\n",
              "\t<tr><td>CRW</td><td>  138</td><td> 444.0000</td><td>1125.0000</td></tr>\n",
              "\t<tr><td>CVG</td><td> 3941</td><td> 575.1599</td><td> 883.7402</td></tr>\n",
              "\t<tr><td>DAY</td><td> 1525</td><td> 537.1023</td><td> 841.2374</td></tr>\n",
              "\t<tr><td>DCA</td><td> 9705</td><td> 211.0062</td><td> 849.7012</td></tr>\n",
              "\t<tr><td>DEN</td><td> 7266</td><td>1614.6784</td><td> 797.8131</td></tr>\n",
              "\t<tr><td>⋮</td><td>⋮</td><td>⋮</td><td>⋮</td></tr>\n",
              "\t<tr><td>PIT</td><td> 2875</td><td> 334.0612</td><td> 797.4045</td></tr>\n",
              "\t<tr><td>PSE</td><td>  365</td><td>1617.0000</td><td>1437.8603</td></tr>\n",
              "\t<tr><td>PSP</td><td>   19</td><td>2378.0000</td><td> 652.3684</td></tr>\n",
              "\t<tr><td>PVD</td><td>  376</td><td> 160.0000</td><td> 941.4202</td></tr>\n",
              "\t<tr><td>PWM</td><td> 2352</td><td> 276.1284</td><td> 940.6122</td></tr>\n",
              "\t<tr><td>RDU</td><td> 8163</td><td> 426.7577</td><td> 828.4435</td></tr>\n",
              "\t<tr><td>RIC</td><td> 2454</td><td> 281.4046</td><td> 944.3028</td></tr>\n",
              "\t<tr><td>ROC</td><td> 2416</td><td> 259.2508</td><td> 902.2537</td></tr>\n",
              "\t<tr><td>RSW</td><td> 3537</td><td>1072.8533</td><td> 729.6370</td></tr>\n",
              "\t<tr><td>SAN</td><td> 2737</td><td>2437.2992</td><td> 857.3106</td></tr>\n",
              "\t<tr><td>SAT</td><td>  686</td><td>1578.3411</td><td>1087.1706</td></tr>\n",
              "\t<tr><td>SAV</td><td>  804</td><td> 709.1841</td><td> 787.1866</td></tr>\n",
              "\t<tr><td>SBN</td><td>   10</td><td> 645.4000</td><td> 918.0000</td></tr>\n",
              "\t<tr><td>SDF</td><td> 1157</td><td> 645.9836</td><td> 796.4183</td></tr>\n",
              "\t<tr><td>SEA</td><td> 3923</td><td>2412.6653</td><td> 859.5111</td></tr>\n",
              "\t<tr><td>SFO</td><td>13331</td><td>2577.9236</td><td> 788.1365</td></tr>\n",
              "\t<tr><td>SJC</td><td>  329</td><td>2569.0000</td><td>1113.4772</td></tr>\n",
              "\t<tr><td>SJU</td><td> 5819</td><td>1599.8336</td><td> 769.7553</td></tr>\n",
              "\t<tr><td>SLC</td><td> 2467</td><td>1986.9866</td><td> 879.7762</td></tr>\n",
              "\t<tr><td>SMF</td><td>  284</td><td>2521.0000</td><td>1162.9472</td></tr>\n",
              "\t<tr><td>SNA</td><td>  825</td><td>2434.0000</td><td> 803.3188</td></tr>\n",
              "\t<tr><td>SRQ</td><td> 1211</td><td>1044.6515</td><td> 659.0652</td></tr>\n",
              "\t<tr><td>STL</td><td> 4339</td><td> 878.7232</td><td> 808.8719</td></tr>\n",
              "\t<tr><td>STT</td><td>  522</td><td>1626.9828</td><td> 504.7490</td></tr>\n",
              "\t<tr><td>SYR</td><td> 1761</td><td> 205.9216</td><td> 925.0307</td></tr>\n",
              "\t<tr><td>TPA</td><td> 7466</td><td>1003.9356</td><td> 812.9452</td></tr>\n",
              "\t<tr><td>TUL</td><td>  315</td><td>1215.0000</td><td>1194.7238</td></tr>\n",
              "\t<tr><td>TVC</td><td>  101</td><td> 652.3861</td><td> 867.3267</td></tr>\n",
              "\t<tr><td>TYS</td><td>  631</td><td> 638.8098</td><td>1190.8970</td></tr>\n",
              "\t<tr><td>XNA</td><td> 1036</td><td>1142.5058</td><td> 717.9218</td></tr>\n",
              "</tbody>\n",
              "</table>\n"
            ]
          },
          "metadata": {
            "tags": []
          }
        }
      ]
    },
    {
      "cell_type": "code",
      "metadata": {
        "colab": {
          "base_uri": "https://localhost:8080/",
          "height": 1000
        },
        "id": "wUijpwXM5Vhv",
        "outputId": "60f706b9-9be2-4d50-9c40-8b53e5183e6b"
      },
      "source": [
        "flight_hw %>% group_by(dest) %>%\n",
        "summarise(count = n(), dist = mean(distance, na.rm = T), time = mean(sky_time, na.rm = T)) %>%\n",
        "filter(count>30)"
      ],
      "execution_count": null,
      "outputs": [
        {
          "output_type": "display_data",
          "data": {
            "text/plain": [
              "   dest count dist       time     \n",
              "1  ABQ    254 1826.0000  1202.5433\n",
              "2  ACK    265  199.0000   626.8113\n",
              "3  ALB    439  143.0000   974.4784\n",
              "4  ATL  17215  757.1082   781.4686\n",
              "5  AUS   2439 1514.2530   915.1562\n",
              "6  AVL    275  583.5818   715.7745\n",
              "7  BDL    443  116.0000   918.1151\n",
              "8  BGR    375  378.0000  1016.9733\n",
              "9  BHM    297  865.9966  1155.4209\n",
              "10 BNA   6333  758.2135   838.3805\n",
              "11 BOS  15508  190.6370   848.3365\n",
              "12 BQN    896 1578.9833  1020.7355\n",
              "13 BTV   2589  265.0915   860.7285\n",
              "14 BUF   4681  296.8084   844.1641\n",
              "15 BUR    371 2465.0000  1053.8383\n",
              "16 BWI   1781  179.4183   951.5109\n",
              "17 BZN     36 1882.0000   501.3889\n",
              "18 CAE    116  603.5517  1092.0517\n",
              "19 CAK    864  397.0000   927.9225\n",
              "20 CHO     52  305.0000  1223.6538\n",
              "21 CHS   2884  632.9168   783.4258\n",
              "22 CLE   4573  414.1743   904.0420\n",
              "23 CLT  14064  538.0273   756.5833\n",
              "24 CMH   3524  476.5551   856.2287\n",
              "25 CRW    138  444.0000  1125.0000\n",
              "26 CVG   3941  575.1599   883.7402\n",
              "27 DAY   1525  537.1023   841.2374\n",
              "28 DCA   9705  211.0062   849.7012\n",
              "29 DEN   7266 1614.6784   797.8131\n",
              "30 DFW   8738 1383.0430   783.2432\n",
              "⋮  ⋮    ⋮     ⋮          ⋮        \n",
              "67 PHL   1632   94.32353  799.7230\n",
              "68 PHX   4656 2141.30326  803.9854\n",
              "69 PIT   2875  334.06122  797.4045\n",
              "70 PSE    365 1617.00000 1437.8603\n",
              "71 PVD    376  160.00000  941.4202\n",
              "72 PWM   2352  276.12840  940.6122\n",
              "73 RDU   8163  426.75769  828.4435\n",
              "74 RIC   2454  281.40465  944.3028\n",
              "75 ROC   2416  259.25083  902.2537\n",
              "76 RSW   3537 1072.85327  729.6370\n",
              "77 SAN   2737 2437.29923  857.3106\n",
              "78 SAT    686 1578.34111 1087.1706\n",
              "79 SAV    804  709.18408  787.1866\n",
              "80 SDF   1157  645.98358  796.4183\n",
              "81 SEA   3923 2412.66531  859.5111\n",
              "82 SFO  13331 2577.92356  788.1365\n",
              "83 SJC    329 2569.00000 1113.4772\n",
              "84 SJU   5819 1599.83365  769.7553\n",
              "85 SLC   2467 1986.98662  879.7762\n",
              "86 SMF    284 2521.00000 1162.9472\n",
              "87 SNA    825 2434.00000  803.3188\n",
              "88 SRQ   1211 1044.65153  659.0652\n",
              "89 STL   4339  878.72321  808.8719\n",
              "90 STT    522 1626.98276  504.7490\n",
              "91 SYR   1761  205.92164  925.0307\n",
              "92 TPA   7466 1003.93557  812.9452\n",
              "93 TUL    315 1215.00000 1194.7238\n",
              "94 TVC    101  652.38614  867.3267\n",
              "95 TYS    631  638.80983 1190.8970\n",
              "96 XNA   1036 1142.50579  717.9218"
            ],
            "text/latex": "A tibble: 96 × 4\n\\begin{tabular}{llll}\n dest & count & dist & time\\\\\n <chr> & <int> & <dbl> & <dbl>\\\\\n\\hline\n\t ABQ &   254 & 1826.0000 & 1202.5433\\\\\n\t ACK &   265 &  199.0000 &  626.8113\\\\\n\t ALB &   439 &  143.0000 &  974.4784\\\\\n\t ATL & 17215 &  757.1082 &  781.4686\\\\\n\t AUS &  2439 & 1514.2530 &  915.1562\\\\\n\t AVL &   275 &  583.5818 &  715.7745\\\\\n\t BDL &   443 &  116.0000 &  918.1151\\\\\n\t BGR &   375 &  378.0000 & 1016.9733\\\\\n\t BHM &   297 &  865.9966 & 1155.4209\\\\\n\t BNA &  6333 &  758.2135 &  838.3805\\\\\n\t BOS & 15508 &  190.6370 &  848.3365\\\\\n\t BQN &   896 & 1578.9833 & 1020.7355\\\\\n\t BTV &  2589 &  265.0915 &  860.7285\\\\\n\t BUF &  4681 &  296.8084 &  844.1641\\\\\n\t BUR &   371 & 2465.0000 & 1053.8383\\\\\n\t BWI &  1781 &  179.4183 &  951.5109\\\\\n\t BZN &    36 & 1882.0000 &  501.3889\\\\\n\t CAE &   116 &  603.5517 & 1092.0517\\\\\n\t CAK &   864 &  397.0000 &  927.9225\\\\\n\t CHO &    52 &  305.0000 & 1223.6538\\\\\n\t CHS &  2884 &  632.9168 &  783.4258\\\\\n\t CLE &  4573 &  414.1743 &  904.0420\\\\\n\t CLT & 14064 &  538.0273 &  756.5833\\\\\n\t CMH &  3524 &  476.5551 &  856.2287\\\\\n\t CRW &   138 &  444.0000 & 1125.0000\\\\\n\t CVG &  3941 &  575.1599 &  883.7402\\\\\n\t DAY &  1525 &  537.1023 &  841.2374\\\\\n\t DCA &  9705 &  211.0062 &  849.7012\\\\\n\t DEN &  7266 & 1614.6784 &  797.8131\\\\\n\t DFW &  8738 & 1383.0430 &  783.2432\\\\\n\t ⋮ & ⋮ & ⋮ & ⋮\\\\\n\t PHL &  1632 &   94.32353 &  799.7230\\\\\n\t PHX &  4656 & 2141.30326 &  803.9854\\\\\n\t PIT &  2875 &  334.06122 &  797.4045\\\\\n\t PSE &   365 & 1617.00000 & 1437.8603\\\\\n\t PVD &   376 &  160.00000 &  941.4202\\\\\n\t PWM &  2352 &  276.12840 &  940.6122\\\\\n\t RDU &  8163 &  426.75769 &  828.4435\\\\\n\t RIC &  2454 &  281.40465 &  944.3028\\\\\n\t ROC &  2416 &  259.25083 &  902.2537\\\\\n\t RSW &  3537 & 1072.85327 &  729.6370\\\\\n\t SAN &  2737 & 2437.29923 &  857.3106\\\\\n\t SAT &   686 & 1578.34111 & 1087.1706\\\\\n\t SAV &   804 &  709.18408 &  787.1866\\\\\n\t SDF &  1157 &  645.98358 &  796.4183\\\\\n\t SEA &  3923 & 2412.66531 &  859.5111\\\\\n\t SFO & 13331 & 2577.92356 &  788.1365\\\\\n\t SJC &   329 & 2569.00000 & 1113.4772\\\\\n\t SJU &  5819 & 1599.83365 &  769.7553\\\\\n\t SLC &  2467 & 1986.98662 &  879.7762\\\\\n\t SMF &   284 & 2521.00000 & 1162.9472\\\\\n\t SNA &   825 & 2434.00000 &  803.3188\\\\\n\t SRQ &  1211 & 1044.65153 &  659.0652\\\\\n\t STL &  4339 &  878.72321 &  808.8719\\\\\n\t STT &   522 & 1626.98276 &  504.7490\\\\\n\t SYR &  1761 &  205.92164 &  925.0307\\\\\n\t TPA &  7466 & 1003.93557 &  812.9452\\\\\n\t TUL &   315 & 1215.00000 & 1194.7238\\\\\n\t TVC &   101 &  652.38614 &  867.3267\\\\\n\t TYS &   631 &  638.80983 & 1190.8970\\\\\n\t XNA &  1036 & 1142.50579 &  717.9218\\\\\n\\end{tabular}\n",
            "text/markdown": "\nA tibble: 96 × 4\n\n| dest &lt;chr&gt; | count &lt;int&gt; | dist &lt;dbl&gt; | time &lt;dbl&gt; |\n|---|---|---|---|\n| ABQ |   254 | 1826.0000 | 1202.5433 |\n| ACK |   265 |  199.0000 |  626.8113 |\n| ALB |   439 |  143.0000 |  974.4784 |\n| ATL | 17215 |  757.1082 |  781.4686 |\n| AUS |  2439 | 1514.2530 |  915.1562 |\n| AVL |   275 |  583.5818 |  715.7745 |\n| BDL |   443 |  116.0000 |  918.1151 |\n| BGR |   375 |  378.0000 | 1016.9733 |\n| BHM |   297 |  865.9966 | 1155.4209 |\n| BNA |  6333 |  758.2135 |  838.3805 |\n| BOS | 15508 |  190.6370 |  848.3365 |\n| BQN |   896 | 1578.9833 | 1020.7355 |\n| BTV |  2589 |  265.0915 |  860.7285 |\n| BUF |  4681 |  296.8084 |  844.1641 |\n| BUR |   371 | 2465.0000 | 1053.8383 |\n| BWI |  1781 |  179.4183 |  951.5109 |\n| BZN |    36 | 1882.0000 |  501.3889 |\n| CAE |   116 |  603.5517 | 1092.0517 |\n| CAK |   864 |  397.0000 |  927.9225 |\n| CHO |    52 |  305.0000 | 1223.6538 |\n| CHS |  2884 |  632.9168 |  783.4258 |\n| CLE |  4573 |  414.1743 |  904.0420 |\n| CLT | 14064 |  538.0273 |  756.5833 |\n| CMH |  3524 |  476.5551 |  856.2287 |\n| CRW |   138 |  444.0000 | 1125.0000 |\n| CVG |  3941 |  575.1599 |  883.7402 |\n| DAY |  1525 |  537.1023 |  841.2374 |\n| DCA |  9705 |  211.0062 |  849.7012 |\n| DEN |  7266 | 1614.6784 |  797.8131 |\n| DFW |  8738 | 1383.0430 |  783.2432 |\n| ⋮ | ⋮ | ⋮ | ⋮ |\n| PHL |  1632 |   94.32353 |  799.7230 |\n| PHX |  4656 | 2141.30326 |  803.9854 |\n| PIT |  2875 |  334.06122 |  797.4045 |\n| PSE |   365 | 1617.00000 | 1437.8603 |\n| PVD |   376 |  160.00000 |  941.4202 |\n| PWM |  2352 |  276.12840 |  940.6122 |\n| RDU |  8163 |  426.75769 |  828.4435 |\n| RIC |  2454 |  281.40465 |  944.3028 |\n| ROC |  2416 |  259.25083 |  902.2537 |\n| RSW |  3537 | 1072.85327 |  729.6370 |\n| SAN |  2737 | 2437.29923 |  857.3106 |\n| SAT |   686 | 1578.34111 | 1087.1706 |\n| SAV |   804 |  709.18408 |  787.1866 |\n| SDF |  1157 |  645.98358 |  796.4183 |\n| SEA |  3923 | 2412.66531 |  859.5111 |\n| SFO | 13331 | 2577.92356 |  788.1365 |\n| SJC |   329 | 2569.00000 | 1113.4772 |\n| SJU |  5819 | 1599.83365 |  769.7553 |\n| SLC |  2467 | 1986.98662 |  879.7762 |\n| SMF |   284 | 2521.00000 | 1162.9472 |\n| SNA |   825 | 2434.00000 |  803.3188 |\n| SRQ |  1211 | 1044.65153 |  659.0652 |\n| STL |  4339 |  878.72321 |  808.8719 |\n| STT |   522 | 1626.98276 |  504.7490 |\n| SYR |  1761 |  205.92164 |  925.0307 |\n| TPA |  7466 | 1003.93557 |  812.9452 |\n| TUL |   315 | 1215.00000 | 1194.7238 |\n| TVC |   101 |  652.38614 |  867.3267 |\n| TYS |   631 |  638.80983 | 1190.8970 |\n| XNA |  1036 | 1142.50579 |  717.9218 |\n\n",
            "text/html": [
              "<table class=\"dataframe\">\n",
              "<caption>A tibble: 96 × 4</caption>\n",
              "<thead>\n",
              "\t<tr><th scope=col>dest</th><th scope=col>count</th><th scope=col>dist</th><th scope=col>time</th></tr>\n",
              "\t<tr><th scope=col>&lt;chr&gt;</th><th scope=col>&lt;int&gt;</th><th scope=col>&lt;dbl&gt;</th><th scope=col>&lt;dbl&gt;</th></tr>\n",
              "</thead>\n",
              "<tbody>\n",
              "\t<tr><td>ABQ</td><td>  254</td><td>1826.0000</td><td>1202.5433</td></tr>\n",
              "\t<tr><td>ACK</td><td>  265</td><td> 199.0000</td><td> 626.8113</td></tr>\n",
              "\t<tr><td>ALB</td><td>  439</td><td> 143.0000</td><td> 974.4784</td></tr>\n",
              "\t<tr><td>ATL</td><td>17215</td><td> 757.1082</td><td> 781.4686</td></tr>\n",
              "\t<tr><td>AUS</td><td> 2439</td><td>1514.2530</td><td> 915.1562</td></tr>\n",
              "\t<tr><td>AVL</td><td>  275</td><td> 583.5818</td><td> 715.7745</td></tr>\n",
              "\t<tr><td>BDL</td><td>  443</td><td> 116.0000</td><td> 918.1151</td></tr>\n",
              "\t<tr><td>BGR</td><td>  375</td><td> 378.0000</td><td>1016.9733</td></tr>\n",
              "\t<tr><td>BHM</td><td>  297</td><td> 865.9966</td><td>1155.4209</td></tr>\n",
              "\t<tr><td>BNA</td><td> 6333</td><td> 758.2135</td><td> 838.3805</td></tr>\n",
              "\t<tr><td>BOS</td><td>15508</td><td> 190.6370</td><td> 848.3365</td></tr>\n",
              "\t<tr><td>BQN</td><td>  896</td><td>1578.9833</td><td>1020.7355</td></tr>\n",
              "\t<tr><td>BTV</td><td> 2589</td><td> 265.0915</td><td> 860.7285</td></tr>\n",
              "\t<tr><td>BUF</td><td> 4681</td><td> 296.8084</td><td> 844.1641</td></tr>\n",
              "\t<tr><td>BUR</td><td>  371</td><td>2465.0000</td><td>1053.8383</td></tr>\n",
              "\t<tr><td>BWI</td><td> 1781</td><td> 179.4183</td><td> 951.5109</td></tr>\n",
              "\t<tr><td>BZN</td><td>   36</td><td>1882.0000</td><td> 501.3889</td></tr>\n",
              "\t<tr><td>CAE</td><td>  116</td><td> 603.5517</td><td>1092.0517</td></tr>\n",
              "\t<tr><td>CAK</td><td>  864</td><td> 397.0000</td><td> 927.9225</td></tr>\n",
              "\t<tr><td>CHO</td><td>   52</td><td> 305.0000</td><td>1223.6538</td></tr>\n",
              "\t<tr><td>CHS</td><td> 2884</td><td> 632.9168</td><td> 783.4258</td></tr>\n",
              "\t<tr><td>CLE</td><td> 4573</td><td> 414.1743</td><td> 904.0420</td></tr>\n",
              "\t<tr><td>CLT</td><td>14064</td><td> 538.0273</td><td> 756.5833</td></tr>\n",
              "\t<tr><td>CMH</td><td> 3524</td><td> 476.5551</td><td> 856.2287</td></tr>\n",
              "\t<tr><td>CRW</td><td>  138</td><td> 444.0000</td><td>1125.0000</td></tr>\n",
              "\t<tr><td>CVG</td><td> 3941</td><td> 575.1599</td><td> 883.7402</td></tr>\n",
              "\t<tr><td>DAY</td><td> 1525</td><td> 537.1023</td><td> 841.2374</td></tr>\n",
              "\t<tr><td>DCA</td><td> 9705</td><td> 211.0062</td><td> 849.7012</td></tr>\n",
              "\t<tr><td>DEN</td><td> 7266</td><td>1614.6784</td><td> 797.8131</td></tr>\n",
              "\t<tr><td>DFW</td><td> 8738</td><td>1383.0430</td><td> 783.2432</td></tr>\n",
              "\t<tr><td>⋮</td><td>⋮</td><td>⋮</td><td>⋮</td></tr>\n",
              "\t<tr><td>PHL</td><td> 1632</td><td>  94.32353</td><td> 799.7230</td></tr>\n",
              "\t<tr><td>PHX</td><td> 4656</td><td>2141.30326</td><td> 803.9854</td></tr>\n",
              "\t<tr><td>PIT</td><td> 2875</td><td> 334.06122</td><td> 797.4045</td></tr>\n",
              "\t<tr><td>PSE</td><td>  365</td><td>1617.00000</td><td>1437.8603</td></tr>\n",
              "\t<tr><td>PVD</td><td>  376</td><td> 160.00000</td><td> 941.4202</td></tr>\n",
              "\t<tr><td>PWM</td><td> 2352</td><td> 276.12840</td><td> 940.6122</td></tr>\n",
              "\t<tr><td>RDU</td><td> 8163</td><td> 426.75769</td><td> 828.4435</td></tr>\n",
              "\t<tr><td>RIC</td><td> 2454</td><td> 281.40465</td><td> 944.3028</td></tr>\n",
              "\t<tr><td>ROC</td><td> 2416</td><td> 259.25083</td><td> 902.2537</td></tr>\n",
              "\t<tr><td>RSW</td><td> 3537</td><td>1072.85327</td><td> 729.6370</td></tr>\n",
              "\t<tr><td>SAN</td><td> 2737</td><td>2437.29923</td><td> 857.3106</td></tr>\n",
              "\t<tr><td>SAT</td><td>  686</td><td>1578.34111</td><td>1087.1706</td></tr>\n",
              "\t<tr><td>SAV</td><td>  804</td><td> 709.18408</td><td> 787.1866</td></tr>\n",
              "\t<tr><td>SDF</td><td> 1157</td><td> 645.98358</td><td> 796.4183</td></tr>\n",
              "\t<tr><td>SEA</td><td> 3923</td><td>2412.66531</td><td> 859.5111</td></tr>\n",
              "\t<tr><td>SFO</td><td>13331</td><td>2577.92356</td><td> 788.1365</td></tr>\n",
              "\t<tr><td>SJC</td><td>  329</td><td>2569.00000</td><td>1113.4772</td></tr>\n",
              "\t<tr><td>SJU</td><td> 5819</td><td>1599.83365</td><td> 769.7553</td></tr>\n",
              "\t<tr><td>SLC</td><td> 2467</td><td>1986.98662</td><td> 879.7762</td></tr>\n",
              "\t<tr><td>SMF</td><td>  284</td><td>2521.00000</td><td>1162.9472</td></tr>\n",
              "\t<tr><td>SNA</td><td>  825</td><td>2434.00000</td><td> 803.3188</td></tr>\n",
              "\t<tr><td>SRQ</td><td> 1211</td><td>1044.65153</td><td> 659.0652</td></tr>\n",
              "\t<tr><td>STL</td><td> 4339</td><td> 878.72321</td><td> 808.8719</td></tr>\n",
              "\t<tr><td>STT</td><td>  522</td><td>1626.98276</td><td> 504.7490</td></tr>\n",
              "\t<tr><td>SYR</td><td> 1761</td><td> 205.92164</td><td> 925.0307</td></tr>\n",
              "\t<tr><td>TPA</td><td> 7466</td><td>1003.93557</td><td> 812.9452</td></tr>\n",
              "\t<tr><td>TUL</td><td>  315</td><td>1215.00000</td><td>1194.7238</td></tr>\n",
              "\t<tr><td>TVC</td><td>  101</td><td> 652.38614</td><td> 867.3267</td></tr>\n",
              "\t<tr><td>TYS</td><td>  631</td><td> 638.80983</td><td>1190.8970</td></tr>\n",
              "\t<tr><td>XNA</td><td> 1036</td><td>1142.50579</td><td> 717.9218</td></tr>\n",
              "</tbody>\n",
              "</table>\n"
            ]
          },
          "metadata": {
            "tags": []
          }
        }
      ]
    },
    {
      "cell_type": "code",
      "metadata": {
        "colab": {
          "base_uri": "https://localhost:8080/",
          "height": 472
        },
        "id": "ANlNczwD_p2H",
        "outputId": "4a4d7447-207f-461e-c4bb-e33a91c6da7e"
      },
      "source": [
        "flight_hw %>% group_by(dest) %>%\n",
        "summarise(count = n(), dist = mean(distance, na.rm = T), time = mean(sky_time, na.rm = T)) %>%\n",
        "filter(count>30) %>%\n",
        "ggplot(mapping = aes(x=dist, y=time,)) +\n",
        "geom_point(aes(size=count), alpha =1/3) +\n",
        "geom_smooth(se = F) +\n",
        "geom_line()"
      ],
      "execution_count": null,
      "outputs": [
        {
          "output_type": "stream",
          "text": [
            "`geom_smooth()` using method = 'loess' and formula 'y ~ x'\n",
            "\n"
          ],
          "name": "stderr"
        },
        {
          "output_type": "display_data",
          "data": {
            "image/png": "[encoded data removed]",
            "text/plain": [
              "plot without title"
            ]
          },
          "metadata": {
            "tags": [],
            "image/png": {
              "width": 420,
              "height": 420
            }
          }
        }
      ]
    }
  ]
}